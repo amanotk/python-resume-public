{
 "cells": [
  {
   "cell_type": "markdown",
   "id": "3e54f218",
   "metadata": {},
   "source": [
    "# 5. 便利な組み込み型"
   ]
  },
  {
   "cell_type": "markdown",
   "id": "0ec8f4db",
   "metadata": {},
   "source": [
    "## tuple"
   ]
  },
  {
   "cell_type": "code",
   "execution_count": 1,
   "id": "9ebd97fd",
   "metadata": {
    "execution": {
     "iopub.execute_input": "2022-04-15T01:51:43.627900Z",
     "iopub.status.busy": "2022-04-15T01:51:43.621421Z",
     "iopub.status.idle": "2022-04-15T01:51:43.633465Z",
     "shell.execute_reply": "2022-04-15T01:51:43.632956Z"
    }
   },
   "outputs": [
    {
     "data": {
      "text/plain": [
       "(1, 2, 3)"
      ]
     },
     "execution_count": 1,
     "metadata": {},
     "output_type": "execute_result"
    }
   ],
   "source": [
    "# サイズ3のtuple\n",
    "(1, 2, 3)"
   ]
  },
  {
   "cell_type": "code",
   "execution_count": 2,
   "id": "afcb0907",
   "metadata": {
    "execution": {
     "iopub.execute_input": "2022-04-15T01:51:43.637068Z",
     "iopub.status.busy": "2022-04-15T01:51:43.636541Z",
     "iopub.status.idle": "2022-04-15T01:51:43.638981Z",
     "shell.execute_reply": "2022-04-15T01:51:43.639337Z"
    }
   },
   "outputs": [
    {
     "data": {
      "text/plain": [
       "()"
      ]
     },
     "execution_count": 2,
     "metadata": {},
     "output_type": "execute_result"
    }
   ],
   "source": [
    "# 空のtuple\n",
    "()"
   ]
  },
  {
   "cell_type": "code",
   "execution_count": 3,
   "id": "6852a048",
   "metadata": {
    "execution": {
     "iopub.execute_input": "2022-04-15T01:51:43.643196Z",
     "iopub.status.busy": "2022-04-15T01:51:43.642696Z",
     "iopub.status.idle": "2022-04-15T01:51:43.645595Z",
     "shell.execute_reply": "2022-04-15T01:51:43.645936Z"
    }
   },
   "outputs": [
    {
     "data": {
      "text/plain": [
       "(1, 'string', ('this', 'is', 'tuple'))"
      ]
     },
     "execution_count": 3,
     "metadata": {},
     "output_type": "execute_result"
    }
   ],
   "source": [
    "# tupleを作る\n",
    "a = ('this', 'is', 'tuple') \n",
    "\n",
    "# 任意のPythonオブジェクトが要素となれる\n",
    "(1, 'string', a) "
   ]
  },
  {
   "cell_type": "code",
   "execution_count": 4,
   "id": "b273570b",
   "metadata": {
    "execution": {
     "iopub.execute_input": "2022-04-15T01:51:43.649216Z",
     "iopub.status.busy": "2022-04-15T01:51:43.648797Z",
     "iopub.status.idle": "2022-04-15T01:51:43.651704Z",
     "shell.execute_reply": "2022-04-15T01:51:43.651328Z"
    }
   },
   "outputs": [
    {
     "data": {
      "text/plain": [
       "'this'"
      ]
     },
     "execution_count": 4,
     "metadata": {},
     "output_type": "execute_result"
    }
   ],
   "source": [
    "# 最初の要素にアクセス\n",
    "a[0]"
   ]
  },
  {
   "cell_type": "code",
   "execution_count": 5,
   "id": "64503c3f",
   "metadata": {
    "execution": {
     "iopub.execute_input": "2022-04-15T01:51:43.655303Z",
     "iopub.status.busy": "2022-04-15T01:51:43.654877Z",
     "iopub.status.idle": "2022-04-15T01:51:43.657727Z",
     "shell.execute_reply": "2022-04-15T01:51:43.657296Z"
    }
   },
   "outputs": [
    {
     "name": "stdout",
     "output_type": "stream",
     "text": [
      "Traceback (most recent call last):\n",
      "  File \"/tmp/ipykernel_773864/3093065121.py\", line 4, in <module>\n",
      "    a[0] = 'that'\n",
      "TypeError: 'tuple' object does not support item assignment\n",
      "\n"
     ]
    }
   ],
   "source": [
    "# try-exceptはエラーを出さないための処理なので無視してよい\n",
    "try:\n",
    "    # 代入(値の更新)はできない\n",
    "    a[0] = 'that'\n",
    "except Exception as e:\n",
    "    import traceback\n",
    "    print(traceback.format_exc())"
   ]
  },
  {
   "cell_type": "code",
   "execution_count": 6,
   "id": "23970342",
   "metadata": {
    "execution": {
     "iopub.execute_input": "2022-04-15T01:51:43.660829Z",
     "iopub.status.busy": "2022-04-15T01:51:43.660411Z",
     "iopub.status.idle": "2022-04-15T01:51:43.662670Z",
     "shell.execute_reply": "2022-04-15T01:51:43.662240Z"
    }
   },
   "outputs": [],
   "source": [
    "# 関数の返値がtuple\n",
    "def test_tuple(a, b):\n",
    "    return a+b, a-b"
   ]
  },
  {
   "cell_type": "code",
   "execution_count": 7,
   "id": "a49a71a2",
   "metadata": {
    "execution": {
     "iopub.execute_input": "2022-04-15T01:51:43.665960Z",
     "iopub.status.busy": "2022-04-15T01:51:43.665539Z",
     "iopub.status.idle": "2022-04-15T01:51:43.668519Z",
     "shell.execute_reply": "2022-04-15T01:51:43.668094Z"
    }
   },
   "outputs": [
    {
     "data": {
      "text/plain": [
       "(3, -1)"
      ]
     },
     "execution_count": 7,
     "metadata": {},
     "output_type": "execute_result"
    }
   ],
   "source": [
    "# 関数の返値を確認\n",
    "test_tuple(1, 2)"
   ]
  },
  {
   "cell_type": "code",
   "execution_count": 8,
   "id": "825a08e5",
   "metadata": {
    "execution": {
     "iopub.execute_input": "2022-04-15T01:51:43.671346Z",
     "iopub.status.busy": "2022-04-15T01:51:43.670925Z",
     "iopub.status.idle": "2022-04-15T01:51:43.673003Z",
     "shell.execute_reply": "2022-04-15T01:51:43.673337Z"
    }
   },
   "outputs": [],
   "source": [
    "# 返値はサイズ2のtupleなので，それぞれを別の変数に代入\n",
    "c, d = test_tuple(20, 10)"
   ]
  },
  {
   "cell_type": "code",
   "execution_count": 9,
   "id": "eb2837f9",
   "metadata": {
    "execution": {
     "iopub.execute_input": "2022-04-15T01:51:43.676761Z",
     "iopub.status.busy": "2022-04-15T01:51:43.676345Z",
     "iopub.status.idle": "2022-04-15T01:51:43.678748Z",
     "shell.execute_reply": "2022-04-15T01:51:43.679091Z"
    }
   },
   "outputs": [
    {
     "data": {
      "text/plain": [
       "30"
      ]
     },
     "execution_count": 9,
     "metadata": {},
     "output_type": "execute_result"
    }
   ],
   "source": [
    "c"
   ]
  },
  {
   "cell_type": "code",
   "execution_count": 10,
   "id": "aea647bc",
   "metadata": {
    "execution": {
     "iopub.execute_input": "2022-04-15T01:51:43.682289Z",
     "iopub.status.busy": "2022-04-15T01:51:43.681874Z",
     "iopub.status.idle": "2022-04-15T01:51:43.684653Z",
     "shell.execute_reply": "2022-04-15T01:51:43.684224Z"
    }
   },
   "outputs": [
    {
     "data": {
      "text/plain": [
       "10"
      ]
     },
     "execution_count": 10,
     "metadata": {},
     "output_type": "execute_result"
    }
   ],
   "source": [
    "d"
   ]
  },
  {
   "cell_type": "markdown",
   "id": "a8665f1f",
   "metadata": {},
   "source": [
    "## list"
   ]
  },
  {
   "cell_type": "code",
   "execution_count": 11,
   "id": "be4c147d",
   "metadata": {
    "execution": {
     "iopub.execute_input": "2022-04-15T01:51:43.687851Z",
     "iopub.status.busy": "2022-04-15T01:51:43.687433Z",
     "iopub.status.idle": "2022-04-15T01:51:43.690235Z",
     "shell.execute_reply": "2022-04-15T01:51:43.689865Z"
    }
   },
   "outputs": [
    {
     "data": {
      "text/plain": [
       "[]"
      ]
     },
     "execution_count": 11,
     "metadata": {},
     "output_type": "execute_result"
    }
   ],
   "source": [
    "# 空のlist\n",
    "[]"
   ]
  },
  {
   "cell_type": "code",
   "execution_count": 12,
   "id": "1801a11a",
   "metadata": {
    "execution": {
     "iopub.execute_input": "2022-04-15T01:51:43.693855Z",
     "iopub.status.busy": "2022-04-15T01:51:43.693431Z",
     "iopub.status.idle": "2022-04-15T01:51:43.696418Z",
     "shell.execute_reply": "2022-04-15T01:51:43.696046Z"
    }
   },
   "outputs": [
    {
     "data": {
      "text/plain": [
       "[1, 'string', ['this', 'is', 'list']]"
      ]
     },
     "execution_count": 12,
     "metadata": {},
     "output_type": "execute_result"
    }
   ],
   "source": [
    "# listも任意のPythonオブジェクトを要素とする\n",
    "a = ['this', 'is', 'list']\n",
    "[1, 'string', a]"
   ]
  },
  {
   "cell_type": "code",
   "execution_count": 13,
   "id": "d914d925",
   "metadata": {
    "execution": {
     "iopub.execute_input": "2022-04-15T01:51:43.699589Z",
     "iopub.status.busy": "2022-04-15T01:51:43.699168Z",
     "iopub.status.idle": "2022-04-15T01:51:43.701956Z",
     "shell.execute_reply": "2022-04-15T01:51:43.701525Z"
    }
   },
   "outputs": [
    {
     "data": {
      "text/plain": [
       "'this'"
      ]
     },
     "execution_count": 13,
     "metadata": {},
     "output_type": "execute_result"
    }
   ],
   "source": [
    "# 最初の要素にアクセス\n",
    "a[0]"
   ]
  },
  {
   "cell_type": "code",
   "execution_count": 14,
   "id": "53053c17",
   "metadata": {
    "execution": {
     "iopub.execute_input": "2022-04-15T01:51:43.705305Z",
     "iopub.status.busy": "2022-04-15T01:51:43.704882Z",
     "iopub.status.idle": "2022-04-15T01:51:43.707757Z",
     "shell.execute_reply": "2022-04-15T01:51:43.707329Z"
    }
   },
   "outputs": [
    {
     "data": {
      "text/plain": [
       "['that', 'is', 'list']"
      ]
     },
     "execution_count": 14,
     "metadata": {},
     "output_type": "execute_result"
    }
   ],
   "source": [
    "# listは値の書き換えが可能\n",
    "a[0] = 'that'\n",
    "a"
   ]
  },
  {
   "cell_type": "code",
   "execution_count": 15,
   "id": "0097590e",
   "metadata": {
    "execution": {
     "iopub.execute_input": "2022-04-15T01:51:43.711312Z",
     "iopub.status.busy": "2022-04-15T01:51:43.710885Z",
     "iopub.status.idle": "2022-04-15T01:51:43.713847Z",
     "shell.execute_reply": "2022-04-15T01:51:43.713422Z"
    }
   },
   "outputs": [
    {
     "data": {
      "text/plain": [
       "[1, 2, 3, 4]"
      ]
     },
     "execution_count": 15,
     "metadata": {},
     "output_type": "execute_result"
    }
   ],
   "source": [
    "# appendで要素を追加\n",
    "a = [1, 2, 3]\n",
    "a.append(4)\n",
    "a"
   ]
  },
  {
   "cell_type": "code",
   "execution_count": 16,
   "id": "636fafae",
   "metadata": {
    "execution": {
     "iopub.execute_input": "2022-04-15T01:51:43.717331Z",
     "iopub.status.busy": "2022-04-15T01:51:43.716913Z",
     "iopub.status.idle": "2022-04-15T01:51:43.719323Z",
     "shell.execute_reply": "2022-04-15T01:51:43.719661Z"
    }
   },
   "outputs": [
    {
     "data": {
      "text/plain": [
       "[1, 100, 2, 3, 4]"
      ]
     },
     "execution_count": 16,
     "metadata": {},
     "output_type": "execute_result"
    }
   ],
   "source": [
    "# insertで要素を挿入\n",
    "a.insert(1, 100)\n",
    "a"
   ]
  },
  {
   "cell_type": "code",
   "execution_count": 17,
   "id": "c9b0fbcc",
   "metadata": {
    "execution": {
     "iopub.execute_input": "2022-04-15T01:51:43.723008Z",
     "iopub.status.busy": "2022-04-15T01:51:43.722587Z",
     "iopub.status.idle": "2022-04-15T01:51:43.725180Z",
     "shell.execute_reply": "2022-04-15T01:51:43.725526Z"
    }
   },
   "outputs": [
    {
     "data": {
      "text/plain": [
       "[1, 2, 3, 4]"
      ]
     },
     "execution_count": 17,
     "metadata": {},
     "output_type": "execute_result"
    }
   ],
   "source": [
    "# removeで要素を削除\n",
    "a.remove(100)\n",
    "a"
   ]
  },
  {
   "cell_type": "code",
   "execution_count": 18,
   "id": "84114d55",
   "metadata": {
    "execution": {
     "iopub.execute_input": "2022-04-15T01:51:43.728629Z",
     "iopub.status.busy": "2022-04-15T01:51:43.728210Z",
     "iopub.status.idle": "2022-04-15T01:51:43.731186Z",
     "shell.execute_reply": "2022-04-15T01:51:43.730754Z"
    }
   },
   "outputs": [
    {
     "data": {
      "text/plain": [
       "4"
      ]
     },
     "execution_count": 18,
     "metadata": {},
     "output_type": "execute_result"
    }
   ],
   "source": [
    "# 最後の要素を返す\n",
    "a.pop()"
   ]
  },
  {
   "cell_type": "code",
   "execution_count": 19,
   "id": "e14dd79f",
   "metadata": {
    "execution": {
     "iopub.execute_input": "2022-04-15T01:51:43.734289Z",
     "iopub.status.busy": "2022-04-15T01:51:43.733868Z",
     "iopub.status.idle": "2022-04-15T01:51:43.736772Z",
     "shell.execute_reply": "2022-04-15T01:51:43.736340Z"
    }
   },
   "outputs": [
    {
     "data": {
      "text/plain": [
       "[1, 2, 3]"
      ]
     },
     "execution_count": 19,
     "metadata": {},
     "output_type": "execute_result"
    }
   ],
   "source": [
    "# popによってサイズが縮小\n",
    "a"
   ]
  },
  {
   "cell_type": "code",
   "execution_count": 20,
   "id": "4bae7f9d",
   "metadata": {
    "execution": {
     "iopub.execute_input": "2022-04-15T01:51:43.740398Z",
     "iopub.status.busy": "2022-04-15T01:51:43.739953Z",
     "iopub.status.idle": "2022-04-15T01:51:43.742320Z",
     "shell.execute_reply": "2022-04-15T01:51:43.742652Z"
    }
   },
   "outputs": [
    {
     "data": {
      "text/plain": [
       "[1, 2, 3, 10, 11, 12]"
      ]
     },
     "execution_count": 20,
     "metadata": {},
     "output_type": "execute_result"
    }
   ],
   "source": [
    "# extendで別のlistの全ての要素を追加\n",
    "a.extend([10, 11, 12])\n",
    "a"
   ]
  },
  {
   "cell_type": "code",
   "execution_count": 21,
   "id": "ef90be4c",
   "metadata": {
    "execution": {
     "iopub.execute_input": "2022-04-15T01:51:43.745939Z",
     "iopub.status.busy": "2022-04-15T01:51:43.745521Z",
     "iopub.status.idle": "2022-04-15T01:51:43.748281Z",
     "shell.execute_reply": "2022-04-15T01:51:43.747836Z"
    }
   },
   "outputs": [
    {
     "data": {
      "text/plain": [
       "[]"
      ]
     },
     "execution_count": 21,
     "metadata": {},
     "output_type": "execute_result"
    }
   ],
   "source": [
    "# 空にする\n",
    "a.clear()\n",
    "a"
   ]
  },
  {
   "cell_type": "code",
   "execution_count": 22,
   "id": "f375b0d7",
   "metadata": {
    "execution": {
     "iopub.execute_input": "2022-04-15T01:51:43.751890Z",
     "iopub.status.busy": "2022-04-15T01:51:43.751339Z",
     "iopub.status.idle": "2022-04-15T01:51:43.754052Z",
     "shell.execute_reply": "2022-04-15T01:51:43.753628Z"
    }
   },
   "outputs": [
    {
     "data": {
      "text/plain": [
       "[3, 4, 5]"
      ]
     },
     "execution_count": 22,
     "metadata": {},
     "output_type": "execute_result"
    }
   ],
   "source": [
    "# tupleをlistに変換\n",
    "list((3, 4, 5))"
   ]
  },
  {
   "cell_type": "code",
   "execution_count": 23,
   "id": "fea85e17",
   "metadata": {
    "execution": {
     "iopub.execute_input": "2022-04-15T01:51:43.757449Z",
     "iopub.status.busy": "2022-04-15T01:51:43.757032Z",
     "iopub.status.idle": "2022-04-15T01:51:43.759844Z",
     "shell.execute_reply": "2022-04-15T01:51:43.759420Z"
    }
   },
   "outputs": [
    {
     "data": {
      "text/plain": [
       "[0, 0, 0, 0, 0, 0, 0, 0, 0, 0]"
      ]
     },
     "execution_count": 23,
     "metadata": {},
     "output_type": "execute_result"
    }
   ],
   "source": [
    "# 0で初期化されたサイズ10のlist\n",
    "[0]*10"
   ]
  },
  {
   "cell_type": "code",
   "execution_count": 24,
   "id": "359d5c44",
   "metadata": {
    "execution": {
     "iopub.execute_input": "2022-04-15T01:51:43.763285Z",
     "iopub.status.busy": "2022-04-15T01:51:43.762868Z",
     "iopub.status.idle": "2022-04-15T01:51:43.765827Z",
     "shell.execute_reply": "2022-04-15T01:51:43.765397Z"
    }
   },
   "outputs": [
    {
     "data": {
      "text/plain": [
       "[0, 1, 4, 9, 16]"
      ]
     },
     "execution_count": 24,
     "metadata": {},
     "output_type": "execute_result"
    }
   ],
   "source": [
    "# 内包表記でlistを生成\n",
    "[i**2 for i in range(5)]"
   ]
  },
  {
   "cell_type": "markdown",
   "id": "710d38c5",
   "metadata": {},
   "source": [
    "## range"
   ]
  },
  {
   "cell_type": "code",
   "execution_count": 25,
   "id": "ec3bac1c",
   "metadata": {
    "execution": {
     "iopub.execute_input": "2022-04-15T01:51:43.769255Z",
     "iopub.status.busy": "2022-04-15T01:51:43.768838Z",
     "iopub.status.idle": "2022-04-15T01:51:43.771598Z",
     "shell.execute_reply": "2022-04-15T01:51:43.771177Z"
    }
   },
   "outputs": [
    {
     "data": {
      "text/plain": [
       "[0, 1, 2, 3, 4]"
      ]
     },
     "execution_count": 25,
     "metadata": {},
     "output_type": "execute_result"
    }
   ],
   "source": [
    "# listに変換\n",
    "list(range(5))"
   ]
  },
  {
   "cell_type": "code",
   "execution_count": 26,
   "id": "06365ce7",
   "metadata": {
    "execution": {
     "iopub.execute_input": "2022-04-15T01:51:43.775151Z",
     "iopub.status.busy": "2022-04-15T01:51:43.774674Z",
     "iopub.status.idle": "2022-04-15T01:51:43.777277Z",
     "shell.execute_reply": "2022-04-15T01:51:43.776856Z"
    }
   },
   "outputs": [
    {
     "data": {
      "text/plain": [
       "(0, 1, 2, 3, 4)"
      ]
     },
     "execution_count": 26,
     "metadata": {},
     "output_type": "execute_result"
    }
   ],
   "source": [
    "# tupleに変換\n",
    "tuple(range(5))"
   ]
  },
  {
   "cell_type": "markdown",
   "id": "a45eb92e",
   "metadata": {},
   "source": [
    "## dict"
   ]
  },
  {
   "cell_type": "code",
   "execution_count": 27,
   "id": "d6a26e5c",
   "metadata": {
    "execution": {
     "iopub.execute_input": "2022-04-15T01:51:43.781168Z",
     "iopub.status.busy": "2022-04-15T01:51:43.780710Z",
     "iopub.status.idle": "2022-04-15T01:51:43.783348Z",
     "shell.execute_reply": "2022-04-15T01:51:43.782920Z"
    }
   },
   "outputs": [
    {
     "data": {
      "text/plain": [
       "{'key1': 'value1', 'key2': 'value2', 'key3': 'value3'}"
      ]
     },
     "execution_count": 27,
     "metadata": {},
     "output_type": "execute_result"
    }
   ],
   "source": [
    "# 陽にキーと値のペアを与えてdictを生成\n",
    "a = {'key1' : 'value1', 'key2' : 'value2', 'key3' : 'value3'}\n",
    "a"
   ]
  },
  {
   "cell_type": "code",
   "execution_count": 28,
   "id": "c04ad928",
   "metadata": {
    "execution": {
     "iopub.execute_input": "2022-04-15T01:51:43.787123Z",
     "iopub.status.busy": "2022-04-15T01:51:43.786647Z",
     "iopub.status.idle": "2022-04-15T01:51:43.789255Z",
     "shell.execute_reply": "2022-04-15T01:51:43.788832Z"
    }
   },
   "outputs": [
    {
     "data": {
      "text/plain": [
       "{'key1': 'value1', 'key2': 'value2', 'key3': 'value3'}"
      ]
     },
     "execution_count": 28,
     "metadata": {},
     "output_type": "execute_result"
    }
   ],
   "source": [
    "# これでも同じ\n",
    "b = dict(key1='value1', key2='value2', key3='value3')\n",
    "b"
   ]
  },
  {
   "cell_type": "code",
   "execution_count": 29,
   "id": "088dc81f",
   "metadata": {
    "execution": {
     "iopub.execute_input": "2022-04-15T01:51:43.792434Z",
     "iopub.status.busy": "2022-04-15T01:51:43.792010Z",
     "iopub.status.idle": "2022-04-15T01:51:43.794815Z",
     "shell.execute_reply": "2022-04-15T01:51:43.794447Z"
    }
   },
   "outputs": [
    {
     "data": {
      "text/plain": [
       "'value3'"
      ]
     },
     "execution_count": 29,
     "metadata": {},
     "output_type": "execute_result"
    }
   ],
   "source": [
    "# キーを指定して値にアクセス\n",
    "a['key3']"
   ]
  },
  {
   "cell_type": "code",
   "execution_count": 30,
   "id": "6f08f1b5",
   "metadata": {
    "execution": {
     "iopub.execute_input": "2022-04-15T01:51:43.798206Z",
     "iopub.status.busy": "2022-04-15T01:51:43.797789Z",
     "iopub.status.idle": "2022-04-15T01:51:43.800507Z",
     "shell.execute_reply": "2022-04-15T01:51:43.800077Z"
    }
   },
   "outputs": [
    {
     "data": {
      "text/plain": [
       "{'key1': 'hoge', 'key2': 'value2', 'key3': 'value3'}"
      ]
     },
     "execution_count": 30,
     "metadata": {},
     "output_type": "execute_result"
    }
   ],
   "source": [
    "# キーを指定して値を更新\n",
    "a['key1'] = 'hoge'\n",
    "a"
   ]
  },
  {
   "cell_type": "code",
   "execution_count": 31,
   "id": "62c4068c",
   "metadata": {
    "execution": {
     "iopub.execute_input": "2022-04-15T01:51:43.803867Z",
     "iopub.status.busy": "2022-04-15T01:51:43.803451Z",
     "iopub.status.idle": "2022-04-15T01:51:43.805922Z",
     "shell.execute_reply": "2022-04-15T01:51:43.806256Z"
    }
   },
   "outputs": [
    {
     "data": {
      "text/plain": [
       "{'key1': 'hoge', 'key2': 'value2', 'key3': 'value3', 'key0': 'value0'}"
      ]
     },
     "execution_count": 31,
     "metadata": {},
     "output_type": "execute_result"
    }
   ],
   "source": [
    "# 存在しないキーを指定すると新たなキーと値を追加\n",
    "a['key0'] = 'value0'\n",
    "a"
   ]
  },
  {
   "cell_type": "code",
   "execution_count": 32,
   "id": "1d38efe5",
   "metadata": {
    "execution": {
     "iopub.execute_input": "2022-04-15T01:51:43.809667Z",
     "iopub.status.busy": "2022-04-15T01:51:43.809249Z",
     "iopub.status.idle": "2022-04-15T01:51:43.812001Z",
     "shell.execute_reply": "2022-04-15T01:51:43.811634Z"
    }
   },
   "outputs": [
    {
     "data": {
      "text/plain": [
       "{'key2': 'value2', 'key3': 'value3', 'key0': 'value0'}"
      ]
     },
     "execution_count": 32,
     "metadata": {},
     "output_type": "execute_result"
    }
   ],
   "source": [
    "# キーと値を削除\n",
    "del a['key1']\n",
    "a"
   ]
  },
  {
   "cell_type": "code",
   "execution_count": 33,
   "id": "c06b39fa",
   "metadata": {
    "execution": {
     "iopub.execute_input": "2022-04-15T01:51:43.815393Z",
     "iopub.status.busy": "2022-04-15T01:51:43.814975Z",
     "iopub.status.idle": "2022-04-15T01:51:43.817646Z",
     "shell.execute_reply": "2022-04-15T01:51:43.817223Z"
    }
   },
   "outputs": [
    {
     "name": "stdout",
     "output_type": "stream",
     "text": [
      "Traceback (most recent call last):\n",
      "  File \"/tmp/ipykernel_773864/2082396790.py\", line 4, in <module>\n",
      "    a['key1']\n",
      "KeyError: 'key1'\n",
      "\n"
     ]
    }
   ],
   "source": [
    "# try-exceptはエラーを出さないための処理なので無視してよい\n",
    "try:\n",
    "    # 存在しないキーを指定するとエラー\n",
    "    a['key1']\n",
    "except Exception as e:\n",
    "    import traceback\n",
    "    print(traceback.format_exc())"
   ]
  },
  {
   "cell_type": "code",
   "execution_count": 34,
   "id": "2b845b14",
   "metadata": {
    "execution": {
     "iopub.execute_input": "2022-04-15T01:51:43.820588Z",
     "iopub.status.busy": "2022-04-15T01:51:43.819277Z",
     "iopub.status.idle": "2022-04-15T01:51:43.823183Z",
     "shell.execute_reply": "2022-04-15T01:51:43.822764Z"
    }
   },
   "outputs": [
    {
     "data": {
      "text/plain": [
       "False"
      ]
     },
     "execution_count": 34,
     "metadata": {},
     "output_type": "execute_result"
    }
   ],
   "source": [
    "# 'key1' が存在するかチェック\n",
    "'key1' in a"
   ]
  },
  {
   "cell_type": "code",
   "execution_count": 35,
   "id": "e5ee70eb",
   "metadata": {
    "execution": {
     "iopub.execute_input": "2022-04-15T01:51:43.826243Z",
     "iopub.status.busy": "2022-04-15T01:51:43.825825Z",
     "iopub.status.idle": "2022-04-15T01:51:43.828676Z",
     "shell.execute_reply": "2022-04-15T01:51:43.828252Z"
    }
   },
   "outputs": [
    {
     "data": {
      "text/plain": [
       "True"
      ]
     },
     "execution_count": 35,
     "metadata": {},
     "output_type": "execute_result"
    }
   ],
   "source": [
    "# 'key2' が存在するかチェック\n",
    "'key2' in a"
   ]
  },
  {
   "cell_type": "code",
   "execution_count": 36,
   "id": "af918cf6",
   "metadata": {
    "execution": {
     "iopub.execute_input": "2022-04-15T01:51:43.831998Z",
     "iopub.status.busy": "2022-04-15T01:51:43.831582Z",
     "iopub.status.idle": "2022-04-15T01:51:43.834347Z",
     "shell.execute_reply": "2022-04-15T01:51:43.833983Z"
    }
   },
   "outputs": [
    {
     "data": {
      "text/plain": [
       "'hoge'"
      ]
     },
     "execution_count": 36,
     "metadata": {},
     "output_type": "execute_result"
    }
   ],
   "source": [
    "# 'key1'にアクセス．存在しない場合は'hoge'を返す\n",
    "a.get('key1', 'hoge')"
   ]
  },
  {
   "cell_type": "code",
   "execution_count": 37,
   "id": "522a31e5",
   "metadata": {
    "execution": {
     "iopub.execute_input": "2022-04-15T01:51:43.837601Z",
     "iopub.status.busy": "2022-04-15T01:51:43.837184Z",
     "iopub.status.idle": "2022-04-15T01:51:43.840058Z",
     "shell.execute_reply": "2022-04-15T01:51:43.839614Z"
    }
   },
   "outputs": [
    {
     "data": {
      "text/plain": [
       "'value2'"
      ]
     },
     "execution_count": 37,
     "metadata": {},
     "output_type": "execute_result"
    }
   ],
   "source": [
    "# 'key2'にアクセス．存在しない場合は'hoge'を返す\n",
    "a.get('key2', 'hoge')"
   ]
  },
  {
   "cell_type": "code",
   "execution_count": 38,
   "id": "53d4ee03",
   "metadata": {
    "execution": {
     "iopub.execute_input": "2022-04-15T01:51:43.843260Z",
     "iopub.status.busy": "2022-04-15T01:51:43.842843Z",
     "iopub.status.idle": "2022-04-15T01:51:43.845610Z",
     "shell.execute_reply": "2022-04-15T01:51:43.845245Z"
    }
   },
   "outputs": [
    {
     "data": {
      "text/plain": [
       "dict_keys(['key2', 'key3', 'key0'])"
      ]
     },
     "execution_count": 38,
     "metadata": {},
     "output_type": "execute_result"
    }
   ],
   "source": [
    "# キー\n",
    "a.keys()"
   ]
  },
  {
   "cell_type": "code",
   "execution_count": 39,
   "id": "04a5e9f9",
   "metadata": {
    "execution": {
     "iopub.execute_input": "2022-04-15T01:51:43.848812Z",
     "iopub.status.busy": "2022-04-15T01:51:43.848395Z",
     "iopub.status.idle": "2022-04-15T01:51:43.851082Z",
     "shell.execute_reply": "2022-04-15T01:51:43.850666Z"
    }
   },
   "outputs": [
    {
     "data": {
      "text/plain": [
       "dict_values(['value2', 'value3', 'value0'])"
      ]
     },
     "execution_count": 39,
     "metadata": {},
     "output_type": "execute_result"
    }
   ],
   "source": [
    "# 値\n",
    "a.values()"
   ]
  },
  {
   "cell_type": "code",
   "execution_count": 40,
   "id": "beea2da2",
   "metadata": {
    "execution": {
     "iopub.execute_input": "2022-04-15T01:51:43.854304Z",
     "iopub.status.busy": "2022-04-15T01:51:43.853890Z",
     "iopub.status.idle": "2022-04-15T01:51:43.856697Z",
     "shell.execute_reply": "2022-04-15T01:51:43.856324Z"
    }
   },
   "outputs": [
    {
     "data": {
      "text/plain": [
       "dict_items([('key2', 'value2'), ('key3', 'value3'), ('key0', 'value0')])"
      ]
     },
     "execution_count": 40,
     "metadata": {},
     "output_type": "execute_result"
    }
   ],
   "source": [
    "# キーと値のペア\n",
    "a.items()"
   ]
  },
  {
   "cell_type": "code",
   "execution_count": 41,
   "id": "6623218e",
   "metadata": {
    "execution": {
     "iopub.execute_input": "2022-04-15T01:51:43.859774Z",
     "iopub.status.busy": "2022-04-15T01:51:43.859357Z",
     "iopub.status.idle": "2022-04-15T01:51:43.862424Z",
     "shell.execute_reply": "2022-04-15T01:51:43.862005Z"
    }
   },
   "outputs": [
    {
     "name": "stdout",
     "output_type": "stream",
     "text": [
      "key = key2  : value = value2\n",
      "key = key3  : value = value3\n",
      "key = key0  : value = value0\n"
     ]
    }
   ],
   "source": [
    "# dictの全ての要素に対する処理\n",
    "for key, val in a.items():\n",
    "    print(\"key = {:5s} : value = {:5s}\".format(key, val))"
   ]
  },
  {
   "cell_type": "code",
   "execution_count": 42,
   "id": "e5c88ac2",
   "metadata": {
    "execution": {
     "iopub.execute_input": "2022-04-15T01:51:43.865510Z",
     "iopub.status.busy": "2022-04-15T01:51:43.865094Z",
     "iopub.status.idle": "2022-04-15T01:51:43.867883Z",
     "shell.execute_reply": "2022-04-15T01:51:43.867507Z"
    }
   },
   "outputs": [
    {
     "name": "stdout",
     "output_type": "stream",
     "text": [
      "key2\n",
      "key3\n",
      "key0\n"
     ]
    }
   ],
   "source": [
    "# 同様に全てのキーに対する処理\n",
    "for key in a.keys():\n",
    "    print(key)"
   ]
  },
  {
   "cell_type": "code",
   "execution_count": 43,
   "id": "522bd1c1",
   "metadata": {
    "execution": {
     "iopub.execute_input": "2022-04-15T01:51:43.871302Z",
     "iopub.status.busy": "2022-04-15T01:51:43.870887Z",
     "iopub.status.idle": "2022-04-15T01:51:43.873726Z",
     "shell.execute_reply": "2022-04-15T01:51:43.873303Z"
    }
   },
   "outputs": [
    {
     "data": {
      "text/plain": [
       "['key2', 'key3', 'key0']"
      ]
     },
     "execution_count": 43,
     "metadata": {},
     "output_type": "execute_result"
    }
   ],
   "source": [
    "# .keys()で返されるオブジェクトをlistに変換\n",
    "keys = list(a.keys())\n",
    "keys"
   ]
  },
  {
   "cell_type": "code",
   "execution_count": 44,
   "id": "c9885434",
   "metadata": {
    "execution": {
     "iopub.execute_input": "2022-04-15T01:51:43.877086Z",
     "iopub.status.busy": "2022-04-15T01:51:43.876669Z",
     "iopub.status.idle": "2022-04-15T01:51:43.879388Z",
     "shell.execute_reply": "2022-04-15T01:51:43.878958Z"
    }
   },
   "outputs": [
    {
     "data": {
      "text/plain": [
       "['key0', 'key2', 'key3']"
      ]
     },
     "execution_count": 44,
     "metadata": {},
     "output_type": "execute_result"
    }
   ],
   "source": [
    "# listをソート\n",
    "keys.sort()\n",
    "keys"
   ]
  },
  {
   "cell_type": "code",
   "execution_count": 45,
   "id": "e2e3005e",
   "metadata": {
    "execution": {
     "iopub.execute_input": "2022-04-15T01:51:43.882601Z",
     "iopub.status.busy": "2022-04-15T01:51:43.882180Z",
     "iopub.status.idle": "2022-04-15T01:51:43.884992Z",
     "shell.execute_reply": "2022-04-15T01:51:43.884569Z"
    }
   },
   "outputs": [
    {
     "name": "stdout",
     "output_type": "stream",
     "text": [
      "key = key0  : value = value0\n",
      "key = key2  : value = value2\n",
      "key = key3  : value = value3\n"
     ]
    }
   ],
   "source": [
    "# ソートしたキーで順にアクセスする\n",
    "for key in keys:\n",
    "    print(\"key = {:5s} : value = {:5s}\".format(key, a[key]))"
   ]
  },
  {
   "cell_type": "code",
   "execution_count": null,
   "id": "8f38fe38",
   "metadata": {},
   "outputs": [],
   "source": []
  }
 ],
 "metadata": {
  "kernelspec": {
   "display_name": "Python 3 (ipykernel)",
   "language": "python",
   "name": "python3"
  },
  "language_info": {
   "codemirror_mode": {
    "name": "ipython",
    "version": 3
   },
   "file_extension": ".py",
   "mimetype": "text/x-python",
   "name": "python",
   "nbconvert_exporter": "python",
   "pygments_lexer": "ipython3",
   "version": "3.9.7"
  }
 },
 "nbformat": 4,
 "nbformat_minor": 5
}
