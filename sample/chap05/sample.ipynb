{
 "cells": [
  {
   "attachments": {},
   "cell_type": "markdown",
   "id": "3e54f218",
   "metadata": {},
   "source": [
    "<a href=\"https://colab.research.google.com/github/amanotk/python-resume-sample/blob/main/chap05/sample.ipynb\" target=\"_blank\">\n",
    "<img src=\"https://colab.research.google.com/assets/colab-badge.svg\" style=\"vertical-align: text-top;\">\n",
    "</a>\n",
    "\n",
    "# 5. 便利な組み込み型"
   ]
  },
  {
   "cell_type": "markdown",
   "id": "0ec8f4db",
   "metadata": {},
   "source": [
    "## tuple"
   ]
  },
  {
   "cell_type": "code",
   "execution_count": 1,
   "id": "9ebd97fd",
   "metadata": {
    "execution": {
     "iopub.execute_input": "2023-05-07T14:05:37.793185Z",
     "iopub.status.busy": "2023-05-07T14:05:37.792734Z",
     "iopub.status.idle": "2023-05-07T14:05:37.805096Z",
     "shell.execute_reply": "2023-05-07T14:05:37.804405Z"
    }
   },
   "outputs": [
    {
     "data": {
      "text/plain": [
       "(1, 2, 3)"
      ]
     },
     "execution_count": 1,
     "metadata": {},
     "output_type": "execute_result"
    }
   ],
   "source": [
    "# サイズ3のtuple\n",
    "(1, 2, 3)"
   ]
  },
  {
   "cell_type": "code",
   "execution_count": 2,
   "id": "afcb0907",
   "metadata": {
    "execution": {
     "iopub.execute_input": "2023-05-07T14:05:37.807575Z",
     "iopub.status.busy": "2023-05-07T14:05:37.807330Z",
     "iopub.status.idle": "2023-05-07T14:05:37.811109Z",
     "shell.execute_reply": "2023-05-07T14:05:37.810556Z"
    }
   },
   "outputs": [
    {
     "data": {
      "text/plain": [
       "()"
      ]
     },
     "execution_count": 2,
     "metadata": {},
     "output_type": "execute_result"
    }
   ],
   "source": [
    "# 空のtuple\n",
    "()"
   ]
  },
  {
   "cell_type": "code",
   "execution_count": 3,
   "id": "6852a048",
   "metadata": {
    "execution": {
     "iopub.execute_input": "2023-05-07T14:05:37.813271Z",
     "iopub.status.busy": "2023-05-07T14:05:37.813072Z",
     "iopub.status.idle": "2023-05-07T14:05:37.816581Z",
     "shell.execute_reply": "2023-05-07T14:05:37.816153Z"
    }
   },
   "outputs": [
    {
     "data": {
      "text/plain": [
       "(1, 'string', ('this', 'is', 'tuple'))"
      ]
     },
     "execution_count": 3,
     "metadata": {},
     "output_type": "execute_result"
    }
   ],
   "source": [
    "# tupleを作る\n",
    "a = ('this', 'is', 'tuple') \n",
    "\n",
    "# 任意のPythonオブジェクトが要素となれる\n",
    "(1, 'string', a) "
   ]
  },
  {
   "cell_type": "code",
   "execution_count": 4,
   "id": "b273570b",
   "metadata": {
    "execution": {
     "iopub.execute_input": "2023-05-07T14:05:37.818513Z",
     "iopub.status.busy": "2023-05-07T14:05:37.818327Z",
     "iopub.status.idle": "2023-05-07T14:05:37.821390Z",
     "shell.execute_reply": "2023-05-07T14:05:37.820980Z"
    }
   },
   "outputs": [
    {
     "data": {
      "text/plain": [
       "'this'"
      ]
     },
     "execution_count": 4,
     "metadata": {},
     "output_type": "execute_result"
    }
   ],
   "source": [
    "# 最初の要素にアクセス\n",
    "a[0]"
   ]
  },
  {
   "cell_type": "code",
   "execution_count": 5,
   "id": "64503c3f",
   "metadata": {
    "execution": {
     "iopub.execute_input": "2023-05-07T14:05:37.823327Z",
     "iopub.status.busy": "2023-05-07T14:05:37.823135Z",
     "iopub.status.idle": "2023-05-07T14:05:37.826299Z",
     "shell.execute_reply": "2023-05-07T14:05:37.825849Z"
    }
   },
   "outputs": [
    {
     "name": "stdout",
     "output_type": "stream",
     "text": [
      "Traceback (most recent call last):\n",
      "  File \"/var/folders/91/5lnzpx8103j7phv4v4wyn89w0000gn/T/ipykernel_43275/2664072323.py\", line 4, in <module>\n",
      "    a[0] = 'that'\n",
      "TypeError: 'tuple' object does not support item assignment\n",
      "\n"
     ]
    }
   ],
   "source": [
    "# try-exceptはエラーを出さないための処理なので無視してよい\n",
    "try:\n",
    "    # 代入(値の更新)はできない\n",
    "    a[0] = 'that'\n",
    "except Exception as e:\n",
    "    import traceback\n",
    "    print(traceback.format_exc())"
   ]
  },
  {
   "cell_type": "code",
   "execution_count": 6,
   "id": "23970342",
   "metadata": {
    "execution": {
     "iopub.execute_input": "2023-05-07T14:05:37.828138Z",
     "iopub.status.busy": "2023-05-07T14:05:37.827955Z",
     "iopub.status.idle": "2023-05-07T14:05:37.830455Z",
     "shell.execute_reply": "2023-05-07T14:05:37.829978Z"
    }
   },
   "outputs": [],
   "source": [
    "# 関数の返値がtuple\n",
    "def test_tuple(a, b):\n",
    "    return a+b, a-b"
   ]
  },
  {
   "cell_type": "code",
   "execution_count": 7,
   "id": "a49a71a2",
   "metadata": {
    "execution": {
     "iopub.execute_input": "2023-05-07T14:05:37.832221Z",
     "iopub.status.busy": "2023-05-07T14:05:37.832043Z",
     "iopub.status.idle": "2023-05-07T14:05:37.835027Z",
     "shell.execute_reply": "2023-05-07T14:05:37.834584Z"
    }
   },
   "outputs": [
    {
     "data": {
      "text/plain": [
       "(3, -1)"
      ]
     },
     "execution_count": 7,
     "metadata": {},
     "output_type": "execute_result"
    }
   ],
   "source": [
    "# 関数の返値を確認\n",
    "test_tuple(1, 2)"
   ]
  },
  {
   "cell_type": "code",
   "execution_count": 8,
   "id": "825a08e5",
   "metadata": {
    "execution": {
     "iopub.execute_input": "2023-05-07T14:05:37.836888Z",
     "iopub.status.busy": "2023-05-07T14:05:37.836702Z",
     "iopub.status.idle": "2023-05-07T14:05:37.839058Z",
     "shell.execute_reply": "2023-05-07T14:05:37.838610Z"
    }
   },
   "outputs": [],
   "source": [
    "# 返値はサイズ2のtupleなので，それぞれを別の変数に代入\n",
    "c, d = test_tuple(20, 10)"
   ]
  },
  {
   "cell_type": "code",
   "execution_count": 9,
   "id": "eb2837f9",
   "metadata": {
    "execution": {
     "iopub.execute_input": "2023-05-07T14:05:37.840873Z",
     "iopub.status.busy": "2023-05-07T14:05:37.840693Z",
     "iopub.status.idle": "2023-05-07T14:05:37.843708Z",
     "shell.execute_reply": "2023-05-07T14:05:37.843291Z"
    }
   },
   "outputs": [
    {
     "data": {
      "text/plain": [
       "30"
      ]
     },
     "execution_count": 9,
     "metadata": {},
     "output_type": "execute_result"
    }
   ],
   "source": [
    "c"
   ]
  },
  {
   "cell_type": "code",
   "execution_count": 10,
   "id": "aea647bc",
   "metadata": {
    "execution": {
     "iopub.execute_input": "2023-05-07T14:05:37.845664Z",
     "iopub.status.busy": "2023-05-07T14:05:37.845342Z",
     "iopub.status.idle": "2023-05-07T14:05:37.848420Z",
     "shell.execute_reply": "2023-05-07T14:05:37.848002Z"
    }
   },
   "outputs": [
    {
     "data": {
      "text/plain": [
       "10"
      ]
     },
     "execution_count": 10,
     "metadata": {},
     "output_type": "execute_result"
    }
   ],
   "source": [
    "d"
   ]
  },
  {
   "cell_type": "markdown",
   "id": "a8665f1f",
   "metadata": {},
   "source": [
    "## list"
   ]
  },
  {
   "cell_type": "code",
   "execution_count": 11,
   "id": "be4c147d",
   "metadata": {
    "execution": {
     "iopub.execute_input": "2023-05-07T14:05:37.850340Z",
     "iopub.status.busy": "2023-05-07T14:05:37.850161Z",
     "iopub.status.idle": "2023-05-07T14:05:37.853065Z",
     "shell.execute_reply": "2023-05-07T14:05:37.852635Z"
    }
   },
   "outputs": [
    {
     "data": {
      "text/plain": [
       "[]"
      ]
     },
     "execution_count": 11,
     "metadata": {},
     "output_type": "execute_result"
    }
   ],
   "source": [
    "# 空のlist\n",
    "[]"
   ]
  },
  {
   "cell_type": "code",
   "execution_count": 12,
   "id": "1801a11a",
   "metadata": {
    "execution": {
     "iopub.execute_input": "2023-05-07T14:05:37.854854Z",
     "iopub.status.busy": "2023-05-07T14:05:37.854672Z",
     "iopub.status.idle": "2023-05-07T14:05:37.857924Z",
     "shell.execute_reply": "2023-05-07T14:05:37.857511Z"
    }
   },
   "outputs": [
    {
     "data": {
      "text/plain": [
       "[1, 'string', ['this', 'is', 'list']]"
      ]
     },
     "execution_count": 12,
     "metadata": {},
     "output_type": "execute_result"
    }
   ],
   "source": [
    "# listも任意のPythonオブジェクトを要素とする\n",
    "a = ['this', 'is', 'list']\n",
    "[1, 'string', a]"
   ]
  },
  {
   "cell_type": "code",
   "execution_count": 13,
   "id": "d914d925",
   "metadata": {
    "execution": {
     "iopub.execute_input": "2023-05-07T14:05:37.859699Z",
     "iopub.status.busy": "2023-05-07T14:05:37.859514Z",
     "iopub.status.idle": "2023-05-07T14:05:37.862364Z",
     "shell.execute_reply": "2023-05-07T14:05:37.861941Z"
    }
   },
   "outputs": [
    {
     "data": {
      "text/plain": [
       "'this'"
      ]
     },
     "execution_count": 13,
     "metadata": {},
     "output_type": "execute_result"
    }
   ],
   "source": [
    "# 最初の要素にアクセス\n",
    "a[0]"
   ]
  },
  {
   "cell_type": "code",
   "execution_count": 14,
   "id": "53053c17",
   "metadata": {
    "execution": {
     "iopub.execute_input": "2023-05-07T14:05:37.864186Z",
     "iopub.status.busy": "2023-05-07T14:05:37.864008Z",
     "iopub.status.idle": "2023-05-07T14:05:37.867107Z",
     "shell.execute_reply": "2023-05-07T14:05:37.866628Z"
    }
   },
   "outputs": [
    {
     "data": {
      "text/plain": [
       "['that', 'is', 'list']"
      ]
     },
     "execution_count": 14,
     "metadata": {},
     "output_type": "execute_result"
    }
   ],
   "source": [
    "# listは値の書き換えが可能\n",
    "a[0] = 'that'\n",
    "a"
   ]
  },
  {
   "cell_type": "code",
   "execution_count": 15,
   "id": "0097590e",
   "metadata": {
    "execution": {
     "iopub.execute_input": "2023-05-07T14:05:37.868945Z",
     "iopub.status.busy": "2023-05-07T14:05:37.868761Z",
     "iopub.status.idle": "2023-05-07T14:05:37.872083Z",
     "shell.execute_reply": "2023-05-07T14:05:37.871650Z"
    }
   },
   "outputs": [
    {
     "data": {
      "text/plain": [
       "[1, 2, 3, 4]"
      ]
     },
     "execution_count": 15,
     "metadata": {},
     "output_type": "execute_result"
    }
   ],
   "source": [
    "# appendで要素を追加\n",
    "a = [1, 2, 3]\n",
    "a.append(4)\n",
    "a"
   ]
  },
  {
   "cell_type": "code",
   "execution_count": 16,
   "id": "636fafae",
   "metadata": {
    "execution": {
     "iopub.execute_input": "2023-05-07T14:05:37.873868Z",
     "iopub.status.busy": "2023-05-07T14:05:37.873686Z",
     "iopub.status.idle": "2023-05-07T14:05:37.876869Z",
     "shell.execute_reply": "2023-05-07T14:05:37.876430Z"
    }
   },
   "outputs": [
    {
     "data": {
      "text/plain": [
       "[1, 100, 2, 3, 4]"
      ]
     },
     "execution_count": 16,
     "metadata": {},
     "output_type": "execute_result"
    }
   ],
   "source": [
    "# insertで要素を挿入\n",
    "a.insert(1, 100)\n",
    "a"
   ]
  },
  {
   "cell_type": "code",
   "execution_count": 17,
   "id": "c9b0fbcc",
   "metadata": {
    "execution": {
     "iopub.execute_input": "2023-05-07T14:05:37.878639Z",
     "iopub.status.busy": "2023-05-07T14:05:37.878461Z",
     "iopub.status.idle": "2023-05-07T14:05:37.881549Z",
     "shell.execute_reply": "2023-05-07T14:05:37.881117Z"
    }
   },
   "outputs": [
    {
     "data": {
      "text/plain": [
       "[1, 2, 3, 4]"
      ]
     },
     "execution_count": 17,
     "metadata": {},
     "output_type": "execute_result"
    }
   ],
   "source": [
    "# removeで要素を削除\n",
    "a.remove(100)\n",
    "a"
   ]
  },
  {
   "cell_type": "code",
   "execution_count": 18,
   "id": "84114d55",
   "metadata": {
    "execution": {
     "iopub.execute_input": "2023-05-07T14:05:37.883396Z",
     "iopub.status.busy": "2023-05-07T14:05:37.883214Z",
     "iopub.status.idle": "2023-05-07T14:05:37.886271Z",
     "shell.execute_reply": "2023-05-07T14:05:37.885845Z"
    }
   },
   "outputs": [
    {
     "data": {
      "text/plain": [
       "4"
      ]
     },
     "execution_count": 18,
     "metadata": {},
     "output_type": "execute_result"
    }
   ],
   "source": [
    "# 最後の要素を返す\n",
    "a.pop()"
   ]
  },
  {
   "cell_type": "code",
   "execution_count": 19,
   "id": "e14dd79f",
   "metadata": {
    "execution": {
     "iopub.execute_input": "2023-05-07T14:05:37.888106Z",
     "iopub.status.busy": "2023-05-07T14:05:37.887921Z",
     "iopub.status.idle": "2023-05-07T14:05:37.890900Z",
     "shell.execute_reply": "2023-05-07T14:05:37.890473Z"
    }
   },
   "outputs": [
    {
     "data": {
      "text/plain": [
       "[1, 2, 3]"
      ]
     },
     "execution_count": 19,
     "metadata": {},
     "output_type": "execute_result"
    }
   ],
   "source": [
    "# popによってサイズが縮小\n",
    "a"
   ]
  },
  {
   "cell_type": "code",
   "execution_count": 20,
   "id": "4bae7f9d",
   "metadata": {
    "execution": {
     "iopub.execute_input": "2023-05-07T14:05:37.892646Z",
     "iopub.status.busy": "2023-05-07T14:05:37.892469Z",
     "iopub.status.idle": "2023-05-07T14:05:37.895753Z",
     "shell.execute_reply": "2023-05-07T14:05:37.895326Z"
    }
   },
   "outputs": [
    {
     "data": {
      "text/plain": [
       "[1, 2, 3, 10, 11, 12]"
      ]
     },
     "execution_count": 20,
     "metadata": {},
     "output_type": "execute_result"
    }
   ],
   "source": [
    "# extendで別のlistの全ての要素を追加\n",
    "a.extend([10, 11, 12])\n",
    "a"
   ]
  },
  {
   "cell_type": "code",
   "execution_count": 21,
   "id": "ef90be4c",
   "metadata": {
    "execution": {
     "iopub.execute_input": "2023-05-07T14:05:37.897552Z",
     "iopub.status.busy": "2023-05-07T14:05:37.897374Z",
     "iopub.status.idle": "2023-05-07T14:05:37.900431Z",
     "shell.execute_reply": "2023-05-07T14:05:37.899948Z"
    }
   },
   "outputs": [
    {
     "data": {
      "text/plain": [
       "[]"
      ]
     },
     "execution_count": 21,
     "metadata": {},
     "output_type": "execute_result"
    }
   ],
   "source": [
    "# 空にする\n",
    "a.clear()\n",
    "a"
   ]
  },
  {
   "cell_type": "code",
   "execution_count": 22,
   "id": "f375b0d7",
   "metadata": {
    "execution": {
     "iopub.execute_input": "2023-05-07T14:05:37.902241Z",
     "iopub.status.busy": "2023-05-07T14:05:37.902061Z",
     "iopub.status.idle": "2023-05-07T14:05:37.905266Z",
     "shell.execute_reply": "2023-05-07T14:05:37.904794Z"
    }
   },
   "outputs": [
    {
     "data": {
      "text/plain": [
       "[3, 4, 5]"
      ]
     },
     "execution_count": 22,
     "metadata": {},
     "output_type": "execute_result"
    }
   ],
   "source": [
    "# tupleをlistに変換\n",
    "list((3, 4, 5))"
   ]
  },
  {
   "cell_type": "code",
   "execution_count": 23,
   "id": "fea85e17",
   "metadata": {
    "execution": {
     "iopub.execute_input": "2023-05-07T14:05:37.907120Z",
     "iopub.status.busy": "2023-05-07T14:05:37.906937Z",
     "iopub.status.idle": "2023-05-07T14:05:37.909979Z",
     "shell.execute_reply": "2023-05-07T14:05:37.909536Z"
    }
   },
   "outputs": [
    {
     "data": {
      "text/plain": [
       "[0, 0, 0, 0, 0, 0, 0, 0, 0, 0]"
      ]
     },
     "execution_count": 23,
     "metadata": {},
     "output_type": "execute_result"
    }
   ],
   "source": [
    "# 0で初期化されたサイズ10のlist\n",
    "[0]*10"
   ]
  },
  {
   "cell_type": "code",
   "execution_count": 24,
   "id": "359d5c44",
   "metadata": {
    "execution": {
     "iopub.execute_input": "2023-05-07T14:05:37.911836Z",
     "iopub.status.busy": "2023-05-07T14:05:37.911652Z",
     "iopub.status.idle": "2023-05-07T14:05:37.914950Z",
     "shell.execute_reply": "2023-05-07T14:05:37.914480Z"
    }
   },
   "outputs": [
    {
     "data": {
      "text/plain": [
       "[0, 1, 4, 9, 16]"
      ]
     },
     "execution_count": 24,
     "metadata": {},
     "output_type": "execute_result"
    }
   ],
   "source": [
    "# 内包表記でlistを生成\n",
    "[i**2 for i in range(5)]"
   ]
  },
  {
   "cell_type": "markdown",
   "id": "710d38c5",
   "metadata": {},
   "source": [
    "## range"
   ]
  },
  {
   "cell_type": "code",
   "execution_count": 25,
   "id": "ec3bac1c",
   "metadata": {
    "execution": {
     "iopub.execute_input": "2023-05-07T14:05:37.916837Z",
     "iopub.status.busy": "2023-05-07T14:05:37.916655Z",
     "iopub.status.idle": "2023-05-07T14:05:37.919693Z",
     "shell.execute_reply": "2023-05-07T14:05:37.919266Z"
    }
   },
   "outputs": [
    {
     "data": {
      "text/plain": [
       "[0, 1, 2, 3, 4]"
      ]
     },
     "execution_count": 25,
     "metadata": {},
     "output_type": "execute_result"
    }
   ],
   "source": [
    "# listに変換\n",
    "list(range(5))"
   ]
  },
  {
   "cell_type": "code",
   "execution_count": 26,
   "id": "06365ce7",
   "metadata": {
    "execution": {
     "iopub.execute_input": "2023-05-07T14:05:37.921502Z",
     "iopub.status.busy": "2023-05-07T14:05:37.921321Z",
     "iopub.status.idle": "2023-05-07T14:05:37.924432Z",
     "shell.execute_reply": "2023-05-07T14:05:37.924000Z"
    }
   },
   "outputs": [
    {
     "data": {
      "text/plain": [
       "(0, 1, 2, 3, 4)"
      ]
     },
     "execution_count": 26,
     "metadata": {},
     "output_type": "execute_result"
    }
   ],
   "source": [
    "# tupleに変換\n",
    "tuple(range(5))"
   ]
  },
  {
   "cell_type": "markdown",
   "id": "a45eb92e",
   "metadata": {},
   "source": [
    "## dict"
   ]
  },
  {
   "cell_type": "code",
   "execution_count": 27,
   "id": "d6a26e5c",
   "metadata": {
    "execution": {
     "iopub.execute_input": "2023-05-07T14:05:37.926342Z",
     "iopub.status.busy": "2023-05-07T14:05:37.926157Z",
     "iopub.status.idle": "2023-05-07T14:05:37.929490Z",
     "shell.execute_reply": "2023-05-07T14:05:37.929070Z"
    }
   },
   "outputs": [
    {
     "data": {
      "text/plain": [
       "{'key1': 'value1', 'key2': 'value2', 'key3': 'value3'}"
      ]
     },
     "execution_count": 27,
     "metadata": {},
     "output_type": "execute_result"
    }
   ],
   "source": [
    "# 陽にキーと値のペアを与えてdictを生成\n",
    "a = {'key1' : 'value1', 'key2' : 'value2', 'key3' : 'value3'}\n",
    "a"
   ]
  },
  {
   "cell_type": "code",
   "execution_count": 28,
   "id": "c04ad928",
   "metadata": {
    "execution": {
     "iopub.execute_input": "2023-05-07T14:05:37.931280Z",
     "iopub.status.busy": "2023-05-07T14:05:37.931101Z",
     "iopub.status.idle": "2023-05-07T14:05:37.934369Z",
     "shell.execute_reply": "2023-05-07T14:05:37.933950Z"
    }
   },
   "outputs": [
    {
     "data": {
      "text/plain": [
       "{'key1': 'value1', 'key2': 'value2', 'key3': 'value3'}"
      ]
     },
     "execution_count": 28,
     "metadata": {},
     "output_type": "execute_result"
    }
   ],
   "source": [
    "# これでも同じ\n",
    "b = dict(key1='value1', key2='value2', key3='value3')\n",
    "b"
   ]
  },
  {
   "cell_type": "code",
   "execution_count": 29,
   "id": "088dc81f",
   "metadata": {
    "execution": {
     "iopub.execute_input": "2023-05-07T14:05:37.936283Z",
     "iopub.status.busy": "2023-05-07T14:05:37.935954Z",
     "iopub.status.idle": "2023-05-07T14:05:37.939128Z",
     "shell.execute_reply": "2023-05-07T14:05:37.938693Z"
    }
   },
   "outputs": [
    {
     "data": {
      "text/plain": [
       "'value3'"
      ]
     },
     "execution_count": 29,
     "metadata": {},
     "output_type": "execute_result"
    }
   ],
   "source": [
    "# キーを指定して値にアクセス\n",
    "a['key3']"
   ]
  },
  {
   "cell_type": "code",
   "execution_count": 30,
   "id": "6f08f1b5",
   "metadata": {
    "execution": {
     "iopub.execute_input": "2023-05-07T14:05:37.940877Z",
     "iopub.status.busy": "2023-05-07T14:05:37.940702Z",
     "iopub.status.idle": "2023-05-07T14:05:37.943766Z",
     "shell.execute_reply": "2023-05-07T14:05:37.943340Z"
    }
   },
   "outputs": [
    {
     "data": {
      "text/plain": [
       "{'key1': 'hoge', 'key2': 'value2', 'key3': 'value3'}"
      ]
     },
     "execution_count": 30,
     "metadata": {},
     "output_type": "execute_result"
    }
   ],
   "source": [
    "# キーを指定して値を更新\n",
    "a['key1'] = 'hoge'\n",
    "a"
   ]
  },
  {
   "cell_type": "code",
   "execution_count": 31,
   "id": "62c4068c",
   "metadata": {
    "execution": {
     "iopub.execute_input": "2023-05-07T14:05:37.945569Z",
     "iopub.status.busy": "2023-05-07T14:05:37.945395Z",
     "iopub.status.idle": "2023-05-07T14:05:37.948504Z",
     "shell.execute_reply": "2023-05-07T14:05:37.948087Z"
    }
   },
   "outputs": [
    {
     "data": {
      "text/plain": [
       "{'key1': 'hoge', 'key2': 'value2', 'key3': 'value3', 'key0': 'value0'}"
      ]
     },
     "execution_count": 31,
     "metadata": {},
     "output_type": "execute_result"
    }
   ],
   "source": [
    "# 存在しないキーを指定すると新たなキーと値を追加\n",
    "a['key0'] = 'value0'\n",
    "a"
   ]
  },
  {
   "cell_type": "code",
   "execution_count": 32,
   "id": "1d38efe5",
   "metadata": {
    "execution": {
     "iopub.execute_input": "2023-05-07T14:05:37.950301Z",
     "iopub.status.busy": "2023-05-07T14:05:37.950115Z",
     "iopub.status.idle": "2023-05-07T14:05:37.953282Z",
     "shell.execute_reply": "2023-05-07T14:05:37.952858Z"
    }
   },
   "outputs": [
    {
     "data": {
      "text/plain": [
       "{'key2': 'value2', 'key3': 'value3', 'key0': 'value0'}"
      ]
     },
     "execution_count": 32,
     "metadata": {},
     "output_type": "execute_result"
    }
   ],
   "source": [
    "# キーと値を削除\n",
    "del a['key1']\n",
    "a"
   ]
  },
  {
   "cell_type": "code",
   "execution_count": 33,
   "id": "c06b39fa",
   "metadata": {
    "execution": {
     "iopub.execute_input": "2023-05-07T14:05:37.955089Z",
     "iopub.status.busy": "2023-05-07T14:05:37.954906Z",
     "iopub.status.idle": "2023-05-07T14:05:37.957901Z",
     "shell.execute_reply": "2023-05-07T14:05:37.957440Z"
    }
   },
   "outputs": [
    {
     "name": "stdout",
     "output_type": "stream",
     "text": [
      "Traceback (most recent call last):\n",
      "  File \"/var/folders/91/5lnzpx8103j7phv4v4wyn89w0000gn/T/ipykernel_43275/3302125977.py\", line 4, in <module>\n",
      "    a['key1']\n",
      "KeyError: 'key1'\n",
      "\n"
     ]
    }
   ],
   "source": [
    "# try-exceptはエラーを出さないための処理なので無視してよい\n",
    "try:\n",
    "    # 存在しないキーを指定するとエラー\n",
    "    a['key1']\n",
    "except Exception as e:\n",
    "    import traceback\n",
    "    print(traceback.format_exc())"
   ]
  },
  {
   "cell_type": "code",
   "execution_count": 34,
   "id": "2b845b14",
   "metadata": {
    "execution": {
     "iopub.execute_input": "2023-05-07T14:05:37.959677Z",
     "iopub.status.busy": "2023-05-07T14:05:37.959496Z",
     "iopub.status.idle": "2023-05-07T14:05:37.962431Z",
     "shell.execute_reply": "2023-05-07T14:05:37.962006Z"
    }
   },
   "outputs": [
    {
     "data": {
      "text/plain": [
       "False"
      ]
     },
     "execution_count": 34,
     "metadata": {},
     "output_type": "execute_result"
    }
   ],
   "source": [
    "# 'key1' が存在するかチェック\n",
    "'key1' in a"
   ]
  },
  {
   "cell_type": "code",
   "execution_count": 35,
   "id": "e5ee70eb",
   "metadata": {
    "execution": {
     "iopub.execute_input": "2023-05-07T14:05:37.964271Z",
     "iopub.status.busy": "2023-05-07T14:05:37.964089Z",
     "iopub.status.idle": "2023-05-07T14:05:37.967049Z",
     "shell.execute_reply": "2023-05-07T14:05:37.966631Z"
    }
   },
   "outputs": [
    {
     "data": {
      "text/plain": [
       "True"
      ]
     },
     "execution_count": 35,
     "metadata": {},
     "output_type": "execute_result"
    }
   ],
   "source": [
    "# 'key2' が存在するかチェック\n",
    "'key2' in a"
   ]
  },
  {
   "cell_type": "code",
   "execution_count": 36,
   "id": "af918cf6",
   "metadata": {
    "execution": {
     "iopub.execute_input": "2023-05-07T14:05:37.968854Z",
     "iopub.status.busy": "2023-05-07T14:05:37.968674Z",
     "iopub.status.idle": "2023-05-07T14:05:37.971783Z",
     "shell.execute_reply": "2023-05-07T14:05:37.971350Z"
    }
   },
   "outputs": [
    {
     "data": {
      "text/plain": [
       "'hoge'"
      ]
     },
     "execution_count": 36,
     "metadata": {},
     "output_type": "execute_result"
    }
   ],
   "source": [
    "# 'key1'にアクセス．存在しない場合は'hoge'を返す\n",
    "a.get('key1', 'hoge')"
   ]
  },
  {
   "cell_type": "code",
   "execution_count": 37,
   "id": "522a31e5",
   "metadata": {
    "execution": {
     "iopub.execute_input": "2023-05-07T14:05:37.973574Z",
     "iopub.status.busy": "2023-05-07T14:05:37.973396Z",
     "iopub.status.idle": "2023-05-07T14:05:37.976392Z",
     "shell.execute_reply": "2023-05-07T14:05:37.975963Z"
    }
   },
   "outputs": [
    {
     "data": {
      "text/plain": [
       "'value2'"
      ]
     },
     "execution_count": 37,
     "metadata": {},
     "output_type": "execute_result"
    }
   ],
   "source": [
    "# 'key2'にアクセス．存在しない場合は'hoge'を返す\n",
    "a.get('key2', 'hoge')"
   ]
  },
  {
   "cell_type": "code",
   "execution_count": 38,
   "id": "53d4ee03",
   "metadata": {
    "execution": {
     "iopub.execute_input": "2023-05-07T14:05:37.978156Z",
     "iopub.status.busy": "2023-05-07T14:05:37.977978Z",
     "iopub.status.idle": "2023-05-07T14:05:37.981047Z",
     "shell.execute_reply": "2023-05-07T14:05:37.980604Z"
    }
   },
   "outputs": [
    {
     "data": {
      "text/plain": [
       "dict_keys(['key2', 'key3', 'key0'])"
      ]
     },
     "execution_count": 38,
     "metadata": {},
     "output_type": "execute_result"
    }
   ],
   "source": [
    "# キー\n",
    "a.keys()"
   ]
  },
  {
   "cell_type": "code",
   "execution_count": 39,
   "id": "04a5e9f9",
   "metadata": {
    "execution": {
     "iopub.execute_input": "2023-05-07T14:05:37.982831Z",
     "iopub.status.busy": "2023-05-07T14:05:37.982646Z",
     "iopub.status.idle": "2023-05-07T14:05:37.985686Z",
     "shell.execute_reply": "2023-05-07T14:05:37.985261Z"
    }
   },
   "outputs": [
    {
     "data": {
      "text/plain": [
       "dict_values(['value2', 'value3', 'value0'])"
      ]
     },
     "execution_count": 39,
     "metadata": {},
     "output_type": "execute_result"
    }
   ],
   "source": [
    "# 値\n",
    "a.values()"
   ]
  },
  {
   "cell_type": "code",
   "execution_count": 40,
   "id": "beea2da2",
   "metadata": {
    "execution": {
     "iopub.execute_input": "2023-05-07T14:05:37.987533Z",
     "iopub.status.busy": "2023-05-07T14:05:37.987350Z",
     "iopub.status.idle": "2023-05-07T14:05:37.990340Z",
     "shell.execute_reply": "2023-05-07T14:05:37.989888Z"
    }
   },
   "outputs": [
    {
     "data": {
      "text/plain": [
       "dict_items([('key2', 'value2'), ('key3', 'value3'), ('key0', 'value0')])"
      ]
     },
     "execution_count": 40,
     "metadata": {},
     "output_type": "execute_result"
    }
   ],
   "source": [
    "# キーと値のペア\n",
    "a.items()"
   ]
  },
  {
   "cell_type": "code",
   "execution_count": 41,
   "id": "6623218e",
   "metadata": {
    "execution": {
     "iopub.execute_input": "2023-05-07T14:05:37.992159Z",
     "iopub.status.busy": "2023-05-07T14:05:37.991975Z",
     "iopub.status.idle": "2023-05-07T14:05:37.994805Z",
     "shell.execute_reply": "2023-05-07T14:05:37.994309Z"
    }
   },
   "outputs": [
    {
     "name": "stdout",
     "output_type": "stream",
     "text": [
      "key = key2  : value = value2\n",
      "key = key3  : value = value3\n",
      "key = key0  : value = value0\n"
     ]
    }
   ],
   "source": [
    "# dictの全ての要素に対する処理\n",
    "for key, val in a.items():\n",
    "    print(\"key = {:5s} : value = {:5s}\".format(key, val))"
   ]
  },
  {
   "cell_type": "code",
   "execution_count": 42,
   "id": "e5c88ac2",
   "metadata": {
    "execution": {
     "iopub.execute_input": "2023-05-07T14:05:37.996603Z",
     "iopub.status.busy": "2023-05-07T14:05:37.996416Z",
     "iopub.status.idle": "2023-05-07T14:05:37.999163Z",
     "shell.execute_reply": "2023-05-07T14:05:37.998667Z"
    }
   },
   "outputs": [
    {
     "name": "stdout",
     "output_type": "stream",
     "text": [
      "key2\n",
      "key3\n",
      "key0\n"
     ]
    }
   ],
   "source": [
    "# 同様に全てのキーに対する処理\n",
    "for key in a.keys():\n",
    "    print(key)"
   ]
  },
  {
   "cell_type": "code",
   "execution_count": 43,
   "id": "522bd1c1",
   "metadata": {
    "execution": {
     "iopub.execute_input": "2023-05-07T14:05:38.000976Z",
     "iopub.status.busy": "2023-05-07T14:05:38.000796Z",
     "iopub.status.idle": "2023-05-07T14:05:38.004010Z",
     "shell.execute_reply": "2023-05-07T14:05:38.003610Z"
    }
   },
   "outputs": [
    {
     "data": {
      "text/plain": [
       "['key2', 'key3', 'key0']"
      ]
     },
     "execution_count": 43,
     "metadata": {},
     "output_type": "execute_result"
    }
   ],
   "source": [
    "# .keys()で返されるオブジェクトをlistに変換\n",
    "keys = list(a.keys())\n",
    "keys"
   ]
  },
  {
   "cell_type": "code",
   "execution_count": 44,
   "id": "c9885434",
   "metadata": {
    "execution": {
     "iopub.execute_input": "2023-05-07T14:05:38.005891Z",
     "iopub.status.busy": "2023-05-07T14:05:38.005705Z",
     "iopub.status.idle": "2023-05-07T14:05:38.008769Z",
     "shell.execute_reply": "2023-05-07T14:05:38.008347Z"
    }
   },
   "outputs": [
    {
     "data": {
      "text/plain": [
       "['key0', 'key2', 'key3']"
      ]
     },
     "execution_count": 44,
     "metadata": {},
     "output_type": "execute_result"
    }
   ],
   "source": [
    "# listをソート\n",
    "keys.sort()\n",
    "keys"
   ]
  },
  {
   "cell_type": "code",
   "execution_count": 45,
   "id": "e2e3005e",
   "metadata": {
    "execution": {
     "iopub.execute_input": "2023-05-07T14:05:38.010615Z",
     "iopub.status.busy": "2023-05-07T14:05:38.010431Z",
     "iopub.status.idle": "2023-05-07T14:05:38.013294Z",
     "shell.execute_reply": "2023-05-07T14:05:38.012829Z"
    }
   },
   "outputs": [
    {
     "name": "stdout",
     "output_type": "stream",
     "text": [
      "key = key0  : value = value0\n",
      "key = key2  : value = value2\n",
      "key = key3  : value = value3\n"
     ]
    }
   ],
   "source": [
    "# ソートしたキーで順にアクセスする\n",
    "for key in keys:\n",
    "    print(\"key = {:5s} : value = {:5s}\".format(key, a[key]))"
   ]
  },
  {
   "cell_type": "code",
   "execution_count": null,
   "id": "8f38fe38",
   "metadata": {},
   "outputs": [],
   "source": []
  }
 ],
 "metadata": {
  "kernelspec": {
   "display_name": "base",
   "language": "python",
   "name": "python3"
  },
  "language_info": {
   "codemirror_mode": {
    "name": "ipython",
    "version": 3
   },
   "file_extension": ".py",
   "mimetype": "text/x-python",
   "name": "python",
   "nbconvert_exporter": "python",
   "pygments_lexer": "ipython3",
   "version": "3.8.16"
  },
  "vscode": {
   "interpreter": {
    "hash": "546c21d3de566120dda309d1397c5675600fd1cfea721af46f796ef4bbd56950"
   }
  }
 },
 "nbformat": 4,
 "nbformat_minor": 5
}
