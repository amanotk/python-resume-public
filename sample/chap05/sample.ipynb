{
 "cells": [
  {
   "attachments": {},
   "cell_type": "markdown",
   "id": "3e54f218",
   "metadata": {},
   "source": [
    "<a href=\"https://colab.research.google.com/github/amanotk/python-resume-sample/blob/main/chap05/sample.ipynb\">\n",
    "<img src=\"https://colab.research.google.com/assets/colab-badge.svg\" style=\"vertical-align: text-top;\">\n",
    "</a>\n",
    "\n",
    "# 5. 便利な組み込み型"
   ]
  },
  {
   "cell_type": "markdown",
   "id": "0ec8f4db",
   "metadata": {},
   "source": [
    "## tuple"
   ]
  },
  {
   "cell_type": "code",
   "execution_count": 1,
   "id": "9ebd97fd",
   "metadata": {
    "execution": {
     "iopub.execute_input": "2023-04-04T14:46:18.522000Z",
     "iopub.status.busy": "2023-04-04T14:46:18.521653Z",
     "iopub.status.idle": "2023-04-04T14:46:18.532561Z",
     "shell.execute_reply": "2023-04-04T14:46:18.531950Z"
    }
   },
   "outputs": [
    {
     "data": {
      "text/plain": [
       "(1, 2, 3)"
      ]
     },
     "execution_count": 1,
     "metadata": {},
     "output_type": "execute_result"
    }
   ],
   "source": [
    "# サイズ3のtuple\n",
    "(1, 2, 3)"
   ]
  },
  {
   "cell_type": "code",
   "execution_count": 2,
   "id": "afcb0907",
   "metadata": {
    "execution": {
     "iopub.execute_input": "2023-04-04T14:46:18.535352Z",
     "iopub.status.busy": "2023-04-04T14:46:18.535092Z",
     "iopub.status.idle": "2023-04-04T14:46:18.538526Z",
     "shell.execute_reply": "2023-04-04T14:46:18.538059Z"
    }
   },
   "outputs": [
    {
     "data": {
      "text/plain": [
       "()"
      ]
     },
     "execution_count": 2,
     "metadata": {},
     "output_type": "execute_result"
    }
   ],
   "source": [
    "# 空のtuple\n",
    "()"
   ]
  },
  {
   "cell_type": "code",
   "execution_count": 3,
   "id": "6852a048",
   "metadata": {
    "execution": {
     "iopub.execute_input": "2023-04-04T14:46:18.540501Z",
     "iopub.status.busy": "2023-04-04T14:46:18.540297Z",
     "iopub.status.idle": "2023-04-04T14:46:18.543889Z",
     "shell.execute_reply": "2023-04-04T14:46:18.543425Z"
    }
   },
   "outputs": [
    {
     "data": {
      "text/plain": [
       "(1, 'string', ('this', 'is', 'tuple'))"
      ]
     },
     "execution_count": 3,
     "metadata": {},
     "output_type": "execute_result"
    }
   ],
   "source": [
    "# tupleを作る\n",
    "a = ('this', 'is', 'tuple') \n",
    "\n",
    "# 任意のPythonオブジェクトが要素となれる\n",
    "(1, 'string', a) "
   ]
  },
  {
   "cell_type": "code",
   "execution_count": 4,
   "id": "b273570b",
   "metadata": {
    "execution": {
     "iopub.execute_input": "2023-04-04T14:46:18.545864Z",
     "iopub.status.busy": "2023-04-04T14:46:18.545670Z",
     "iopub.status.idle": "2023-04-04T14:46:18.548928Z",
     "shell.execute_reply": "2023-04-04T14:46:18.548440Z"
    }
   },
   "outputs": [
    {
     "data": {
      "text/plain": [
       "'this'"
      ]
     },
     "execution_count": 4,
     "metadata": {},
     "output_type": "execute_result"
    }
   ],
   "source": [
    "# 最初の要素にアクセス\n",
    "a[0]"
   ]
  },
  {
   "cell_type": "code",
   "execution_count": 5,
   "id": "64503c3f",
   "metadata": {
    "execution": {
     "iopub.execute_input": "2023-04-04T14:46:18.551107Z",
     "iopub.status.busy": "2023-04-04T14:46:18.550886Z",
     "iopub.status.idle": "2023-04-04T14:46:18.554351Z",
     "shell.execute_reply": "2023-04-04T14:46:18.553814Z"
    }
   },
   "outputs": [
    {
     "name": "stdout",
     "output_type": "stream",
     "text": [
      "Traceback (most recent call last):\n",
      "  File \"/var/folders/91/5lnzpx8103j7phv4v4wyn89w0000gn/T/ipykernel_85025/2664072323.py\", line 4, in <module>\n",
      "    a[0] = 'that'\n",
      "TypeError: 'tuple' object does not support item assignment\n",
      "\n"
     ]
    }
   ],
   "source": [
    "# try-exceptはエラーを出さないための処理なので無視してよい\n",
    "try:\n",
    "    # 代入(値の更新)はできない\n",
    "    a[0] = 'that'\n",
    "except Exception as e:\n",
    "    import traceback\n",
    "    print(traceback.format_exc())"
   ]
  },
  {
   "cell_type": "code",
   "execution_count": 6,
   "id": "23970342",
   "metadata": {
    "execution": {
     "iopub.execute_input": "2023-04-04T14:46:18.556311Z",
     "iopub.status.busy": "2023-04-04T14:46:18.556113Z",
     "iopub.status.idle": "2023-04-04T14:46:18.559061Z",
     "shell.execute_reply": "2023-04-04T14:46:18.558385Z"
    }
   },
   "outputs": [],
   "source": [
    "# 関数の返値がtuple\n",
    "def test_tuple(a, b):\n",
    "    return a+b, a-b"
   ]
  },
  {
   "cell_type": "code",
   "execution_count": 7,
   "id": "a49a71a2",
   "metadata": {
    "execution": {
     "iopub.execute_input": "2023-04-04T14:46:18.561258Z",
     "iopub.status.busy": "2023-04-04T14:46:18.561056Z",
     "iopub.status.idle": "2023-04-04T14:46:18.564302Z",
     "shell.execute_reply": "2023-04-04T14:46:18.563786Z"
    }
   },
   "outputs": [
    {
     "data": {
      "text/plain": [
       "(3, -1)"
      ]
     },
     "execution_count": 7,
     "metadata": {},
     "output_type": "execute_result"
    }
   ],
   "source": [
    "# 関数の返値を確認\n",
    "test_tuple(1, 2)"
   ]
  },
  {
   "cell_type": "code",
   "execution_count": 8,
   "id": "825a08e5",
   "metadata": {
    "execution": {
     "iopub.execute_input": "2023-04-04T14:46:18.566375Z",
     "iopub.status.busy": "2023-04-04T14:46:18.566170Z",
     "iopub.status.idle": "2023-04-04T14:46:18.568960Z",
     "shell.execute_reply": "2023-04-04T14:46:18.568408Z"
    }
   },
   "outputs": [],
   "source": [
    "# 返値はサイズ2のtupleなので，それぞれを別の変数に代入\n",
    "c, d = test_tuple(20, 10)"
   ]
  },
  {
   "cell_type": "code",
   "execution_count": 9,
   "id": "eb2837f9",
   "metadata": {
    "execution": {
     "iopub.execute_input": "2023-04-04T14:46:18.571199Z",
     "iopub.status.busy": "2023-04-04T14:46:18.570972Z",
     "iopub.status.idle": "2023-04-04T14:46:18.574100Z",
     "shell.execute_reply": "2023-04-04T14:46:18.573655Z"
    }
   },
   "outputs": [
    {
     "data": {
      "text/plain": [
       "30"
      ]
     },
     "execution_count": 9,
     "metadata": {},
     "output_type": "execute_result"
    }
   ],
   "source": [
    "c"
   ]
  },
  {
   "cell_type": "code",
   "execution_count": 10,
   "id": "aea647bc",
   "metadata": {
    "execution": {
     "iopub.execute_input": "2023-04-04T14:46:18.576158Z",
     "iopub.status.busy": "2023-04-04T14:46:18.575948Z",
     "iopub.status.idle": "2023-04-04T14:46:18.579226Z",
     "shell.execute_reply": "2023-04-04T14:46:18.578747Z"
    }
   },
   "outputs": [
    {
     "data": {
      "text/plain": [
       "10"
      ]
     },
     "execution_count": 10,
     "metadata": {},
     "output_type": "execute_result"
    }
   ],
   "source": [
    "d"
   ]
  },
  {
   "cell_type": "markdown",
   "id": "a8665f1f",
   "metadata": {},
   "source": [
    "## list"
   ]
  },
  {
   "cell_type": "code",
   "execution_count": 11,
   "id": "be4c147d",
   "metadata": {
    "execution": {
     "iopub.execute_input": "2023-04-04T14:46:18.581416Z",
     "iopub.status.busy": "2023-04-04T14:46:18.581213Z",
     "iopub.status.idle": "2023-04-04T14:46:18.584569Z",
     "shell.execute_reply": "2023-04-04T14:46:18.584102Z"
    }
   },
   "outputs": [
    {
     "data": {
      "text/plain": [
       "[]"
      ]
     },
     "execution_count": 11,
     "metadata": {},
     "output_type": "execute_result"
    }
   ],
   "source": [
    "# 空のlist\n",
    "[]"
   ]
  },
  {
   "cell_type": "code",
   "execution_count": 12,
   "id": "1801a11a",
   "metadata": {
    "execution": {
     "iopub.execute_input": "2023-04-04T14:46:18.586839Z",
     "iopub.status.busy": "2023-04-04T14:46:18.586542Z",
     "iopub.status.idle": "2023-04-04T14:46:18.591079Z",
     "shell.execute_reply": "2023-04-04T14:46:18.590592Z"
    }
   },
   "outputs": [
    {
     "data": {
      "text/plain": [
       "[1, 'string', ['this', 'is', 'list']]"
      ]
     },
     "execution_count": 12,
     "metadata": {},
     "output_type": "execute_result"
    }
   ],
   "source": [
    "# listも任意のPythonオブジェクトを要素とする\n",
    "a = ['this', 'is', 'list']\n",
    "[1, 'string', a]"
   ]
  },
  {
   "cell_type": "code",
   "execution_count": 13,
   "id": "d914d925",
   "metadata": {
    "execution": {
     "iopub.execute_input": "2023-04-04T14:46:18.593294Z",
     "iopub.status.busy": "2023-04-04T14:46:18.593082Z",
     "iopub.status.idle": "2023-04-04T14:46:18.596362Z",
     "shell.execute_reply": "2023-04-04T14:46:18.595886Z"
    }
   },
   "outputs": [
    {
     "data": {
      "text/plain": [
       "'this'"
      ]
     },
     "execution_count": 13,
     "metadata": {},
     "output_type": "execute_result"
    }
   ],
   "source": [
    "# 最初の要素にアクセス\n",
    "a[0]"
   ]
  },
  {
   "cell_type": "code",
   "execution_count": 14,
   "id": "53053c17",
   "metadata": {
    "execution": {
     "iopub.execute_input": "2023-04-04T14:46:18.598437Z",
     "iopub.status.busy": "2023-04-04T14:46:18.598226Z",
     "iopub.status.idle": "2023-04-04T14:46:18.601718Z",
     "shell.execute_reply": "2023-04-04T14:46:18.601187Z"
    }
   },
   "outputs": [
    {
     "data": {
      "text/plain": [
       "['that', 'is', 'list']"
      ]
     },
     "execution_count": 14,
     "metadata": {},
     "output_type": "execute_result"
    }
   ],
   "source": [
    "# listは値の書き換えが可能\n",
    "a[0] = 'that'\n",
    "a"
   ]
  },
  {
   "cell_type": "code",
   "execution_count": 15,
   "id": "0097590e",
   "metadata": {
    "execution": {
     "iopub.execute_input": "2023-04-04T14:46:18.603971Z",
     "iopub.status.busy": "2023-04-04T14:46:18.603755Z",
     "iopub.status.idle": "2023-04-04T14:46:18.607321Z",
     "shell.execute_reply": "2023-04-04T14:46:18.606770Z"
    }
   },
   "outputs": [
    {
     "data": {
      "text/plain": [
       "[1, 2, 3, 4]"
      ]
     },
     "execution_count": 15,
     "metadata": {},
     "output_type": "execute_result"
    }
   ],
   "source": [
    "# appendで要素を追加\n",
    "a = [1, 2, 3]\n",
    "a.append(4)\n",
    "a"
   ]
  },
  {
   "cell_type": "code",
   "execution_count": 16,
   "id": "636fafae",
   "metadata": {
    "execution": {
     "iopub.execute_input": "2023-04-04T14:46:18.609618Z",
     "iopub.status.busy": "2023-04-04T14:46:18.609399Z",
     "iopub.status.idle": "2023-04-04T14:46:18.613125Z",
     "shell.execute_reply": "2023-04-04T14:46:18.612543Z"
    }
   },
   "outputs": [
    {
     "data": {
      "text/plain": [
       "[1, 100, 2, 3, 4]"
      ]
     },
     "execution_count": 16,
     "metadata": {},
     "output_type": "execute_result"
    }
   ],
   "source": [
    "# insertで要素を挿入\n",
    "a.insert(1, 100)\n",
    "a"
   ]
  },
  {
   "cell_type": "code",
   "execution_count": 17,
   "id": "c9b0fbcc",
   "metadata": {
    "execution": {
     "iopub.execute_input": "2023-04-04T14:46:18.615278Z",
     "iopub.status.busy": "2023-04-04T14:46:18.615063Z",
     "iopub.status.idle": "2023-04-04T14:46:18.618377Z",
     "shell.execute_reply": "2023-04-04T14:46:18.617937Z"
    }
   },
   "outputs": [
    {
     "data": {
      "text/plain": [
       "[1, 2, 3, 4]"
      ]
     },
     "execution_count": 17,
     "metadata": {},
     "output_type": "execute_result"
    }
   ],
   "source": [
    "# removeで要素を削除\n",
    "a.remove(100)\n",
    "a"
   ]
  },
  {
   "cell_type": "code",
   "execution_count": 18,
   "id": "84114d55",
   "metadata": {
    "execution": {
     "iopub.execute_input": "2023-04-04T14:46:18.620785Z",
     "iopub.status.busy": "2023-04-04T14:46:18.620564Z",
     "iopub.status.idle": "2023-04-04T14:46:18.623860Z",
     "shell.execute_reply": "2023-04-04T14:46:18.623354Z"
    }
   },
   "outputs": [
    {
     "data": {
      "text/plain": [
       "4"
      ]
     },
     "execution_count": 18,
     "metadata": {},
     "output_type": "execute_result"
    }
   ],
   "source": [
    "# 最後の要素を返す\n",
    "a.pop()"
   ]
  },
  {
   "cell_type": "code",
   "execution_count": 19,
   "id": "e14dd79f",
   "metadata": {
    "execution": {
     "iopub.execute_input": "2023-04-04T14:46:18.625934Z",
     "iopub.status.busy": "2023-04-04T14:46:18.625745Z",
     "iopub.status.idle": "2023-04-04T14:46:18.628892Z",
     "shell.execute_reply": "2023-04-04T14:46:18.628413Z"
    }
   },
   "outputs": [
    {
     "data": {
      "text/plain": [
       "[1, 2, 3]"
      ]
     },
     "execution_count": 19,
     "metadata": {},
     "output_type": "execute_result"
    }
   ],
   "source": [
    "# popによってサイズが縮小\n",
    "a"
   ]
  },
  {
   "cell_type": "code",
   "execution_count": 20,
   "id": "4bae7f9d",
   "metadata": {
    "execution": {
     "iopub.execute_input": "2023-04-04T14:46:18.630750Z",
     "iopub.status.busy": "2023-04-04T14:46:18.630566Z",
     "iopub.status.idle": "2023-04-04T14:46:18.634382Z",
     "shell.execute_reply": "2023-04-04T14:46:18.633580Z"
    }
   },
   "outputs": [
    {
     "data": {
      "text/plain": [
       "[1, 2, 3, 10, 11, 12]"
      ]
     },
     "execution_count": 20,
     "metadata": {},
     "output_type": "execute_result"
    }
   ],
   "source": [
    "# extendで別のlistの全ての要素を追加\n",
    "a.extend([10, 11, 12])\n",
    "a"
   ]
  },
  {
   "cell_type": "code",
   "execution_count": 21,
   "id": "ef90be4c",
   "metadata": {
    "execution": {
     "iopub.execute_input": "2023-04-04T14:46:18.636621Z",
     "iopub.status.busy": "2023-04-04T14:46:18.636399Z",
     "iopub.status.idle": "2023-04-04T14:46:18.639766Z",
     "shell.execute_reply": "2023-04-04T14:46:18.639287Z"
    }
   },
   "outputs": [
    {
     "data": {
      "text/plain": [
       "[]"
      ]
     },
     "execution_count": 21,
     "metadata": {},
     "output_type": "execute_result"
    }
   ],
   "source": [
    "# 空にする\n",
    "a.clear()\n",
    "a"
   ]
  },
  {
   "cell_type": "code",
   "execution_count": 22,
   "id": "f375b0d7",
   "metadata": {
    "execution": {
     "iopub.execute_input": "2023-04-04T14:46:18.641663Z",
     "iopub.status.busy": "2023-04-04T14:46:18.641463Z",
     "iopub.status.idle": "2023-04-04T14:46:18.644821Z",
     "shell.execute_reply": "2023-04-04T14:46:18.644380Z"
    }
   },
   "outputs": [
    {
     "data": {
      "text/plain": [
       "[3, 4, 5]"
      ]
     },
     "execution_count": 22,
     "metadata": {},
     "output_type": "execute_result"
    }
   ],
   "source": [
    "# tupleをlistに変換\n",
    "list((3, 4, 5))"
   ]
  },
  {
   "cell_type": "code",
   "execution_count": 23,
   "id": "fea85e17",
   "metadata": {
    "execution": {
     "iopub.execute_input": "2023-04-04T14:46:18.646826Z",
     "iopub.status.busy": "2023-04-04T14:46:18.646617Z",
     "iopub.status.idle": "2023-04-04T14:46:18.649895Z",
     "shell.execute_reply": "2023-04-04T14:46:18.649436Z"
    }
   },
   "outputs": [
    {
     "data": {
      "text/plain": [
       "[0, 0, 0, 0, 0, 0, 0, 0, 0, 0]"
      ]
     },
     "execution_count": 23,
     "metadata": {},
     "output_type": "execute_result"
    }
   ],
   "source": [
    "# 0で初期化されたサイズ10のlist\n",
    "[0]*10"
   ]
  },
  {
   "cell_type": "code",
   "execution_count": 24,
   "id": "359d5c44",
   "metadata": {
    "execution": {
     "iopub.execute_input": "2023-04-04T14:46:18.651953Z",
     "iopub.status.busy": "2023-04-04T14:46:18.651736Z",
     "iopub.status.idle": "2023-04-04T14:46:18.655242Z",
     "shell.execute_reply": "2023-04-04T14:46:18.654790Z"
    }
   },
   "outputs": [
    {
     "data": {
      "text/plain": [
       "[0, 1, 4, 9, 16]"
      ]
     },
     "execution_count": 24,
     "metadata": {},
     "output_type": "execute_result"
    }
   ],
   "source": [
    "# 内包表記でlistを生成\n",
    "[i**2 for i in range(5)]"
   ]
  },
  {
   "cell_type": "markdown",
   "id": "710d38c5",
   "metadata": {},
   "source": [
    "## range"
   ]
  },
  {
   "cell_type": "code",
   "execution_count": 25,
   "id": "ec3bac1c",
   "metadata": {
    "execution": {
     "iopub.execute_input": "2023-04-04T14:46:18.657230Z",
     "iopub.status.busy": "2023-04-04T14:46:18.657030Z",
     "iopub.status.idle": "2023-04-04T14:46:18.660331Z",
     "shell.execute_reply": "2023-04-04T14:46:18.659872Z"
    }
   },
   "outputs": [
    {
     "data": {
      "text/plain": [
       "[0, 1, 2, 3, 4]"
      ]
     },
     "execution_count": 25,
     "metadata": {},
     "output_type": "execute_result"
    }
   ],
   "source": [
    "# listに変換\n",
    "list(range(5))"
   ]
  },
  {
   "cell_type": "code",
   "execution_count": 26,
   "id": "06365ce7",
   "metadata": {
    "execution": {
     "iopub.execute_input": "2023-04-04T14:46:18.662198Z",
     "iopub.status.busy": "2023-04-04T14:46:18.662011Z",
     "iopub.status.idle": "2023-04-04T14:46:18.665298Z",
     "shell.execute_reply": "2023-04-04T14:46:18.664864Z"
    }
   },
   "outputs": [
    {
     "data": {
      "text/plain": [
       "(0, 1, 2, 3, 4)"
      ]
     },
     "execution_count": 26,
     "metadata": {},
     "output_type": "execute_result"
    }
   ],
   "source": [
    "# tupleに変換\n",
    "tuple(range(5))"
   ]
  },
  {
   "cell_type": "markdown",
   "id": "a45eb92e",
   "metadata": {},
   "source": [
    "## dict"
   ]
  },
  {
   "cell_type": "code",
   "execution_count": 27,
   "id": "d6a26e5c",
   "metadata": {
    "execution": {
     "iopub.execute_input": "2023-04-04T14:46:18.667234Z",
     "iopub.status.busy": "2023-04-04T14:46:18.667040Z",
     "iopub.status.idle": "2023-04-04T14:46:18.670980Z",
     "shell.execute_reply": "2023-04-04T14:46:18.670550Z"
    }
   },
   "outputs": [
    {
     "data": {
      "text/plain": [
       "{'key1': 'value1', 'key2': 'value2', 'key3': 'value3'}"
      ]
     },
     "execution_count": 27,
     "metadata": {},
     "output_type": "execute_result"
    }
   ],
   "source": [
    "# 陽にキーと値のペアを与えてdictを生成\n",
    "a = {'key1' : 'value1', 'key2' : 'value2', 'key3' : 'value3'}\n",
    "a"
   ]
  },
  {
   "cell_type": "code",
   "execution_count": 28,
   "id": "c04ad928",
   "metadata": {
    "execution": {
     "iopub.execute_input": "2023-04-04T14:46:18.673018Z",
     "iopub.status.busy": "2023-04-04T14:46:18.672818Z",
     "iopub.status.idle": "2023-04-04T14:46:18.676456Z",
     "shell.execute_reply": "2023-04-04T14:46:18.675936Z"
    }
   },
   "outputs": [
    {
     "data": {
      "text/plain": [
       "{'key1': 'value1', 'key2': 'value2', 'key3': 'value3'}"
      ]
     },
     "execution_count": 28,
     "metadata": {},
     "output_type": "execute_result"
    }
   ],
   "source": [
    "# これでも同じ\n",
    "b = dict(key1='value1', key2='value2', key3='value3')\n",
    "b"
   ]
  },
  {
   "cell_type": "code",
   "execution_count": 29,
   "id": "088dc81f",
   "metadata": {
    "execution": {
     "iopub.execute_input": "2023-04-04T14:46:18.678319Z",
     "iopub.status.busy": "2023-04-04T14:46:18.678132Z",
     "iopub.status.idle": "2023-04-04T14:46:18.681212Z",
     "shell.execute_reply": "2023-04-04T14:46:18.680797Z"
    }
   },
   "outputs": [
    {
     "data": {
      "text/plain": [
       "'value3'"
      ]
     },
     "execution_count": 29,
     "metadata": {},
     "output_type": "execute_result"
    }
   ],
   "source": [
    "# キーを指定して値にアクセス\n",
    "a['key3']"
   ]
  },
  {
   "cell_type": "code",
   "execution_count": 30,
   "id": "6f08f1b5",
   "metadata": {
    "execution": {
     "iopub.execute_input": "2023-04-04T14:46:18.683001Z",
     "iopub.status.busy": "2023-04-04T14:46:18.682822Z",
     "iopub.status.idle": "2023-04-04T14:46:18.686148Z",
     "shell.execute_reply": "2023-04-04T14:46:18.685638Z"
    }
   },
   "outputs": [
    {
     "data": {
      "text/plain": [
       "{'key1': 'hoge', 'key2': 'value2', 'key3': 'value3'}"
      ]
     },
     "execution_count": 30,
     "metadata": {},
     "output_type": "execute_result"
    }
   ],
   "source": [
    "# キーを指定して値を更新\n",
    "a['key1'] = 'hoge'\n",
    "a"
   ]
  },
  {
   "cell_type": "code",
   "execution_count": 31,
   "id": "62c4068c",
   "metadata": {
    "execution": {
     "iopub.execute_input": "2023-04-04T14:46:18.688169Z",
     "iopub.status.busy": "2023-04-04T14:46:18.687972Z",
     "iopub.status.idle": "2023-04-04T14:46:18.691506Z",
     "shell.execute_reply": "2023-04-04T14:46:18.691081Z"
    }
   },
   "outputs": [
    {
     "data": {
      "text/plain": [
       "{'key1': 'hoge', 'key2': 'value2', 'key3': 'value3', 'key0': 'value0'}"
      ]
     },
     "execution_count": 31,
     "metadata": {},
     "output_type": "execute_result"
    }
   ],
   "source": [
    "# 存在しないキーを指定すると新たなキーと値を追加\n",
    "a['key0'] = 'value0'\n",
    "a"
   ]
  },
  {
   "cell_type": "code",
   "execution_count": 32,
   "id": "1d38efe5",
   "metadata": {
    "execution": {
     "iopub.execute_input": "2023-04-04T14:46:18.693561Z",
     "iopub.status.busy": "2023-04-04T14:46:18.693358Z",
     "iopub.status.idle": "2023-04-04T14:46:18.696546Z",
     "shell.execute_reply": "2023-04-04T14:46:18.696065Z"
    }
   },
   "outputs": [
    {
     "data": {
      "text/plain": [
       "{'key2': 'value2', 'key3': 'value3', 'key0': 'value0'}"
      ]
     },
     "execution_count": 32,
     "metadata": {},
     "output_type": "execute_result"
    }
   ],
   "source": [
    "# キーと値を削除\n",
    "del a['key1']\n",
    "a"
   ]
  },
  {
   "cell_type": "code",
   "execution_count": 33,
   "id": "c06b39fa",
   "metadata": {
    "execution": {
     "iopub.execute_input": "2023-04-04T14:46:18.698524Z",
     "iopub.status.busy": "2023-04-04T14:46:18.698332Z",
     "iopub.status.idle": "2023-04-04T14:46:18.701545Z",
     "shell.execute_reply": "2023-04-04T14:46:18.700916Z"
    }
   },
   "outputs": [
    {
     "name": "stdout",
     "output_type": "stream",
     "text": [
      "Traceback (most recent call last):\n",
      "  File \"/var/folders/91/5lnzpx8103j7phv4v4wyn89w0000gn/T/ipykernel_85025/3302125977.py\", line 4, in <module>\n",
      "    a['key1']\n",
      "KeyError: 'key1'\n",
      "\n"
     ]
    }
   ],
   "source": [
    "# try-exceptはエラーを出さないための処理なので無視してよい\n",
    "try:\n",
    "    # 存在しないキーを指定するとエラー\n",
    "    a['key1']\n",
    "except Exception as e:\n",
    "    import traceback\n",
    "    print(traceback.format_exc())"
   ]
  },
  {
   "cell_type": "code",
   "execution_count": 34,
   "id": "2b845b14",
   "metadata": {
    "execution": {
     "iopub.execute_input": "2023-04-04T14:46:18.703699Z",
     "iopub.status.busy": "2023-04-04T14:46:18.703491Z",
     "iopub.status.idle": "2023-04-04T14:46:18.706658Z",
     "shell.execute_reply": "2023-04-04T14:46:18.706217Z"
    }
   },
   "outputs": [
    {
     "data": {
      "text/plain": [
       "False"
      ]
     },
     "execution_count": 34,
     "metadata": {},
     "output_type": "execute_result"
    }
   ],
   "source": [
    "# 'key1' が存在するかチェック\n",
    "'key1' in a"
   ]
  },
  {
   "cell_type": "code",
   "execution_count": 35,
   "id": "e5ee70eb",
   "metadata": {
    "execution": {
     "iopub.execute_input": "2023-04-04T14:46:18.708535Z",
     "iopub.status.busy": "2023-04-04T14:46:18.708344Z",
     "iopub.status.idle": "2023-04-04T14:46:18.711504Z",
     "shell.execute_reply": "2023-04-04T14:46:18.711078Z"
    }
   },
   "outputs": [
    {
     "data": {
      "text/plain": [
       "True"
      ]
     },
     "execution_count": 35,
     "metadata": {},
     "output_type": "execute_result"
    }
   ],
   "source": [
    "# 'key2' が存在するかチェック\n",
    "'key2' in a"
   ]
  },
  {
   "cell_type": "code",
   "execution_count": 36,
   "id": "af918cf6",
   "metadata": {
    "execution": {
     "iopub.execute_input": "2023-04-04T14:46:18.713304Z",
     "iopub.status.busy": "2023-04-04T14:46:18.713119Z",
     "iopub.status.idle": "2023-04-04T14:46:18.716226Z",
     "shell.execute_reply": "2023-04-04T14:46:18.715792Z"
    }
   },
   "outputs": [
    {
     "data": {
      "text/plain": [
       "'hoge'"
      ]
     },
     "execution_count": 36,
     "metadata": {},
     "output_type": "execute_result"
    }
   ],
   "source": [
    "# 'key1'にアクセス．存在しない場合は'hoge'を返す\n",
    "a.get('key1', 'hoge')"
   ]
  },
  {
   "cell_type": "code",
   "execution_count": 37,
   "id": "522a31e5",
   "metadata": {
    "execution": {
     "iopub.execute_input": "2023-04-04T14:46:18.718797Z",
     "iopub.status.busy": "2023-04-04T14:46:18.718495Z",
     "iopub.status.idle": "2023-04-04T14:46:18.721982Z",
     "shell.execute_reply": "2023-04-04T14:46:18.721504Z"
    }
   },
   "outputs": [
    {
     "data": {
      "text/plain": [
       "'value2'"
      ]
     },
     "execution_count": 37,
     "metadata": {},
     "output_type": "execute_result"
    }
   ],
   "source": [
    "# 'key2'にアクセス．存在しない場合は'hoge'を返す\n",
    "a.get('key2', 'hoge')"
   ]
  },
  {
   "cell_type": "code",
   "execution_count": 38,
   "id": "53d4ee03",
   "metadata": {
    "execution": {
     "iopub.execute_input": "2023-04-04T14:46:18.723896Z",
     "iopub.status.busy": "2023-04-04T14:46:18.723708Z",
     "iopub.status.idle": "2023-04-04T14:46:18.726954Z",
     "shell.execute_reply": "2023-04-04T14:46:18.726448Z"
    }
   },
   "outputs": [
    {
     "data": {
      "text/plain": [
       "dict_keys(['key2', 'key3', 'key0'])"
      ]
     },
     "execution_count": 38,
     "metadata": {},
     "output_type": "execute_result"
    }
   ],
   "source": [
    "# キー\n",
    "a.keys()"
   ]
  },
  {
   "cell_type": "code",
   "execution_count": 39,
   "id": "04a5e9f9",
   "metadata": {
    "execution": {
     "iopub.execute_input": "2023-04-04T14:46:18.728800Z",
     "iopub.status.busy": "2023-04-04T14:46:18.728614Z",
     "iopub.status.idle": "2023-04-04T14:46:18.731756Z",
     "shell.execute_reply": "2023-04-04T14:46:18.731321Z"
    }
   },
   "outputs": [
    {
     "data": {
      "text/plain": [
       "dict_values(['value2', 'value3', 'value0'])"
      ]
     },
     "execution_count": 39,
     "metadata": {},
     "output_type": "execute_result"
    }
   ],
   "source": [
    "# 値\n",
    "a.values()"
   ]
  },
  {
   "cell_type": "code",
   "execution_count": 40,
   "id": "beea2da2",
   "metadata": {
    "execution": {
     "iopub.execute_input": "2023-04-04T14:46:18.733695Z",
     "iopub.status.busy": "2023-04-04T14:46:18.733503Z",
     "iopub.status.idle": "2023-04-04T14:46:18.736897Z",
     "shell.execute_reply": "2023-04-04T14:46:18.736396Z"
    }
   },
   "outputs": [
    {
     "data": {
      "text/plain": [
       "dict_items([('key2', 'value2'), ('key3', 'value3'), ('key0', 'value0')])"
      ]
     },
     "execution_count": 40,
     "metadata": {},
     "output_type": "execute_result"
    }
   ],
   "source": [
    "# キーと値のペア\n",
    "a.items()"
   ]
  },
  {
   "cell_type": "code",
   "execution_count": 41,
   "id": "6623218e",
   "metadata": {
    "execution": {
     "iopub.execute_input": "2023-04-04T14:46:18.738924Z",
     "iopub.status.busy": "2023-04-04T14:46:18.738725Z",
     "iopub.status.idle": "2023-04-04T14:46:18.741793Z",
     "shell.execute_reply": "2023-04-04T14:46:18.741281Z"
    }
   },
   "outputs": [
    {
     "name": "stdout",
     "output_type": "stream",
     "text": [
      "key = key2  : value = value2\n",
      "key = key3  : value = value3\n",
      "key = key0  : value = value0\n"
     ]
    }
   ],
   "source": [
    "# dictの全ての要素に対する処理\n",
    "for key, val in a.items():\n",
    "    print(\"key = {:5s} : value = {:5s}\".format(key, val))"
   ]
  },
  {
   "cell_type": "code",
   "execution_count": 42,
   "id": "e5c88ac2",
   "metadata": {
    "execution": {
     "iopub.execute_input": "2023-04-04T14:46:18.743900Z",
     "iopub.status.busy": "2023-04-04T14:46:18.743696Z",
     "iopub.status.idle": "2023-04-04T14:46:18.746734Z",
     "shell.execute_reply": "2023-04-04T14:46:18.746103Z"
    }
   },
   "outputs": [
    {
     "name": "stdout",
     "output_type": "stream",
     "text": [
      "key2\n",
      "key3\n",
      "key0\n"
     ]
    }
   ],
   "source": [
    "# 同様に全てのキーに対する処理\n",
    "for key in a.keys():\n",
    "    print(key)"
   ]
  },
  {
   "cell_type": "code",
   "execution_count": 43,
   "id": "522bd1c1",
   "metadata": {
    "execution": {
     "iopub.execute_input": "2023-04-04T14:46:18.749121Z",
     "iopub.status.busy": "2023-04-04T14:46:18.748892Z",
     "iopub.status.idle": "2023-04-04T14:46:18.752849Z",
     "shell.execute_reply": "2023-04-04T14:46:18.752327Z"
    }
   },
   "outputs": [
    {
     "data": {
      "text/plain": [
       "['key2', 'key3', 'key0']"
      ]
     },
     "execution_count": 43,
     "metadata": {},
     "output_type": "execute_result"
    }
   ],
   "source": [
    "# .keys()で返されるオブジェクトをlistに変換\n",
    "keys = list(a.keys())\n",
    "keys"
   ]
  },
  {
   "cell_type": "code",
   "execution_count": 44,
   "id": "c9885434",
   "metadata": {
    "execution": {
     "iopub.execute_input": "2023-04-04T14:46:18.754814Z",
     "iopub.status.busy": "2023-04-04T14:46:18.754620Z",
     "iopub.status.idle": "2023-04-04T14:46:18.758082Z",
     "shell.execute_reply": "2023-04-04T14:46:18.757632Z"
    }
   },
   "outputs": [
    {
     "data": {
      "text/plain": [
       "['key0', 'key2', 'key3']"
      ]
     },
     "execution_count": 44,
     "metadata": {},
     "output_type": "execute_result"
    }
   ],
   "source": [
    "# listをソート\n",
    "keys.sort()\n",
    "keys"
   ]
  },
  {
   "cell_type": "code",
   "execution_count": 45,
   "id": "e2e3005e",
   "metadata": {
    "execution": {
     "iopub.execute_input": "2023-04-04T14:46:18.759998Z",
     "iopub.status.busy": "2023-04-04T14:46:18.759807Z",
     "iopub.status.idle": "2023-04-04T14:46:18.762728Z",
     "shell.execute_reply": "2023-04-04T14:46:18.762222Z"
    }
   },
   "outputs": [
    {
     "name": "stdout",
     "output_type": "stream",
     "text": [
      "key = key0  : value = value0\n",
      "key = key2  : value = value2\n",
      "key = key3  : value = value3\n"
     ]
    }
   ],
   "source": [
    "# ソートしたキーで順にアクセスする\n",
    "for key in keys:\n",
    "    print(\"key = {:5s} : value = {:5s}\".format(key, a[key]))"
   ]
  },
  {
   "cell_type": "code",
   "execution_count": null,
   "id": "8f38fe38",
   "metadata": {},
   "outputs": [],
   "source": []
  }
 ],
 "metadata": {
  "kernelspec": {
   "display_name": "base",
   "language": "python",
   "name": "python3"
  },
  "language_info": {
   "codemirror_mode": {
    "name": "ipython",
    "version": 3
   },
   "file_extension": ".py",
   "mimetype": "text/x-python",
   "name": "python",
   "nbconvert_exporter": "python",
   "pygments_lexer": "ipython3",
   "version": "3.8.16"
  },
  "vscode": {
   "interpreter": {
    "hash": "546c21d3de566120dda309d1397c5675600fd1cfea721af46f796ef4bbd56950"
   }
  }
 },
 "nbformat": 4,
 "nbformat_minor": 5
}
