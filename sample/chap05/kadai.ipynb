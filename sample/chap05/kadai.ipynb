{
 "cells": [
  {
   "attachments": {},
   "cell_type": "markdown",
   "metadata": {},
   "source": [
    "<a href=\"https://colab.research.google.com/github/amanotk/python-resume-sample/blob/main/chap05/kadai.ipynb\">\n",
    "<img src=\"https://colab.research.google.com/assets/colab-badge.svg\" style=\"vertical-align: text-top;\">\n",
    "</a>\n",
    "\n",
    "# 5. 課題解答例"
   ]
  },
  {
   "cell_type": "markdown",
   "metadata": {},
   "source": [
    "## 課題1\n",
    "なし"
   ]
  },
  {
   "cell_type": "markdown",
   "metadata": {},
   "source": [
    "## 課題2"
   ]
  },
  {
   "cell_type": "code",
   "execution_count": 1,
   "metadata": {
    "execution": {
     "iopub.execute_input": "2023-04-04T14:46:09.364671Z",
     "iopub.status.busy": "2023-04-04T14:46:09.364318Z",
     "iopub.status.idle": "2023-04-04T14:46:09.372931Z",
     "shell.execute_reply": "2023-04-04T14:46:09.372156Z"
    }
   },
   "outputs": [],
   "source": [
    "def print_args(*args):\n",
    "    \"当たられた位置指定引数を全て出力する\"\n",
    "    for i, val in enumerate(args):\n",
    "        print(\"args[{:3d}] = {:s}]\".format(i, str(val)))"
   ]
  },
  {
   "cell_type": "code",
   "execution_count": 2,
   "metadata": {
    "execution": {
     "iopub.execute_input": "2023-04-04T14:46:09.375632Z",
     "iopub.status.busy": "2023-04-04T14:46:09.375380Z",
     "iopub.status.idle": "2023-04-04T14:46:09.379285Z",
     "shell.execute_reply": "2023-04-04T14:46:09.378684Z"
    }
   },
   "outputs": [
    {
     "name": "stdout",
     "output_type": "stream",
     "text": [
      "args[  0] = hello]\n",
      "args[  1] = (1, 2, 3)]\n",
      "args[  2] = []]\n",
      "args[  3] = {'key': 'val'}]\n",
      "args[  4] = None]\n"
     ]
    }
   ],
   "source": [
    "print_args('hello', (1, 2, 3), [], {'key' : 'val'}, None)"
   ]
  },
  {
   "cell_type": "markdown",
   "metadata": {},
   "source": [
    "## 課題3"
   ]
  },
  {
   "cell_type": "code",
   "execution_count": 3,
   "metadata": {
    "execution": {
     "iopub.execute_input": "2023-04-04T14:46:09.410274Z",
     "iopub.status.busy": "2023-04-04T14:46:09.410027Z",
     "iopub.status.idle": "2023-04-04T14:46:09.412999Z",
     "shell.execute_reply": "2023-04-04T14:46:09.412529Z"
    }
   },
   "outputs": [],
   "source": [
    "def unique(x):\n",
    "    \"与えられたlistから重複した要素を除いたlistを返す\"\n",
    "    y = []\n",
    "    for xx in x:\n",
    "        if xx not in y: # 既に要素があるかどうかチェック\n",
    "            y.append(xx)\n",
    "    return y"
   ]
  },
  {
   "cell_type": "code",
   "execution_count": 4,
   "metadata": {
    "execution": {
     "iopub.execute_input": "2023-04-04T14:46:09.414972Z",
     "iopub.status.busy": "2023-04-04T14:46:09.414779Z",
     "iopub.status.idle": "2023-04-04T14:46:09.420087Z",
     "shell.execute_reply": "2023-04-04T14:46:09.419606Z"
    }
   },
   "outputs": [
    {
     "data": {
      "text/plain": [
       "['a', 1, 'b', 2, 'c', 3, 'd']"
      ]
     },
     "execution_count": 4,
     "metadata": {},
     "output_type": "execute_result"
    }
   ],
   "source": [
    "unique(['a', 1, 'b', 2, 'c', 1, 2, 3, 'b', 'd', 'a', 3])"
   ]
  },
  {
   "cell_type": "markdown",
   "metadata": {},
   "source": [
    "## 課題4"
   ]
  },
  {
   "cell_type": "code",
   "execution_count": 5,
   "metadata": {
    "execution": {
     "iopub.execute_input": "2023-04-04T14:46:09.422413Z",
     "iopub.status.busy": "2023-04-04T14:46:09.422193Z",
     "iopub.status.idle": "2023-04-04T14:46:09.425507Z",
     "shell.execute_reply": "2023-04-04T14:46:09.425086Z"
    }
   },
   "outputs": [],
   "source": [
    "def process_kwargs(**kwargs):\n",
    "    \"キーワード引数で与えられた引数を全て出力する\"\n",
    "    # 必須の引数aとbをtupleで指定\n",
    "    required_keys = 'a', 'b'\n",
    "    for key in required_keys:\n",
    "        if key not in kwargs:\n",
    "            kwargs[key] = None\n",
    "    # キーでソートする\n",
    "    keys = list(kwargs.keys())\n",
    "    keys.sort()\n",
    "    for key in keys:\n",
    "        print(key, kwargs[key])"
   ]
  },
  {
   "cell_type": "code",
   "execution_count": 6,
   "metadata": {
    "execution": {
     "iopub.execute_input": "2023-04-04T14:46:09.427522Z",
     "iopub.status.busy": "2023-04-04T14:46:09.427315Z",
     "iopub.status.idle": "2023-04-04T14:46:09.430345Z",
     "shell.execute_reply": "2023-04-04T14:46:09.429787Z"
    }
   },
   "outputs": [
    {
     "name": "stdout",
     "output_type": "stream",
     "text": [
      "a hi\n",
      "b None\n",
      "c chao\n",
      "x 10\n",
      "y 20\n",
      "z 30\n"
     ]
    }
   ],
   "source": [
    "process_kwargs(a='hi', c='chao', x=10, y=20, z=30)"
   ]
  },
  {
   "cell_type": "markdown",
   "metadata": {},
   "source": [
    "## 課題5"
   ]
  },
  {
   "cell_type": "code",
   "execution_count": 7,
   "metadata": {
    "execution": {
     "iopub.execute_input": "2023-04-04T14:46:09.432523Z",
     "iopub.status.busy": "2023-04-04T14:46:09.432298Z",
     "iopub.status.idle": "2023-04-04T14:46:09.437289Z",
     "shell.execute_reply": "2023-04-04T14:46:09.436433Z"
    }
   },
   "outputs": [],
   "source": [
    "# JSON文字列\n",
    "json_string = \\\n",
    "\"\"\"\n",
    "[\n",
    "  {\n",
    "    \"age\": 28,\n",
    "    \"name\": {\n",
    "      \"last\": \"Morales\",\n",
    "      \"first\": \"Hickman\"\n",
    "    },\n",
    "    \"email\": \"hickman.morales@electonic.cg\",\n",
    "    \"index\": 0,\n",
    "    \"company\": \"Electonic\",\n",
    "    \"favoriteFruit\": \"apple\"\n",
    "  },\n",
    "  {\n",
    "    \"age\": 59,\n",
    "    \"name\": {\n",
    "      \"last\": \"Norris\",\n",
    "      \"first\": \"Emerson\"\n",
    "    },\n",
    "    \"email\": \"emerson.norris@recrisys.sj\",\n",
    "    \"index\": 1,\n",
    "    \"company\": \"Recrisys\",\n",
    "    \"favoriteFruit\": \"strawberry\"\n",
    "  },\n",
    "  {\n",
    "    \"age\": 47,\n",
    "    \"name\": {\n",
    "      \"last\": \"Garza\",\n",
    "      \"first\": \"Shelly\"\n",
    "    },\n",
    "    \"email\": \"shelly.garza@signity.mw\",\n",
    "    \"index\": 2,\n",
    "    \"company\": \"Signity\",\n",
    "    \"favoriteFruit\": \"orange\"\n",
    "  },\n",
    "  {\n",
    "    \"age\": 30,\n",
    "    \"name\": {\n",
    "      \"last\": \"Owens\",\n",
    "      \"first\": \"Rhoda\"\n",
    "    },\n",
    "    \"email\": \"rhoda.owens@kidgrease.cn\",\n",
    "    \"index\": 3,\n",
    "    \"company\": \"Kidgrease\",\n",
    "    \"favoriteFruit\": \"strawberry\"\n",
    "  },\n",
    "  {\n",
    "    \"age\": 18,\n",
    "    \"name\": {\n",
    "      \"last\": \"Dodson\",\n",
    "      \"first\": \"Florence\"\n",
    "    },\n",
    "    \"email\": \"florence.dodson@musanpoly.cy\",\n",
    "    \"index\": 4,\n",
    "    \"company\": \"Musanpoly\",\n",
    "    \"favoriteFruit\": \"banana\"\n",
    "  }\n",
    "]\n",
    "\"\"\"\n",
    "\n",
    "# jsonモジュールを使う\n",
    "import json\n",
    "\n",
    "def process_json1(s):\n",
    "    \"JSON文字列から名前とEmailアドレスを抽出して出力\"\n",
    "    # 文字列からオブジェクトに変換\n",
    "    json_obj = json.loads(s)\n",
    "    # \n",
    "    for elem in json_obj:\n",
    "        # 以下念のためチェックするコードを色々いれてあるがこの課題には必要ない\n",
    "        if not isinstance(elem, dict):\n",
    "            continue\n",
    "        if 'name' in elem:\n",
    "            first = elem.get('name').get('first', '').capitalize()\n",
    "            last = elem.get('name').get('last', '').upper()\n",
    "        email = elem.get('email', '')\n",
    "        print('{:s} {:s} <{:s}>'.format(first, last, email))"
   ]
  },
  {
   "cell_type": "code",
   "execution_count": 8,
   "metadata": {
    "execution": {
     "iopub.execute_input": "2023-04-04T14:46:09.439467Z",
     "iopub.status.busy": "2023-04-04T14:46:09.439261Z",
     "iopub.status.idle": "2023-04-04T14:46:09.442053Z",
     "shell.execute_reply": "2023-04-04T14:46:09.441531Z"
    }
   },
   "outputs": [
    {
     "name": "stdout",
     "output_type": "stream",
     "text": [
      "Hickman MORALES <hickman.morales@electonic.cg>\n",
      "Emerson NORRIS <emerson.norris@recrisys.sj>\n",
      "Shelly GARZA <shelly.garza@signity.mw>\n",
      "Rhoda OWENS <rhoda.owens@kidgrease.cn>\n",
      "Florence DODSON <florence.dodson@musanpoly.cy>\n"
     ]
    }
   ],
   "source": [
    "process_json1(json_string)"
   ]
  },
  {
   "cell_type": "markdown",
   "metadata": {},
   "source": [
    "## 課題6"
   ]
  },
  {
   "cell_type": "code",
   "execution_count": 9,
   "metadata": {
    "execution": {
     "iopub.execute_input": "2023-04-04T14:46:09.443912Z",
     "iopub.status.busy": "2023-04-04T14:46:09.443735Z",
     "iopub.status.idle": "2023-04-04T14:46:09.446880Z",
     "shell.execute_reply": "2023-04-04T14:46:09.446454Z"
    }
   },
   "outputs": [],
   "source": [
    "def process_json2(s):\n",
    "    \"JSON文字列から個人情報を削除したJSON文字列として返す\"\n",
    "    # 削除するキーをtupleで与える\n",
    "    to_be_deleted = 'name', 'email'\n",
    "    x = []\n",
    "    for elem in json.loads(s):\n",
    "        for key in to_be_deleted:\n",
    "            del elem[key]\n",
    "        x.append(elem)\n",
    "    # JSON文字列に変換して返す\n",
    "    return json.dumps(x, indent=2)"
   ]
  },
  {
   "cell_type": "code",
   "execution_count": 10,
   "metadata": {
    "execution": {
     "iopub.execute_input": "2023-04-04T14:46:09.448722Z",
     "iopub.status.busy": "2023-04-04T14:46:09.448532Z",
     "iopub.status.idle": "2023-04-04T14:46:09.451397Z",
     "shell.execute_reply": "2023-04-04T14:46:09.450925Z"
    }
   },
   "outputs": [
    {
     "name": "stdout",
     "output_type": "stream",
     "text": [
      "[\n",
      "  {\n",
      "    \"age\": 28,\n",
      "    \"index\": 0,\n",
      "    \"company\": \"Electonic\",\n",
      "    \"favoriteFruit\": \"apple\"\n",
      "  },\n",
      "  {\n",
      "    \"age\": 59,\n",
      "    \"index\": 1,\n",
      "    \"company\": \"Recrisys\",\n",
      "    \"favoriteFruit\": \"strawberry\"\n",
      "  },\n",
      "  {\n",
      "    \"age\": 47,\n",
      "    \"index\": 2,\n",
      "    \"company\": \"Signity\",\n",
      "    \"favoriteFruit\": \"orange\"\n",
      "  },\n",
      "  {\n",
      "    \"age\": 30,\n",
      "    \"index\": 3,\n",
      "    \"company\": \"Kidgrease\",\n",
      "    \"favoriteFruit\": \"strawberry\"\n",
      "  },\n",
      "  {\n",
      "    \"age\": 18,\n",
      "    \"index\": 4,\n",
      "    \"company\": \"Musanpoly\",\n",
      "    \"favoriteFruit\": \"banana\"\n",
      "  }\n",
      "]\n"
     ]
    }
   ],
   "source": [
    "# 返された文字列をそのまま出力\n",
    "print(process_json2(json_string))"
   ]
  },
  {
   "cell_type": "code",
   "execution_count": null,
   "metadata": {},
   "outputs": [],
   "source": []
  }
 ],
 "metadata": {
  "kernelspec": {
   "display_name": "base",
   "language": "python",
   "name": "python3"
  },
  "language_info": {
   "codemirror_mode": {
    "name": "ipython",
    "version": 3
   },
   "file_extension": ".py",
   "mimetype": "text/x-python",
   "name": "python",
   "nbconvert_exporter": "python",
   "pygments_lexer": "ipython3",
   "version": "3.8.16"
  },
  "vscode": {
   "interpreter": {
    "hash": "546c21d3de566120dda309d1397c5675600fd1cfea721af46f796ef4bbd56950"
   }
  }
 },
 "nbformat": 4,
 "nbformat_minor": 4
}
