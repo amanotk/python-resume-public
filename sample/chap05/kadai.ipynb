{
 "cells": [
  {
   "cell_type": "markdown",
   "metadata": {},
   "source": [
    "# 5. 課題解答例"
   ]
  },
  {
   "cell_type": "markdown",
   "metadata": {},
   "source": [
    "## 課題1\n",
    "なし"
   ]
  },
  {
   "cell_type": "markdown",
   "metadata": {},
   "source": [
    "## 課題2"
   ]
  },
  {
   "cell_type": "code",
   "execution_count": 1,
   "metadata": {},
   "outputs": [],
   "source": [
    "def print_args(*args):\n",
    "    \"当たられた位置指定引数を全て出力する\"\n",
    "    for i, val in enumerate(args):\n",
    "        print(\"args[{:3d}] = {:s}]\".format(i, str(val)))"
   ]
  },
  {
   "cell_type": "code",
   "execution_count": 2,
   "metadata": {},
   "outputs": [
    {
     "name": "stdout",
     "output_type": "stream",
     "text": [
      "args[  0] = hello]\n",
      "args[  1] = (1, 2, 3)]\n",
      "args[  2] = []]\n",
      "args[  3] = {'key': 'val'}]\n",
      "args[  4] = None]\n"
     ]
    }
   ],
   "source": [
    "print_args('hello', (1, 2, 3), [], {'key' : 'val'}, None)"
   ]
  },
  {
   "cell_type": "markdown",
   "metadata": {},
   "source": [
    "## 課題3"
   ]
  },
  {
   "cell_type": "code",
   "execution_count": 3,
   "metadata": {},
   "outputs": [],
   "source": [
    "def unique(x):\n",
    "    \"与えられたlistから重複した要素を除いたlistを返す\"\n",
    "    y = []\n",
    "    for xx in x:\n",
    "        if xx not in y: # 既に要素があるかどうかチェック\n",
    "            y.append(xx)\n",
    "    return y"
   ]
  },
  {
   "cell_type": "code",
   "execution_count": 4,
   "metadata": {},
   "outputs": [
    {
     "data": {
      "text/plain": [
       "['a', 1, 'b', 2, 'c', 3, 'd']"
      ]
     },
     "execution_count": 4,
     "metadata": {},
     "output_type": "execute_result"
    }
   ],
   "source": [
    "unique(['a', 1, 'b', 2, 'c', 1, 2, 3, 'b', 'd', 'a', 3])"
   ]
  },
  {
   "cell_type": "markdown",
   "metadata": {},
   "source": [
    "## 課題4"
   ]
  },
  {
   "cell_type": "code",
   "execution_count": 5,
   "metadata": {},
   "outputs": [],
   "source": [
    "def process_kwargs(**kwargs):\n",
    "    \"キーワード引数で与えられた引数を全て出力する\"\n",
    "    # 必須の引数aとbをtupleで指定\n",
    "    required_keys = 'a', 'b'\n",
    "    for key in required_keys:\n",
    "        if key not in kwargs:\n",
    "            kwargs[key] = None\n",
    "    # キーでソートする\n",
    "    keys = list(kwargs.keys())\n",
    "    keys.sort()\n",
    "    for key in keys:\n",
    "        print(key, kwargs[key])"
   ]
  },
  {
   "cell_type": "code",
   "execution_count": 6,
   "metadata": {},
   "outputs": [
    {
     "name": "stdout",
     "output_type": "stream",
     "text": [
      "a hi\n",
      "b None\n",
      "c chao\n",
      "x 10\n",
      "y 20\n",
      "z 30\n"
     ]
    }
   ],
   "source": [
    "process_kwargs(a='hi', c='chao', x=10, y=20, z=30)"
   ]
  },
  {
   "cell_type": "markdown",
   "metadata": {},
   "source": [
    "## 課題5"
   ]
  },
  {
   "cell_type": "code",
   "execution_count": 7,
   "metadata": {},
   "outputs": [],
   "source": [
    "# JSON文字列を読み込み\n",
    "from urllib.request import urlopen\n",
    "\n",
    "url = \"https://next.json-generator.com/api/json/get/Ey8u2QAH9\"\n",
    "json_string = urlopen(url).read().decode('utf-8')\n",
    "\n",
    "# jsonモジュールを使う\n",
    "import json\n",
    "\n",
    "def process_json1(s):\n",
    "    \"JSON文字列から名前とEmailアドレスを抽出して出力\"\n",
    "    # 文字列からオブジェクトに変換\n",
    "    json_obj = json.loads(s)\n",
    "    # \n",
    "    for elem in json_obj:\n",
    "        # 以下念のためチェックするコードを色々いれてあるがこの課題には必要ない\n",
    "        if not isinstance(elem, dict):\n",
    "            continue\n",
    "        if 'name' in elem:\n",
    "            first = elem.get('name').get('first', '').capitalize()\n",
    "            last = elem.get('name').get('last', '').upper()\n",
    "        email = elem.get('email', '')\n",
    "        print('{:s} {:s} <{:s}>'.format(first, last, email))"
   ]
  },
  {
   "cell_type": "code",
   "execution_count": 8,
   "metadata": {},
   "outputs": [
    {
     "name": "stdout",
     "output_type": "stream",
     "text": [
      "Merritt RUSSELL <merritt.russell@rugstars.us>\n",
      "Vasquez MCCORMICK <vasquez.mccormick@metroz.me>\n",
      "Leon VALENZUELA <leon.valenzuela@visalia.biz>\n",
      "Christina MCCARTHY <christina.mccarthy@zytrex.ca>\n",
      "Lula HOUSTON <lula.houston@wrapture.co.uk>\n",
      "Wallace COCHRAN <wallace.cochran@ohmnet.biz>\n",
      "Ortiz SHEPHERD <ortiz.shepherd@gynk.io>\n"
     ]
    }
   ],
   "source": [
    "process_json1(json_string)"
   ]
  },
  {
   "cell_type": "markdown",
   "metadata": {},
   "source": [
    "## 課題6"
   ]
  },
  {
   "cell_type": "code",
   "execution_count": 9,
   "metadata": {},
   "outputs": [],
   "source": [
    "def process_json2(s):\n",
    "    \"JSON文字列から個人情報を削除したJSON文字列として返す\"\n",
    "    # 削除するキーをtupleで与える\n",
    "    to_be_deleted = 'name', 'email', 'phone', 'address', 'greeting'\n",
    "    x = []\n",
    "    for elem in json.loads(s):\n",
    "        for key in to_be_deleted:\n",
    "            del elem[key]\n",
    "        x.append(elem)\n",
    "    # JSON文字列に変換して返す\n",
    "    return json.dumps(x, indent=2)"
   ]
  },
  {
   "cell_type": "code",
   "execution_count": 10,
   "metadata": {
    "scrolled": true
   },
   "outputs": [
    {
     "name": "stdout",
     "output_type": "stream",
     "text": [
      "[\n",
      "  {\n",
      "    \"index\": 0,\n",
      "    \"age\": 26,\n",
      "    \"company\": \"RUGSTARS\",\n",
      "    \"favoriteFruit\": \"strawberry\"\n",
      "  },\n",
      "  {\n",
      "    \"index\": 1,\n",
      "    \"age\": 24,\n",
      "    \"company\": \"METROZ\",\n",
      "    \"favoriteFruit\": \"banana\"\n",
      "  },\n",
      "  {\n",
      "    \"index\": 2,\n",
      "    \"age\": 38,\n",
      "    \"company\": \"VISALIA\",\n",
      "    \"favoriteFruit\": \"strawberry\"\n",
      "  },\n",
      "  {\n",
      "    \"index\": 3,\n",
      "    \"age\": 36,\n",
      "    \"company\": \"ZYTREX\",\n",
      "    \"favoriteFruit\": \"apple\"\n",
      "  },\n",
      "  {\n",
      "    \"index\": 4,\n",
      "    \"age\": 39,\n",
      "    \"company\": \"WRAPTURE\",\n",
      "    \"favoriteFruit\": \"strawberry\"\n",
      "  },\n",
      "  {\n",
      "    \"index\": 5,\n",
      "    \"age\": 22,\n",
      "    \"company\": \"OHMNET\",\n",
      "    \"favoriteFruit\": \"strawberry\"\n",
      "  },\n",
      "  {\n",
      "    \"index\": 6,\n",
      "    \"age\": 36,\n",
      "    \"company\": \"GYNK\",\n",
      "    \"favoriteFruit\": \"apple\"\n",
      "  }\n",
      "]\n"
     ]
    }
   ],
   "source": [
    "# 返された文字列をそのまま出力\n",
    "print(process_json2(json_string))"
   ]
  },
  {
   "cell_type": "code",
   "execution_count": null,
   "metadata": {},
   "outputs": [],
   "source": []
  }
 ],
 "metadata": {
  "kernelspec": {
   "display_name": "Python 3",
   "language": "python",
   "name": "python3"
  },
  "language_info": {
   "codemirror_mode": {
    "name": "ipython",
    "version": 3
   },
   "file_extension": ".py",
   "mimetype": "text/x-python",
   "name": "python",
   "nbconvert_exporter": "python",
   "pygments_lexer": "ipython3",
   "version": "3.7.10"
  }
 },
 "nbformat": 4,
 "nbformat_minor": 4
}
