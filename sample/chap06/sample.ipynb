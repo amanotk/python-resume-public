{
 "cells": [
  {
   "cell_type": "markdown",
   "metadata": {},
   "source": [
    "# 6. NumPy配列の基本"
   ]
  },
  {
   "cell_type": "code",
   "execution_count": 1,
   "metadata": {
    "execution": {
     "iopub.execute_input": "2022-05-11T09:53:30.235683Z",
     "iopub.status.busy": "2022-05-11T09:53:30.234868Z",
     "iopub.status.idle": "2022-05-11T09:53:30.847831Z",
     "shell.execute_reply": "2022-05-11T09:53:30.847120Z"
    }
   },
   "outputs": [],
   "source": [
    "# データファイルの準備\n",
    "import urllib.request\n",
    "\n",
    "basedir = 'https://amanotk.github.io/python-resume-public/data/'\n",
    "files = ['helix1.dat', 'helix2.dat', 'cbinary.dat']\n",
    "for f in files:\n",
    "    urllib.request.urlretrieve(basedir+f, f)"
   ]
  },
  {
   "cell_type": "code",
   "execution_count": 2,
   "metadata": {
    "execution": {
     "iopub.execute_input": "2022-05-11T09:53:30.852677Z",
     "iopub.status.busy": "2022-05-11T09:53:30.850828Z",
     "iopub.status.idle": "2022-05-11T09:53:30.854304Z",
     "shell.execute_reply": "2022-05-11T09:53:30.854848Z"
    }
   },
   "outputs": [],
   "source": [
    "import numpy as np\n",
    "from matplotlib import pyplot as plt"
   ]
  },
  {
   "cell_type": "markdown",
   "metadata": {},
   "source": [
    "## 基本的な使い方"
   ]
  },
  {
   "cell_type": "code",
   "execution_count": 3,
   "metadata": {
    "execution": {
     "iopub.execute_input": "2022-05-11T09:53:30.860764Z",
     "iopub.status.busy": "2022-05-11T09:53:30.860326Z",
     "iopub.status.idle": "2022-05-11T09:53:30.862726Z",
     "shell.execute_reply": "2022-05-11T09:53:30.863081Z"
    }
   },
   "outputs": [
    {
     "data": {
      "text/plain": [
       "array([0, 1, 2, 3, 4, 5, 6, 7, 8, 9])"
      ]
     },
     "execution_count": 3,
     "metadata": {},
     "output_type": "execute_result"
    }
   ],
   "source": [
    "np.arange(10)"
   ]
  },
  {
   "cell_type": "code",
   "execution_count": 4,
   "metadata": {
    "execution": {
     "iopub.execute_input": "2022-05-11T09:53:30.866379Z",
     "iopub.status.busy": "2022-05-11T09:53:30.865945Z",
     "iopub.status.idle": "2022-05-11T09:53:30.867954Z",
     "shell.execute_reply": "2022-05-11T09:53:30.867576Z"
    }
   },
   "outputs": [],
   "source": [
    "N = 10\n",
    "x = np.arange(N)/N * 2*np.pi\n",
    "y = np.cos(x)"
   ]
  },
  {
   "cell_type": "code",
   "execution_count": 5,
   "metadata": {
    "execution": {
     "iopub.execute_input": "2022-05-11T09:53:30.882832Z",
     "iopub.status.busy": "2022-05-11T09:53:30.882162Z",
     "iopub.status.idle": "2022-05-11T09:53:31.013187Z",
     "shell.execute_reply": "2022-05-11T09:53:31.012477Z"
    }
   },
   "outputs": [
    {
     "data": {
      "text/plain": [
       "[<matplotlib.lines.Line2D at 0x14fa91e5ee80>]"
      ]
     },
     "execution_count": 5,
     "metadata": {},
     "output_type": "execute_result"
    },
    {
     "data": {
      "image/png": "[encoded data removed]",
      "text/plain": [
       "<Figure size 432x288 with 1 Axes>"
      ]
     },
     "metadata": {
      "needs_background": "light"
     },
     "output_type": "display_data"
    }
   ],
   "source": [
    "plt.plot(x, y)"
   ]
  },
  {
   "cell_type": "markdown",
   "metadata": {},
   "source": [
    "## 配列オブジェクト"
   ]
  },
  {
   "cell_type": "code",
   "execution_count": 6,
   "metadata": {
    "execution": {
     "iopub.execute_input": "2022-05-11T09:53:31.017393Z",
     "iopub.status.busy": "2022-05-11T09:53:31.016680Z",
     "iopub.status.idle": "2022-05-11T09:53:31.018539Z",
     "shell.execute_reply": "2022-05-11T09:53:31.019094Z"
    }
   },
   "outputs": [],
   "source": [
    "x = np.arange(10)"
   ]
  },
  {
   "cell_type": "code",
   "execution_count": 7,
   "metadata": {
    "execution": {
     "iopub.execute_input": "2022-05-11T09:53:31.022633Z",
     "iopub.status.busy": "2022-05-11T09:53:31.022210Z",
     "iopub.status.idle": "2022-05-11T09:53:31.025174Z",
     "shell.execute_reply": "2022-05-11T09:53:31.024746Z"
    }
   },
   "outputs": [
    {
     "data": {
      "text/plain": [
       "dtype('int64')"
      ]
     },
     "execution_count": 7,
     "metadata": {},
     "output_type": "execute_result"
    }
   ],
   "source": [
    "# データ型\n",
    "x.dtype"
   ]
  },
  {
   "cell_type": "code",
   "execution_count": 8,
   "metadata": {
    "execution": {
     "iopub.execute_input": "2022-05-11T09:53:31.028395Z",
     "iopub.status.busy": "2022-05-11T09:53:31.027950Z",
     "iopub.status.idle": "2022-05-11T09:53:31.030981Z",
     "shell.execute_reply": "2022-05-11T09:53:31.030603Z"
    }
   },
   "outputs": [
    {
     "data": {
      "text/plain": [
       "1"
      ]
     },
     "execution_count": 8,
     "metadata": {},
     "output_type": "execute_result"
    }
   ],
   "source": [
    "# 次元数\n",
    "x.ndim"
   ]
  },
  {
   "cell_type": "code",
   "execution_count": 9,
   "metadata": {
    "execution": {
     "iopub.execute_input": "2022-05-11T09:53:31.034160Z",
     "iopub.status.busy": "2022-05-11T09:53:31.033743Z",
     "iopub.status.idle": "2022-05-11T09:53:31.036798Z",
     "shell.execute_reply": "2022-05-11T09:53:31.036421Z"
    }
   },
   "outputs": [
    {
     "data": {
      "text/plain": [
       "10"
      ]
     },
     "execution_count": 9,
     "metadata": {},
     "output_type": "execute_result"
    }
   ],
   "source": [
    "# 全要素数\n",
    "x.size"
   ]
  },
  {
   "cell_type": "code",
   "execution_count": 10,
   "metadata": {
    "execution": {
     "iopub.execute_input": "2022-05-11T09:53:31.039817Z",
     "iopub.status.busy": "2022-05-11T09:53:31.038587Z",
     "iopub.status.idle": "2022-05-11T09:53:31.042555Z",
     "shell.execute_reply": "2022-05-11T09:53:31.042136Z"
    }
   },
   "outputs": [
    {
     "data": {
      "text/plain": [
       "(10,)"
      ]
     },
     "execution_count": 10,
     "metadata": {},
     "output_type": "execute_result"
    }
   ],
   "source": [
    "# 形状\n",
    "x.shape"
   ]
  },
  {
   "cell_type": "code",
   "execution_count": 11,
   "metadata": {
    "execution": {
     "iopub.execute_input": "2022-05-11T09:53:31.046376Z",
     "iopub.status.busy": "2022-05-11T09:53:31.045899Z",
     "iopub.status.idle": "2022-05-11T09:53:31.048780Z",
     "shell.execute_reply": "2022-05-11T09:53:31.049313Z"
    }
   },
   "outputs": [
    {
     "data": {
      "text/plain": [
       "(2, 3)"
      ]
     },
     "execution_count": 11,
     "metadata": {},
     "output_type": "execute_result"
    }
   ],
   "source": [
    "# 2次元配列の形状\n",
    "np.array([[1, 2, 3], [4, 5, 6]]).shape"
   ]
  },
  {
   "cell_type": "code",
   "execution_count": 12,
   "metadata": {
    "execution": {
     "iopub.execute_input": "2022-05-11T09:53:31.053218Z",
     "iopub.status.busy": "2022-05-11T09:53:31.052561Z",
     "iopub.status.idle": "2022-05-11T09:53:31.055596Z",
     "shell.execute_reply": "2022-05-11T09:53:31.055179Z"
    }
   },
   "outputs": [
    {
     "data": {
      "text/plain": [
       "dtype('float64')"
      ]
     },
     "execution_count": 12,
     "metadata": {},
     "output_type": "execute_result"
    }
   ],
   "source": [
    "# 古い形式の64bit浮動小数点数\n",
    "np.dtype('d')"
   ]
  },
  {
   "cell_type": "code",
   "execution_count": 13,
   "metadata": {
    "execution": {
     "iopub.execute_input": "2022-05-11T09:53:31.058878Z",
     "iopub.status.busy": "2022-05-11T09:53:31.058466Z",
     "iopub.status.idle": "2022-05-11T09:53:31.061326Z",
     "shell.execute_reply": "2022-05-11T09:53:31.060902Z"
    }
   },
   "outputs": [
    {
     "data": {
      "text/plain": [
       "dtype('int32')"
      ]
     },
     "execution_count": 13,
     "metadata": {},
     "output_type": "execute_result"
    }
   ],
   "source": [
    "# 古い形式の32bit整数\n",
    "np.dtype('i')"
   ]
  },
  {
   "cell_type": "markdown",
   "metadata": {},
   "source": [
    "## 生成"
   ]
  },
  {
   "cell_type": "code",
   "execution_count": 14,
   "metadata": {
    "execution": {
     "iopub.execute_input": "2022-05-11T09:53:31.065140Z",
     "iopub.status.busy": "2022-05-11T09:53:31.064721Z",
     "iopub.status.idle": "2022-05-11T09:53:31.067407Z",
     "shell.execute_reply": "2022-05-11T09:53:31.066981Z"
    }
   },
   "outputs": [
    {
     "data": {
      "text/plain": [
       "array([0, 1, 2, 3, 4])"
      ]
     },
     "execution_count": 14,
     "metadata": {},
     "output_type": "execute_result"
    }
   ],
   "source": [
    "# listより生成\n",
    "np.array([0, 1, 2, 3, 4])"
   ]
  },
  {
   "cell_type": "code",
   "execution_count": 15,
   "metadata": {
    "execution": {
     "iopub.execute_input": "2022-05-11T09:53:31.070941Z",
     "iopub.status.busy": "2022-05-11T09:53:31.070531Z",
     "iopub.status.idle": "2022-05-11T09:53:31.073395Z",
     "shell.execute_reply": "2022-05-11T09:53:31.073030Z"
    }
   },
   "outputs": [
    {
     "data": {
      "text/plain": [
       "array([0, 1, 2])"
      ]
     },
     "execution_count": 15,
     "metadata": {},
     "output_type": "execute_result"
    }
   ],
   "source": [
    "# tupleより生成\n",
    "np.array((0, 1, 2))"
   ]
  },
  {
   "cell_type": "code",
   "execution_count": 16,
   "metadata": {
    "execution": {
     "iopub.execute_input": "2022-05-11T09:53:31.077441Z",
     "iopub.status.busy": "2022-05-11T09:53:31.076923Z",
     "iopub.status.idle": "2022-05-11T09:53:31.079720Z",
     "shell.execute_reply": "2022-05-11T09:53:31.079299Z"
    }
   },
   "outputs": [
    {
     "data": {
      "text/plain": [
       "array([[0, 1],\n",
       "       [2, 3],\n",
       "       [4, 5]])"
      ]
     },
     "execution_count": 16,
     "metadata": {},
     "output_type": "execute_result"
    }
   ],
   "source": [
    "# listのlistを2次元配列に変換\n",
    "np.array([[0, 1,], [2, 3], [4, 5]])"
   ]
  },
  {
   "cell_type": "code",
   "execution_count": 17,
   "metadata": {
    "execution": {
     "iopub.execute_input": "2022-05-11T09:53:31.083240Z",
     "iopub.status.busy": "2022-05-11T09:53:31.082827Z",
     "iopub.status.idle": "2022-05-11T09:53:31.085670Z",
     "shell.execute_reply": "2022-05-11T09:53:31.085251Z"
    }
   },
   "outputs": [
    {
     "data": {
      "text/plain": [
       "array([10, 12, 14, 16, 18])"
      ]
     },
     "execution_count": 17,
     "metadata": {},
     "output_type": "execute_result"
    }
   ],
   "source": [
    "# start, stop, strideの形\n",
    "np.arange(10, 20, 2)"
   ]
  },
  {
   "cell_type": "code",
   "execution_count": 18,
   "metadata": {
    "execution": {
     "iopub.execute_input": "2022-05-11T09:53:31.089606Z",
     "iopub.status.busy": "2022-05-11T09:53:31.089118Z",
     "iopub.status.idle": "2022-05-11T09:53:31.092889Z",
     "shell.execute_reply": "2022-05-11T09:53:31.092204Z"
    }
   },
   "outputs": [
    {
     "data": {
      "text/plain": [
       "array([0., 1., 2., 3., 4., 5., 6., 7., 8., 9.])"
      ]
     },
     "execution_count": 18,
     "metadata": {},
     "output_type": "execute_result"
    }
   ],
   "source": [
    "# dtypeでデータ型を指定\n",
    "np.arange(10, dtype=np.float64)"
   ]
  },
  {
   "cell_type": "code",
   "execution_count": 19,
   "metadata": {
    "execution": {
     "iopub.execute_input": "2022-05-11T09:53:31.097284Z",
     "iopub.status.busy": "2022-05-11T09:53:31.096564Z",
     "iopub.status.idle": "2022-05-11T09:53:31.099742Z",
     "shell.execute_reply": "2022-05-11T09:53:31.099046Z"
    }
   },
   "outputs": [
    {
     "data": {
      "text/plain": [
       "array([0., 0., 0., 0., 0., 0., 0., 0., 0., 0.])"
      ]
     },
     "execution_count": 19,
     "metadata": {},
     "output_type": "execute_result"
    }
   ],
   "source": [
    "# ゼロで初期化（デフォルトでfloat64）\n",
    "np.zeros(10)"
   ]
  },
  {
   "cell_type": "code",
   "execution_count": 20,
   "metadata": {
    "execution": {
     "iopub.execute_input": "2022-05-11T09:53:31.104057Z",
     "iopub.status.busy": "2022-05-11T09:53:31.103453Z",
     "iopub.status.idle": "2022-05-11T09:53:31.106236Z",
     "shell.execute_reply": "2022-05-11T09:53:31.105773Z"
    }
   },
   "outputs": [
    {
     "data": {
      "text/plain": [
       "array([[0, 0, 0, 0],\n",
       "       [0, 0, 0, 0]], dtype=int32)"
      ]
     },
     "execution_count": 20,
     "metadata": {},
     "output_type": "execute_result"
    }
   ],
   "source": [
    "# 多次元配列の場合は形状をtupleで指定\n",
    "np.zeros((2, 4), dtype=np.int32)"
   ]
  },
  {
   "cell_type": "code",
   "execution_count": 21,
   "metadata": {
    "execution": {
     "iopub.execute_input": "2022-05-11T09:53:31.110298Z",
     "iopub.status.busy": "2022-05-11T09:53:31.109866Z",
     "iopub.status.idle": "2022-05-11T09:53:31.112823Z",
     "shell.execute_reply": "2022-05-11T09:53:31.112451Z"
    }
   },
   "outputs": [
    {
     "data": {
      "text/plain": [
       "array([[0., 0., 0.],\n",
       "       [0., 0., 0.],\n",
       "       [0., 0., 0.]], dtype=float32)"
      ]
     },
     "execution_count": 21,
     "metadata": {},
     "output_type": "execute_result"
    }
   ],
   "source": [
    "# 同じ形状・データ型の配列\n",
    "x = np.zeros((3, 3), dtype=np.float32)\n",
    "np.zeros_like(x)"
   ]
  },
  {
   "cell_type": "code",
   "execution_count": 22,
   "metadata": {
    "execution": {
     "iopub.execute_input": "2022-05-11T09:53:31.116700Z",
     "iopub.status.busy": "2022-05-11T09:53:31.116251Z",
     "iopub.status.idle": "2022-05-11T09:53:31.118942Z",
     "shell.execute_reply": "2022-05-11T09:53:31.118512Z"
    }
   },
   "outputs": [
    {
     "data": {
      "text/plain": [
       "array([[1., 1., 1.],\n",
       "       [1., 1., 1.],\n",
       "       [1., 1., 1.]])"
      ]
     },
     "execution_count": 22,
     "metadata": {},
     "output_type": "execute_result"
    }
   ],
   "source": [
    "# 1で初期化すること以外はzerosと同じ\n",
    "np.ones((3, 3))"
   ]
  },
  {
   "cell_type": "code",
   "execution_count": 23,
   "metadata": {
    "execution": {
     "iopub.execute_input": "2022-05-11T09:53:31.122922Z",
     "iopub.status.busy": "2022-05-11T09:53:31.122501Z",
     "iopub.status.idle": "2022-05-11T09:53:31.125336Z",
     "shell.execute_reply": "2022-05-11T09:53:31.124918Z"
    }
   },
   "outputs": [
    {
     "data": {
      "text/plain": [
       "array([[1., 1., 1.],\n",
       "       [1., 1., 1.],\n",
       "       [1., 1., 1.]], dtype=float32)"
      ]
     },
     "execution_count": 23,
     "metadata": {},
     "output_type": "execute_result"
    }
   ],
   "source": [
    "# 1で初期化すること以外はzeros_likeと同じ\n",
    "x = np.zeros((3, 3), dtype=np.float32)\n",
    "np.ones_like(x)"
   ]
  },
  {
   "cell_type": "code",
   "execution_count": 24,
   "metadata": {
    "execution": {
     "iopub.execute_input": "2022-05-11T09:53:31.128990Z",
     "iopub.status.busy": "2022-05-11T09:53:31.128576Z",
     "iopub.status.idle": "2022-05-11T09:53:31.131112Z",
     "shell.execute_reply": "2022-05-11T09:53:31.131445Z"
    }
   },
   "outputs": [
    {
     "data": {
      "text/plain": [
       "array([0. , 0.1, 0.2, 0.3, 0.4, 0.5, 0.6, 0.7, 0.8, 0.9, 1. ])"
      ]
     },
     "execution_count": 24,
     "metadata": {},
     "output_type": "execute_result"
    }
   ],
   "source": [
    "# 等間隔の配列（端点含む！）\n",
    "np.linspace(0.0, 1.0, 11)"
   ]
  },
  {
   "cell_type": "code",
   "execution_count": 25,
   "metadata": {
    "execution": {
     "iopub.execute_input": "2022-05-11T09:53:31.135390Z",
     "iopub.status.busy": "2022-05-11T09:53:31.134975Z",
     "iopub.status.idle": "2022-05-11T09:53:31.137667Z",
     "shell.execute_reply": "2022-05-11T09:53:31.137250Z"
    }
   },
   "outputs": [
    {
     "data": {
      "text/plain": [
       "array([ 0.1       ,  0.15848932,  0.25118864,  0.39810717,  0.63095734,\n",
       "        1.        ,  1.58489319,  2.51188643,  3.98107171,  6.30957344,\n",
       "       10.        ])"
      ]
     },
     "execution_count": 25,
     "metadata": {},
     "output_type": "execute_result"
    }
   ],
   "source": [
    "# logで等間隔の配列\n",
    "np.logspace(-1, +1, 11)"
   ]
  },
  {
   "cell_type": "code",
   "execution_count": 26,
   "metadata": {
    "execution": {
     "iopub.execute_input": "2022-05-11T09:53:31.141546Z",
     "iopub.status.busy": "2022-05-11T09:53:31.140988Z",
     "iopub.status.idle": "2022-05-11T09:53:31.143850Z",
     "shell.execute_reply": "2022-05-11T09:53:31.143430Z"
    }
   },
   "outputs": [
    {
     "data": {
      "text/plain": [
       "array([ 0.1       ,  0.15848932,  0.25118864,  0.39810717,  0.63095734,\n",
       "        1.        ,  1.58489319,  2.51188643,  3.98107171,  6.30957344,\n",
       "       10.        ])"
      ]
     },
     "execution_count": 26,
     "metadata": {},
     "output_type": "execute_result"
    }
   ],
   "source": [
    "# logspaceと引数の意味が違う以外は同じ\n",
    "np.geomspace(0.1, 10.0, 11)"
   ]
  },
  {
   "cell_type": "code",
   "execution_count": 27,
   "metadata": {
    "execution": {
     "iopub.execute_input": "2022-05-11T09:53:31.147885Z",
     "iopub.status.busy": "2022-05-11T09:53:31.147208Z",
     "iopub.status.idle": "2022-05-11T09:53:31.150148Z",
     "shell.execute_reply": "2022-05-11T09:53:31.150680Z"
    }
   },
   "outputs": [
    {
     "data": {
      "text/plain": [
       "array([ 0.1       ,  0.15848932,  0.25118864,  0.39810717,  0.63095734,\n",
       "        1.        ,  1.58489319,  2.51188643,  3.98107171,  6.30957344,\n",
       "       10.        ])"
      ]
     },
     "execution_count": 27,
     "metadata": {},
     "output_type": "execute_result"
    }
   ],
   "source": [
    "# geomspace / logspaceと同じ\n",
    "10**np.linspace(np.log10(0.1), np.log10(10.0), 11)"
   ]
  },
  {
   "cell_type": "code",
   "execution_count": 28,
   "metadata": {
    "execution": {
     "iopub.execute_input": "2022-05-11T09:53:31.154785Z",
     "iopub.status.busy": "2022-05-11T09:53:31.154127Z",
     "iopub.status.idle": "2022-05-11T09:53:31.156946Z",
     "shell.execute_reply": "2022-05-11T09:53:31.156529Z"
    }
   },
   "outputs": [
    {
     "data": {
      "text/plain": [
       "array([0.24087419, 0.19410584, 0.51773042, 0.66908873, 0.88844827])"
      ]
     },
     "execution_count": 28,
     "metadata": {},
     "output_type": "execute_result"
    }
   ],
   "source": [
    "# 乱数配列\n",
    "np.random.random(5)"
   ]
  },
  {
   "cell_type": "code",
   "execution_count": 29,
   "metadata": {
    "execution": {
     "iopub.execute_input": "2022-05-11T09:53:31.160373Z",
     "iopub.status.busy": "2022-05-11T09:53:31.159950Z",
     "iopub.status.idle": "2022-05-11T09:53:31.162969Z",
     "shell.execute_reply": "2022-05-11T09:53:31.162551Z"
    }
   },
   "outputs": [
    {
     "data": {
      "text/plain": [
       "array([2, 3, 2, 4, 2, 4, 4, 4, 1, 4])"
      ]
     },
     "execution_count": 29,
     "metadata": {},
     "output_type": "execute_result"
    }
   ],
   "source": [
    "# 整数の乱数配列\n",
    "np.random.randint(0, 5, size=10)"
   ]
  },
  {
   "cell_type": "code",
   "execution_count": 30,
   "metadata": {
    "execution": {
     "iopub.execute_input": "2022-05-11T09:53:31.166639Z",
     "iopub.status.busy": "2022-05-11T09:53:31.166222Z",
     "iopub.status.idle": "2022-05-11T09:53:31.169027Z",
     "shell.execute_reply": "2022-05-11T09:53:31.168607Z"
    }
   },
   "outputs": [
    {
     "data": {
      "text/plain": [
       "array([[0.81513404, 0.65569103],\n",
       "       [0.98416675, 0.36663433],\n",
       "       [0.2450988 , 0.42808288]])"
      ]
     },
     "execution_count": 30,
     "metadata": {},
     "output_type": "execute_result"
    }
   ],
   "source": [
    "# 2次元の乱数配列\n",
    "np.random.random((3, 2))"
   ]
  },
  {
   "cell_type": "markdown",
   "metadata": {},
   "source": [
    "## 入出力"
   ]
  },
  {
   "cell_type": "markdown",
   "metadata": {},
   "source": [
    "### テキスト入出力"
   ]
  },
  {
   "cell_type": "code",
   "execution_count": 31,
   "metadata": {
    "execution": {
     "iopub.execute_input": "2022-05-11T09:53:31.172192Z",
     "iopub.status.busy": "2022-05-11T09:53:31.171768Z",
     "iopub.status.idle": "2022-05-11T09:53:31.291703Z",
     "shell.execute_reply": "2022-05-11T09:53:31.292257Z"
    }
   },
   "outputs": [
    {
     "name": "stdout",
     "output_type": "stream",
     "text": [
      " 0.81  0.59  0.50\r\n",
      " 0.31  0.95  1.00\r\n",
      "-0.31  0.95  1.50\r\n",
      "-0.81  0.59  2.00\r\n",
      "-1.00  0.00  2.50\r\n",
      "-0.81 -0.59  3.00\r\n",
      "-0.31 -0.95  3.50\r\n",
      " 0.31 -0.95  4.00\r\n",
      " 0.81 -0.59  4.50\r\n",
      " 1.00 -0.00  5.00\r\n",
      " 0.81  0.59  5.50\r\n",
      " 0.31  0.95  6.00\r\n",
      "-0.31  0.95  6.50\r\n",
      "-0.81  0.59  7.00\r\n",
      "-1.00  0.00  7.50\r\n",
      "-0.81 -0.59  8.00\r\n",
      "-0.31 -0.95  8.50\r\n",
      " 0.31 -0.95  9.00\r\n",
      " 0.81 -0.59  9.50\r\n",
      " 1.00 -0.00 10.00\r\n",
      " 0.81  0.59 10.50\r\n",
      " 0.31  0.95 11.00\r\n",
      "-0.31  0.95 11.50\r\n",
      "-0.81  0.59 12.00\r\n",
      "-1.00  0.00 12.50\r\n",
      "-0.81 -0.59 13.00\r\n",
      "-0.31 -0.95 13.50\r\n",
      " 0.31 -0.95 14.00\r\n",
      " 0.81 -0.59 14.50\r\n",
      " 1.00 -0.00 15.00\r\n",
      " 0.81  0.59 15.50\r\n",
      " 0.31  0.95 16.00\r\n"
     ]
    }
   ],
   "source": [
    "# helix1.datの中身を確認\n",
    "!cat helix1.dat"
   ]
  },
  {
   "cell_type": "code",
   "execution_count": 32,
   "metadata": {
    "execution": {
     "iopub.execute_input": "2022-05-11T09:53:31.298326Z",
     "iopub.status.busy": "2022-05-11T09:53:31.296670Z",
     "iopub.status.idle": "2022-05-11T09:53:31.300697Z",
     "shell.execute_reply": "2022-05-11T09:53:31.301029Z"
    }
   },
   "outputs": [
    {
     "data": {
      "text/plain": [
       "(32, 3)"
      ]
     },
     "execution_count": 32,
     "metadata": {},
     "output_type": "execute_result"
    }
   ],
   "source": [
    "# 読み込み\n",
    "x = np.loadtxt('helix1.dat')\n",
    "x.shape"
   ]
  },
  {
   "cell_type": "code",
   "execution_count": 33,
   "metadata": {
    "execution": {
     "iopub.execute_input": "2022-05-11T09:53:31.304231Z",
     "iopub.status.busy": "2022-05-11T09:53:31.303800Z",
     "iopub.status.idle": "2022-05-11T09:53:31.306741Z",
     "shell.execute_reply": "2022-05-11T09:53:31.306364Z"
    }
   },
   "outputs": [],
   "source": [
    "# 読み込んだデータを出力\n",
    "np.savetxt('output.dat', x, fmt='%5.2f')"
   ]
  },
  {
   "cell_type": "code",
   "execution_count": 34,
   "metadata": {
    "execution": {
     "iopub.execute_input": "2022-05-11T09:53:31.312824Z",
     "iopub.status.busy": "2022-05-11T09:53:31.309571Z",
     "iopub.status.idle": "2022-05-11T09:53:31.428373Z",
     "shell.execute_reply": "2022-05-11T09:53:31.427695Z"
    }
   },
   "outputs": [
    {
     "name": "stdout",
     "output_type": "stream",
     "text": [
      " 0.81  0.59  0.50\r\n",
      " 0.31  0.95  1.00\r\n",
      "-0.31  0.95  1.50\r\n",
      "-0.81  0.59  2.00\r\n",
      "-1.00  0.00  2.50\r\n",
      "-0.81 -0.59  3.00\r\n",
      "-0.31 -0.95  3.50\r\n",
      " 0.31 -0.95  4.00\r\n",
      " 0.81 -0.59  4.50\r\n",
      " 1.00 -0.00  5.00\r\n",
      " 0.81  0.59  5.50\r\n",
      " 0.31  0.95  6.00\r\n",
      "-0.31  0.95  6.50\r\n",
      "-0.81  0.59  7.00\r\n",
      "-1.00  0.00  7.50\r\n",
      "-0.81 -0.59  8.00\r\n",
      "-0.31 -0.95  8.50\r\n",
      " 0.31 -0.95  9.00\r\n",
      " 0.81 -0.59  9.50\r\n",
      " 1.00 -0.00 10.00\r\n",
      " 0.81  0.59 10.50\r\n",
      " 0.31  0.95 11.00\r\n",
      "-0.31  0.95 11.50\r\n",
      "-0.81  0.59 12.00\r\n",
      "-1.00  0.00 12.50\r\n",
      "-0.81 -0.59 13.00\r\n",
      "-0.31 -0.95 13.50\r\n",
      " 0.31 -0.95 14.00\r\n",
      " 0.81 -0.59 14.50\r\n",
      " 1.00 -0.00 15.00\r\n",
      " 0.81  0.59 15.50\r\n",
      " 0.31  0.95 16.00\r\n"
     ]
    }
   ],
   "source": [
    "# output.datの中身を確認\n",
    "!cat output.dat"
   ]
  },
  {
   "cell_type": "markdown",
   "metadata": {},
   "source": [
    "### バイナリ入出力"
   ]
  },
  {
   "cell_type": "code",
   "execution_count": 35,
   "metadata": {
    "execution": {
     "iopub.execute_input": "2022-05-11T09:53:31.433747Z",
     "iopub.status.busy": "2022-05-11T09:53:31.431312Z",
     "iopub.status.idle": "2022-05-11T09:53:31.436196Z",
     "shell.execute_reply": "2022-05-11T09:53:31.435462Z"
    }
   },
   "outputs": [],
   "source": [
    "# 配列を準備\n",
    "x = np.linspace(0.0, np.pi, 100)\n",
    "y = np.cos(x)"
   ]
  },
  {
   "cell_type": "code",
   "execution_count": 36,
   "metadata": {
    "execution": {
     "iopub.execute_input": "2022-05-11T09:53:31.439760Z",
     "iopub.status.busy": "2022-05-11T09:53:31.439136Z",
     "iopub.status.idle": "2022-05-11T09:53:31.441678Z",
     "shell.execute_reply": "2022-05-11T09:53:31.442030Z"
    }
   },
   "outputs": [],
   "source": [
    "# xをNPY形式で保存\n",
    "np.save(\"binary1.npy\", x)"
   ]
  },
  {
   "cell_type": "code",
   "execution_count": 37,
   "metadata": {
    "execution": {
     "iopub.execute_input": "2022-05-11T09:53:31.445533Z",
     "iopub.status.busy": "2022-05-11T09:53:31.445121Z",
     "iopub.status.idle": "2022-05-11T09:53:31.447460Z",
     "shell.execute_reply": "2022-05-11T09:53:31.447796Z"
    }
   },
   "outputs": [],
   "source": [
    "# x, yをNPZ形式で保存（各配列に名前を付けておく）\n",
    "np.savez(\"binary2.npz\", x_name=x, y_name=y)"
   ]
  },
  {
   "cell_type": "code",
   "execution_count": 38,
   "metadata": {
    "execution": {
     "iopub.execute_input": "2022-05-11T09:53:31.451672Z",
     "iopub.status.busy": "2022-05-11T09:53:31.451260Z",
     "iopub.status.idle": "2022-05-11T09:53:31.453995Z",
     "shell.execute_reply": "2022-05-11T09:53:31.453578Z"
    }
   },
   "outputs": [
    {
     "name": "stdout",
     "output_type": "stream",
     "text": [
      "True\n"
     ]
    }
   ],
   "source": [
    "# NPY形式のファイルを読み込み\n",
    "xx = np.load(\"binary1.npy\")\n",
    "\n",
    "# 値が同じことを確認\n",
    "print(np.alltrue(x == xx))"
   ]
  },
  {
   "cell_type": "code",
   "execution_count": 39,
   "metadata": {
    "execution": {
     "iopub.execute_input": "2022-05-11T09:53:31.457235Z",
     "iopub.status.busy": "2022-05-11T09:53:31.456697Z",
     "iopub.status.idle": "2022-05-11T09:53:31.459834Z",
     "shell.execute_reply": "2022-05-11T09:53:31.459417Z"
    }
   },
   "outputs": [
    {
     "name": "stdout",
     "output_type": "stream",
     "text": [
      "['x_name', 'y_name']\n"
     ]
    }
   ],
   "source": [
    "# NPZ形式のファイルを読み込み\n",
    "data = np.load(\"binary2.npz\")\n",
    "\n",
    "# dataはdict-likeなオブジェクト\n",
    "print(list(data.keys()))"
   ]
  },
  {
   "cell_type": "code",
   "execution_count": 40,
   "metadata": {
    "execution": {
     "iopub.execute_input": "2022-05-11T09:53:31.463412Z",
     "iopub.status.busy": "2022-05-11T09:53:31.462631Z",
     "iopub.status.idle": "2022-05-11T09:53:31.466426Z",
     "shell.execute_reply": "2022-05-11T09:53:31.466762Z"
    }
   },
   "outputs": [
    {
     "name": "stdout",
     "output_type": "stream",
     "text": [
      "True\n",
      "True\n"
     ]
    }
   ],
   "source": [
    "xx = data['x_name']\n",
    "yy = data['y_name']\n",
    "\n",
    "# ファイルから読んだ配列と元の配列の値が同じことを確認する\n",
    "print(np.alltrue(x == xx))\n",
    "print(np.alltrue(y == yy))"
   ]
  },
  {
   "cell_type": "markdown",
   "metadata": {},
   "source": [
    "### 生のバイナリファイル"
   ]
  },
  {
   "cell_type": "code",
   "execution_count": 41,
   "metadata": {
    "execution": {
     "iopub.execute_input": "2022-05-11T09:53:31.470979Z",
     "iopub.status.busy": "2022-05-11T09:53:31.470563Z",
     "iopub.status.idle": "2022-05-11T09:53:31.473206Z",
     "shell.execute_reply": "2022-05-11T09:53:31.472783Z"
    }
   },
   "outputs": [
    {
     "name": "stdout",
     "output_type": "stream",
     "text": [
      "[1.  1.5 2.  2.5 3.  3.5 4.  4.5 5.  5.5]\n"
     ]
    }
   ],
   "source": [
    "# ファイルを開く\n",
    "fp = open('cbinary.dat', 'r')\n",
    "\n",
    "# データ型(ここではnp.float64)およびデータ数(ここでは10)はあらかじめ知っておく必要あり\n",
    "z = np.fromfile(fp, np.float64, 10)\n",
    "\n",
    "# ファイルを閉じる\n",
    "fp.close()\n",
    "\n",
    "# 値を出力\n",
    "print(z)"
   ]
  },
  {
   "cell_type": "markdown",
   "metadata": {},
   "source": [
    "### unformatted形式(Fortran)"
   ]
  },
  {
   "cell_type": "code",
   "execution_count": 42,
   "metadata": {
    "execution": {
     "iopub.execute_input": "2022-05-11T09:53:31.477204Z",
     "iopub.status.busy": "2022-05-11T09:53:31.476782Z",
     "iopub.status.idle": "2022-05-11T09:53:31.494296Z",
     "shell.execute_reply": "2022-05-11T09:53:31.493879Z"
    }
   },
   "outputs": [],
   "source": [
    "# モジュール読み込み\n",
    "from scipy.io import FortranFile\n",
    "\n",
    "# ファイルを開く\n",
    "fp = FortranFile('helix2.dat')\n",
    "\n",
    "# データ読み込み\n",
    "x = fp.read_record(np.float64)\n",
    "y = fp.read_record(np.float64)\n",
    "z = fp.read_record(np.float64)\n",
    "\n",
    "# ファイルを閉じる\n",
    "fp.close()"
   ]
  },
  {
   "cell_type": "code",
   "execution_count": 43,
   "metadata": {
    "execution": {
     "iopub.execute_input": "2022-05-11T09:53:31.497392Z",
     "iopub.status.busy": "2022-05-11T09:53:31.496889Z",
     "iopub.status.idle": "2022-05-11T09:53:31.502901Z",
     "shell.execute_reply": "2022-05-11T09:53:31.502476Z"
    }
   },
   "outputs": [
    {
     "name": "stdout",
     "output_type": "stream",
     "text": [
      " 0.81  0.59  0.50\n",
      " 0.31  0.95  1.00\n",
      "-0.31  0.95  1.50\n",
      "-0.81  0.59  2.00\n",
      "-1.00  0.00  2.50\n",
      "-0.81 -0.59  3.00\n",
      "-0.31 -0.95  3.50\n",
      " 0.31 -0.95  4.00\n",
      " 0.81 -0.59  4.50\n",
      " 1.00 -0.00  5.00\n",
      " 0.81  0.59  5.50\n",
      " 0.31  0.95  6.00\n",
      "-0.31  0.95  6.50\n",
      "-0.81  0.59  7.00\n",
      "-1.00  0.00  7.50\n",
      "-0.81 -0.59  8.00\n",
      "-0.31 -0.95  8.50\n",
      " 0.31 -0.95  9.00\n",
      " 0.81 -0.59  9.50\n",
      " 1.00 -0.00 10.00\n",
      " 0.81  0.59 10.50\n",
      " 0.31  0.95 11.00\n",
      "-0.31  0.95 11.50\n",
      "-0.81  0.59 12.00\n",
      "-1.00  0.00 12.50\n",
      "-0.81 -0.59 13.00\n",
      "-0.31 -0.95 13.50\n",
      " 0.31 -0.95 14.00\n",
      " 0.81 -0.59 14.50\n",
      " 1.00 -0.00 15.00\n",
      " 0.81  0.59 15.50\n",
      " 0.31  0.95 16.00\n"
     ]
    }
   ],
   "source": [
    "# 結果を確認\n",
    "for i in range(x.size):\n",
    "    print('{:5.2f} {:5.2f} {:5.2f}'.format(x[i], y[i], z[i]))"
   ]
  },
  {
   "cell_type": "markdown",
   "metadata": {},
   "source": [
    "## 各種演算"
   ]
  },
  {
   "cell_type": "markdown",
   "metadata": {},
   "source": [
    "### 算術演算"
   ]
  },
  {
   "cell_type": "code",
   "execution_count": 44,
   "metadata": {
    "execution": {
     "iopub.execute_input": "2022-05-11T09:53:31.506669Z",
     "iopub.status.busy": "2022-05-11T09:53:31.506011Z",
     "iopub.status.idle": "2022-05-11T09:53:31.508170Z",
     "shell.execute_reply": "2022-05-11T09:53:31.507578Z"
    }
   },
   "outputs": [],
   "source": [
    "# 以下全てにおいて要素ごとに各種算術演算がなされる\n",
    "a = np.arange(4)\n",
    "b = np.arange(4) + 4"
   ]
  },
  {
   "cell_type": "code",
   "execution_count": 45,
   "metadata": {
    "execution": {
     "iopub.execute_input": "2022-05-11T09:53:31.512387Z",
     "iopub.status.busy": "2022-05-11T09:53:31.511782Z",
     "iopub.status.idle": "2022-05-11T09:53:31.513678Z",
     "shell.execute_reply": "2022-05-11T09:53:31.514012Z"
    }
   },
   "outputs": [
    {
     "data": {
      "text/plain": [
       "array([ 4,  6,  8, 10])"
      ]
     },
     "execution_count": 45,
     "metadata": {},
     "output_type": "execute_result"
    }
   ],
   "source": [
    "a + b"
   ]
  },
  {
   "cell_type": "code",
   "execution_count": 46,
   "metadata": {
    "execution": {
     "iopub.execute_input": "2022-05-11T09:53:31.517517Z",
     "iopub.status.busy": "2022-05-11T09:53:31.517103Z",
     "iopub.status.idle": "2022-05-11T09:53:31.519645Z",
     "shell.execute_reply": "2022-05-11T09:53:31.519274Z"
    }
   },
   "outputs": [
    {
     "data": {
      "text/plain": [
       "array([-4, -4, -4, -4])"
      ]
     },
     "execution_count": 46,
     "metadata": {},
     "output_type": "execute_result"
    }
   ],
   "source": [
    "a - b"
   ]
  },
  {
   "cell_type": "code",
   "execution_count": 47,
   "metadata": {
    "execution": {
     "iopub.execute_input": "2022-05-11T09:53:31.522924Z",
     "iopub.status.busy": "2022-05-11T09:53:31.522514Z",
     "iopub.status.idle": "2022-05-11T09:53:31.525218Z",
     "shell.execute_reply": "2022-05-11T09:53:31.524840Z"
    }
   },
   "outputs": [
    {
     "data": {
      "text/plain": [
       "array([ 0,  5, 12, 21])"
      ]
     },
     "execution_count": 47,
     "metadata": {},
     "output_type": "execute_result"
    }
   ],
   "source": [
    "a * b"
   ]
  },
  {
   "cell_type": "code",
   "execution_count": 48,
   "metadata": {
    "execution": {
     "iopub.execute_input": "2022-05-11T09:53:31.528630Z",
     "iopub.status.busy": "2022-05-11T09:53:31.528211Z",
     "iopub.status.idle": "2022-05-11T09:53:31.530863Z",
     "shell.execute_reply": "2022-05-11T09:53:31.530437Z"
    }
   },
   "outputs": [
    {
     "data": {
      "text/plain": [
       "array([0.        , 0.2       , 0.33333333, 0.42857143])"
      ]
     },
     "execution_count": 48,
     "metadata": {},
     "output_type": "execute_result"
    }
   ],
   "source": [
    "a / b"
   ]
  },
  {
   "cell_type": "code",
   "execution_count": 49,
   "metadata": {
    "execution": {
     "iopub.execute_input": "2022-05-11T09:53:31.534239Z",
     "iopub.status.busy": "2022-05-11T09:53:31.533824Z",
     "iopub.status.idle": "2022-05-11T09:53:31.536035Z",
     "shell.execute_reply": "2022-05-11T09:53:31.536379Z"
    }
   },
   "outputs": [
    {
     "data": {
      "text/plain": [
       "array([0, 1, 4, 9])"
      ]
     },
     "execution_count": 49,
     "metadata": {},
     "output_type": "execute_result"
    }
   ],
   "source": [
    "a**2"
   ]
  },
  {
   "cell_type": "markdown",
   "metadata": {},
   "source": [
    "### ユニバーサル関数"
   ]
  },
  {
   "cell_type": "code",
   "execution_count": 50,
   "metadata": {
    "execution": {
     "iopub.execute_input": "2022-05-11T09:53:31.539828Z",
     "iopub.status.busy": "2022-05-11T09:53:31.539411Z",
     "iopub.status.idle": "2022-05-11T09:53:31.541897Z",
     "shell.execute_reply": "2022-05-11T09:53:31.541522Z"
    }
   },
   "outputs": [
    {
     "data": {
      "text/plain": [
       "1.5707963267948966"
      ]
     },
     "execution_count": 50,
     "metadata": {},
     "output_type": "execute_result"
    }
   ],
   "source": [
    "# degree to radian\n",
    "np.deg2rad(90.0)"
   ]
  },
  {
   "cell_type": "code",
   "execution_count": 51,
   "metadata": {
    "execution": {
     "iopub.execute_input": "2022-05-11T09:53:31.545242Z",
     "iopub.status.busy": "2022-05-11T09:53:31.544834Z",
     "iopub.status.idle": "2022-05-11T09:53:31.547244Z",
     "shell.execute_reply": "2022-05-11T09:53:31.546826Z"
    }
   },
   "outputs": [
    {
     "data": {
      "text/plain": [
       "90.0"
      ]
     },
     "execution_count": 51,
     "metadata": {},
     "output_type": "execute_result"
    }
   ],
   "source": [
    "# radian to degree\n",
    "np.rad2deg(np.pi/2)"
   ]
  },
  {
   "cell_type": "code",
   "execution_count": 52,
   "metadata": {
    "execution": {
     "iopub.execute_input": "2022-05-11T09:53:31.550422Z",
     "iopub.status.busy": "2022-05-11T09:53:31.550009Z",
     "iopub.status.idle": "2022-05-11T09:53:31.552365Z",
     "shell.execute_reply": "2022-05-11T09:53:31.552696Z"
    }
   },
   "outputs": [
    {
     "data": {
      "text/plain": [
       "12"
      ]
     },
     "execution_count": 52,
     "metadata": {},
     "output_type": "execute_result"
    }
   ],
   "source": [
    "# lowest common multiple\n",
    "np.lcm(4, 6)"
   ]
  },
  {
   "cell_type": "code",
   "execution_count": 53,
   "metadata": {
    "execution": {
     "iopub.execute_input": "2022-05-11T09:53:31.556023Z",
     "iopub.status.busy": "2022-05-11T09:53:31.555610Z",
     "iopub.status.idle": "2022-05-11T09:53:31.558027Z",
     "shell.execute_reply": "2022-05-11T09:53:31.557664Z"
    }
   },
   "outputs": [
    {
     "data": {
      "text/plain": [
       "4"
      ]
     },
     "execution_count": 53,
     "metadata": {},
     "output_type": "execute_result"
    }
   ],
   "source": [
    "# greatest common divisor\n",
    "np.gcd(12, 20)"
   ]
  },
  {
   "cell_type": "code",
   "execution_count": 54,
   "metadata": {
    "execution": {
     "iopub.execute_input": "2022-05-11T09:53:31.561470Z",
     "iopub.status.busy": "2022-05-11T09:53:31.561061Z",
     "iopub.status.idle": "2022-05-11T09:53:31.563246Z",
     "shell.execute_reply": "2022-05-11T09:53:31.563576Z"
    }
   },
   "outputs": [
    {
     "data": {
      "text/plain": [
       "0.7853981633974483"
      ]
     },
     "execution_count": 54,
     "metadata": {},
     "output_type": "execute_result"
    }
   ],
   "source": [
    "# 複素数の偏角\n",
    "np.angle(1.0 + 1.0j)"
   ]
  },
  {
   "cell_type": "markdown",
   "metadata": {},
   "source": [
    "### メソッド"
   ]
  },
  {
   "cell_type": "code",
   "execution_count": 55,
   "metadata": {
    "execution": {
     "iopub.execute_input": "2022-05-11T09:53:31.567029Z",
     "iopub.status.busy": "2022-05-11T09:53:31.566618Z",
     "iopub.status.idle": "2022-05-11T09:53:31.569186Z",
     "shell.execute_reply": "2022-05-11T09:53:31.568817Z"
    }
   },
   "outputs": [
    {
     "data": {
      "text/plain": [
       "45"
      ]
     },
     "execution_count": 55,
     "metadata": {},
     "output_type": "execute_result"
    }
   ],
   "source": [
    "x = np.arange(10)\n",
    "np.sum(x)"
   ]
  },
  {
   "cell_type": "code",
   "execution_count": 56,
   "metadata": {
    "execution": {
     "iopub.execute_input": "2022-05-11T09:53:31.572433Z",
     "iopub.status.busy": "2022-05-11T09:53:31.572029Z",
     "iopub.status.idle": "2022-05-11T09:53:31.574534Z",
     "shell.execute_reply": "2022-05-11T09:53:31.574174Z"
    }
   },
   "outputs": [
    {
     "data": {
      "text/plain": [
       "45"
      ]
     },
     "execution_count": 56,
     "metadata": {},
     "output_type": "execute_result"
    }
   ],
   "source": [
    "x.sum()"
   ]
  },
  {
   "cell_type": "code",
   "execution_count": 57,
   "metadata": {
    "execution": {
     "iopub.execute_input": "2022-05-11T09:53:31.577685Z",
     "iopub.status.busy": "2022-05-11T09:53:31.577282Z",
     "iopub.status.idle": "2022-05-11T09:53:31.579602Z",
     "shell.execute_reply": "2022-05-11T09:53:31.579934Z"
    }
   },
   "outputs": [
    {
     "data": {
      "text/plain": [
       "9"
      ]
     },
     "execution_count": 57,
     "metadata": {},
     "output_type": "execute_result"
    }
   ],
   "source": [
    "x.max()"
   ]
  },
  {
   "cell_type": "code",
   "execution_count": 58,
   "metadata": {
    "execution": {
     "iopub.execute_input": "2022-05-11T09:53:31.583103Z",
     "iopub.status.busy": "2022-05-11T09:53:31.582699Z",
     "iopub.status.idle": "2022-05-11T09:53:31.584993Z",
     "shell.execute_reply": "2022-05-11T09:53:31.585324Z"
    }
   },
   "outputs": [
    {
     "data": {
      "text/plain": [
       "0"
      ]
     },
     "execution_count": 58,
     "metadata": {},
     "output_type": "execute_result"
    }
   ],
   "source": [
    "x.min()"
   ]
  },
  {
   "cell_type": "code",
   "execution_count": 59,
   "metadata": {
    "execution": {
     "iopub.execute_input": "2022-05-11T09:53:31.588651Z",
     "iopub.status.busy": "2022-05-11T09:53:31.588246Z",
     "iopub.status.idle": "2022-05-11T09:53:31.590766Z",
     "shell.execute_reply": "2022-05-11T09:53:31.590383Z"
    }
   },
   "outputs": [
    {
     "data": {
      "text/plain": [
       "4.5"
      ]
     },
     "execution_count": 59,
     "metadata": {},
     "output_type": "execute_result"
    }
   ],
   "source": [
    "x.mean()"
   ]
  },
  {
   "cell_type": "markdown",
   "metadata": {},
   "source": [
    "## インデックス操作"
   ]
  },
  {
   "cell_type": "code",
   "execution_count": 60,
   "metadata": {
    "execution": {
     "iopub.execute_input": "2022-05-11T09:53:31.593653Z",
     "iopub.status.busy": "2022-05-11T09:53:31.593249Z",
     "iopub.status.idle": "2022-05-11T09:53:31.594901Z",
     "shell.execute_reply": "2022-05-11T09:53:31.595228Z"
    }
   },
   "outputs": [],
   "source": [
    "x = np.arange(10)"
   ]
  },
  {
   "cell_type": "code",
   "execution_count": 61,
   "metadata": {
    "execution": {
     "iopub.execute_input": "2022-05-11T09:53:31.598244Z",
     "iopub.status.busy": "2022-05-11T09:53:31.597833Z",
     "iopub.status.idle": "2022-05-11T09:53:31.600243Z",
     "shell.execute_reply": "2022-05-11T09:53:31.600574Z"
    }
   },
   "outputs": [
    {
     "data": {
      "text/plain": [
       "2"
      ]
     },
     "execution_count": 61,
     "metadata": {},
     "output_type": "execute_result"
    }
   ],
   "source": [
    "# 3番目の要素\n",
    "x[2]"
   ]
  },
  {
   "cell_type": "code",
   "execution_count": 62,
   "metadata": {
    "execution": {
     "iopub.execute_input": "2022-05-11T09:53:31.603902Z",
     "iopub.status.busy": "2022-05-11T09:53:31.603494Z",
     "iopub.status.idle": "2022-05-11T09:53:31.606045Z",
     "shell.execute_reply": "2022-05-11T09:53:31.605664Z"
    }
   },
   "outputs": [
    {
     "data": {
      "text/plain": [
       "array([2, 3, 4])"
      ]
     },
     "execution_count": 62,
     "metadata": {},
     "output_type": "execute_result"
    }
   ],
   "source": [
    "# 3, 4, 5番目の要素(結果もNumPy配列)\n",
    "x[2:5]"
   ]
  },
  {
   "cell_type": "code",
   "execution_count": 63,
   "metadata": {
    "execution": {
     "iopub.execute_input": "2022-05-11T09:53:31.609465Z",
     "iopub.status.busy": "2022-05-11T09:53:31.609055Z",
     "iopub.status.idle": "2022-05-11T09:53:31.611646Z",
     "shell.execute_reply": "2022-05-11T09:53:31.611283Z"
    }
   },
   "outputs": [
    {
     "data": {
      "text/plain": [
       "array([-1,  1, -1,  3, -1,  5, -1,  7,  8,  9])"
      ]
     },
     "execution_count": 63,
     "metadata": {},
     "output_type": "execute_result"
    }
   ],
   "source": [
    "# 0, 2, 4, 6番目の要素に-1を代入\n",
    "x[:8:2] = -1\n",
    "x"
   ]
  },
  {
   "cell_type": "code",
   "execution_count": 64,
   "metadata": {
    "execution": {
     "iopub.execute_input": "2022-05-11T09:53:31.614951Z",
     "iopub.status.busy": "2022-05-11T09:53:31.614545Z",
     "iopub.status.idle": "2022-05-11T09:53:31.617149Z",
     "shell.execute_reply": "2022-05-11T09:53:31.616783Z"
    }
   },
   "outputs": [
    {
     "data": {
      "text/plain": [
       "array([ 9,  8,  7, -1,  5, -1,  3, -1,  1, -1])"
      ]
     },
     "execution_count": 64,
     "metadata": {},
     "output_type": "execute_result"
    }
   ],
   "source": [
    "# 順番を反転\n",
    "x[::-1]"
   ]
  },
  {
   "cell_type": "code",
   "execution_count": 65,
   "metadata": {
    "execution": {
     "iopub.execute_input": "2022-05-11T09:53:31.620461Z",
     "iopub.status.busy": "2022-05-11T09:53:31.620043Z",
     "iopub.status.idle": "2022-05-11T09:53:31.622259Z",
     "shell.execute_reply": "2022-05-11T09:53:31.622588Z"
    }
   },
   "outputs": [
    {
     "data": {
      "text/plain": [
       "9"
      ]
     },
     "execution_count": 65,
     "metadata": {},
     "output_type": "execute_result"
    }
   ],
   "source": [
    "# 最後の要素\n",
    "x[-1]"
   ]
  },
  {
   "cell_type": "code",
   "execution_count": 66,
   "metadata": {
    "execution": {
     "iopub.execute_input": "2022-05-11T09:53:31.625804Z",
     "iopub.status.busy": "2022-05-11T09:53:31.625399Z",
     "iopub.status.idle": "2022-05-11T09:53:31.627938Z",
     "shell.execute_reply": "2022-05-11T09:53:31.627529Z"
    }
   },
   "outputs": [
    {
     "data": {
      "text/plain": [
       "8"
      ]
     },
     "execution_count": 66,
     "metadata": {},
     "output_type": "execute_result"
    }
   ],
   "source": [
    "# 最後から2番目の要素\n",
    "x[-2]"
   ]
  },
  {
   "cell_type": "code",
   "execution_count": 67,
   "metadata": {
    "execution": {
     "iopub.execute_input": "2022-05-11T09:53:31.631439Z",
     "iopub.status.busy": "2022-05-11T09:53:31.631033Z",
     "iopub.status.idle": "2022-05-11T09:53:31.633183Z",
     "shell.execute_reply": "2022-05-11T09:53:31.633510Z"
    }
   },
   "outputs": [
    {
     "data": {
      "text/plain": [
       "array([1, 3, 5, 7, 9])"
      ]
     },
     "execution_count": 67,
     "metadata": {},
     "output_type": "execute_result"
    }
   ],
   "source": [
    "# インデックス配列\n",
    "i = np.arange(1, 10, 2)\n",
    "i"
   ]
  },
  {
   "cell_type": "code",
   "execution_count": 68,
   "metadata": {
    "execution": {
     "iopub.execute_input": "2022-05-11T09:53:31.636962Z",
     "iopub.status.busy": "2022-05-11T09:53:31.636544Z",
     "iopub.status.idle": "2022-05-11T09:53:31.638772Z",
     "shell.execute_reply": "2022-05-11T09:53:31.639101Z"
    }
   },
   "outputs": [
    {
     "data": {
      "text/plain": [
       "array([-1,  2, -1,  6, -1, 10, -1, 14,  8, 18])"
      ]
     },
     "execution_count": 68,
     "metadata": {},
     "output_type": "execute_result"
    }
   ],
   "source": [
    "# 指定された要素のみ2倍にする\n",
    "x[i] *= 2\n",
    "x"
   ]
  },
  {
   "cell_type": "code",
   "execution_count": 69,
   "metadata": {
    "execution": {
     "iopub.execute_input": "2022-05-11T09:53:31.642352Z",
     "iopub.status.busy": "2022-05-11T09:53:31.641944Z",
     "iopub.status.idle": "2022-05-11T09:53:31.644203Z",
     "shell.execute_reply": "2022-05-11T09:53:31.644532Z"
    }
   },
   "outputs": [
    {
     "data": {
      "text/plain": [
       "array([-1, -1, -1, -1,  8])"
      ]
     },
     "execution_count": 69,
     "metadata": {},
     "output_type": "execute_result"
    }
   ],
   "source": [
    "# 1つずらしたインデックス\n",
    "x[i-1]"
   ]
  },
  {
   "cell_type": "code",
   "execution_count": 70,
   "metadata": {
    "execution": {
     "iopub.execute_input": "2022-05-11T09:53:31.648069Z",
     "iopub.status.busy": "2022-05-11T09:53:31.647647Z",
     "iopub.status.idle": "2022-05-11T09:53:31.650089Z",
     "shell.execute_reply": "2022-05-11T09:53:31.650417Z"
    }
   },
   "outputs": [
    {
     "data": {
      "text/plain": [
       "array([[ 0,  1,  2,  3,  4],\n",
       "       [ 5,  6,  7,  8,  9],\n",
       "       [10, 11, 12, 13, 14],\n",
       "       [15, 16, 17, 18, 19]])"
      ]
     },
     "execution_count": 70,
     "metadata": {},
     "output_type": "execute_result"
    }
   ],
   "source": [
    "# 1次元配列から2次元配列にreshape\n",
    "y = np.arange(20).reshape((4, 5))\n",
    "y"
   ]
  },
  {
   "cell_type": "code",
   "execution_count": 71,
   "metadata": {
    "execution": {
     "iopub.execute_input": "2022-05-11T09:53:31.653611Z",
     "iopub.status.busy": "2022-05-11T09:53:31.653206Z",
     "iopub.status.idle": "2022-05-11T09:53:31.655484Z",
     "shell.execute_reply": "2022-05-11T09:53:31.655833Z"
    }
   },
   "outputs": [
    {
     "data": {
      "text/plain": [
       "array([0, 1, 2, 3, 4])"
      ]
     },
     "execution_count": 71,
     "metadata": {},
     "output_type": "execute_result"
    }
   ],
   "source": [
    "# ':' は全ての要素\n",
    "y[0,:]"
   ]
  },
  {
   "cell_type": "code",
   "execution_count": 72,
   "metadata": {
    "execution": {
     "iopub.execute_input": "2022-05-11T09:53:31.659409Z",
     "iopub.status.busy": "2022-05-11T09:53:31.658908Z",
     "iopub.status.idle": "2022-05-11T09:53:31.661298Z",
     "shell.execute_reply": "2022-05-11T09:53:31.660877Z"
    }
   },
   "outputs": [
    {
     "data": {
      "text/plain": [
       "array([ 1,  6, 11, 16])"
      ]
     },
     "execution_count": 72,
     "metadata": {},
     "output_type": "execute_result"
    }
   ],
   "source": [
    "# 2次元目のみ指定\n",
    "y[:,1]"
   ]
  },
  {
   "cell_type": "code",
   "execution_count": 73,
   "metadata": {
    "execution": {
     "iopub.execute_input": "2022-05-11T09:53:31.664643Z",
     "iopub.status.busy": "2022-05-11T09:53:31.664233Z",
     "iopub.status.idle": "2022-05-11T09:53:31.666828Z",
     "shell.execute_reply": "2022-05-11T09:53:31.666407Z"
    }
   },
   "outputs": [
    {
     "data": {
      "text/plain": [
       "array([[ 6,  7],\n",
       "       [11, 12]])"
      ]
     },
     "execution_count": 73,
     "metadata": {},
     "output_type": "execute_result"
    }
   ],
   "source": [
    "# 各次元の2番目から4番目の要素のみ指定\n",
    "y[1:3,1:3]"
   ]
  },
  {
   "cell_type": "code",
   "execution_count": 74,
   "metadata": {
    "execution": {
     "iopub.execute_input": "2022-05-11T09:53:31.670791Z",
     "iopub.status.busy": "2022-05-11T09:53:31.670180Z",
     "iopub.status.idle": "2022-05-11T09:53:31.673114Z",
     "shell.execute_reply": "2022-05-11T09:53:31.672535Z"
    }
   },
   "outputs": [
    {
     "data": {
      "text/plain": [
       "array([[[ 0,  1,  2],\n",
       "        [ 3,  4,  5],\n",
       "        [ 6,  7,  8]],\n",
       "\n",
       "       [[ 9, 10, 11],\n",
       "        [12, 13, 14],\n",
       "        [15, 16, 17]]])"
      ]
     },
     "execution_count": 74,
     "metadata": {},
     "output_type": "execute_result"
    }
   ],
   "source": [
    "# 1次元配列から3次元配列にreshape\n",
    "z = np.arange(18).reshape((2, 3, 3))\n",
    "z"
   ]
  },
  {
   "cell_type": "code",
   "execution_count": 75,
   "metadata": {
    "execution": {
     "iopub.execute_input": "2022-05-11T09:53:31.677007Z",
     "iopub.status.busy": "2022-05-11T09:53:31.676353Z",
     "iopub.status.idle": "2022-05-11T09:53:31.678620Z",
     "shell.execute_reply": "2022-05-11T09:53:31.679174Z"
    }
   },
   "outputs": [
    {
     "data": {
      "text/plain": [
       "array([[ 0,  3,  6],\n",
       "       [ 9, 12, 15]])"
      ]
     },
     "execution_count": 75,
     "metadata": {},
     "output_type": "execute_result"
    }
   ],
   "source": [
    "# 3次元目のみ指定\n",
    "z[...,0]"
   ]
  },
  {
   "cell_type": "code",
   "execution_count": 76,
   "metadata": {
    "execution": {
     "iopub.execute_input": "2022-05-11T09:53:31.682493Z",
     "iopub.status.busy": "2022-05-11T09:53:31.682085Z",
     "iopub.status.idle": "2022-05-11T09:53:31.684342Z",
     "shell.execute_reply": "2022-05-11T09:53:31.684677Z"
    }
   },
   "outputs": [
    {
     "data": {
      "text/plain": [
       "array([ 9, 12, 15])"
      ]
     },
     "execution_count": 76,
     "metadata": {},
     "output_type": "execute_result"
    }
   ],
   "source": [
    "# 1次元目と3次元のみ指定\n",
    "z[1,...,0]"
   ]
  },
  {
   "cell_type": "code",
   "execution_count": 77,
   "metadata": {
    "execution": {
     "iopub.execute_input": "2022-05-11T09:53:31.687884Z",
     "iopub.status.busy": "2022-05-11T09:53:31.687479Z",
     "iopub.status.idle": "2022-05-11T09:53:31.689606Z",
     "shell.execute_reply": "2022-05-11T09:53:31.689936Z"
    }
   },
   "outputs": [
    {
     "data": {
      "text/plain": [
       "array([[ 9, 10, 11],\n",
       "       [12, 13, 14],\n",
       "       [15, 16, 17]])"
      ]
     },
     "execution_count": 77,
     "metadata": {},
     "output_type": "execute_result"
    }
   ],
   "source": [
    "# 1次元目のみ指定\n",
    "z[1]"
   ]
  },
  {
   "cell_type": "code",
   "execution_count": 78,
   "metadata": {
    "execution": {
     "iopub.execute_input": "2022-05-11T09:53:31.693194Z",
     "iopub.status.busy": "2022-05-11T09:53:31.692790Z",
     "iopub.status.idle": "2022-05-11T09:53:31.695303Z",
     "shell.execute_reply": "2022-05-11T09:53:31.694931Z"
    }
   },
   "outputs": [
    {
     "data": {
      "text/plain": [
       "array([10, 10, 10, 10, 10, 10, 10, 10, 10, 10])"
      ]
     },
     "execution_count": 78,
     "metadata": {},
     "output_type": "execute_result"
    }
   ],
   "source": [
    "# 配列の全要素に代入\n",
    "x[:] = 10\n",
    "x"
   ]
  },
  {
   "cell_type": "code",
   "execution_count": 79,
   "metadata": {
    "execution": {
     "iopub.execute_input": "2022-05-11T09:53:31.698397Z",
     "iopub.status.busy": "2022-05-11T09:53:31.697988Z",
     "iopub.status.idle": "2022-05-11T09:53:31.700135Z",
     "shell.execute_reply": "2022-05-11T09:53:31.700461Z"
    }
   },
   "outputs": [
    {
     "data": {
      "text/plain": [
       "10"
      ]
     },
     "execution_count": 79,
     "metadata": {},
     "output_type": "execute_result"
    }
   ],
   "source": [
    "# 整数10をxに代入（xの配列を破棄されxはスカラーになる）\n",
    "x = 10\n",
    "x"
   ]
  },
  {
   "cell_type": "code",
   "execution_count": null,
   "metadata": {},
   "outputs": [],
   "source": []
  }
 ],
 "metadata": {
  "kernelspec": {
   "display_name": "Python 3",
   "language": "python",
   "name": "python3"
  },
  "language_info": {
   "codemirror_mode": {
    "name": "ipython",
    "version": 3
   },
   "file_extension": ".py",
   "mimetype": "text/x-python",
   "name": "python",
   "nbconvert_exporter": "python",
   "pygments_lexer": "ipython3",
   "version": "3.9.7"
  }
 },
 "nbformat": 4,
 "nbformat_minor": 4
}
