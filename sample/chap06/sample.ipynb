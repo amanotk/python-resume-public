{
 "cells": [
  {
   "cell_type": "markdown",
   "metadata": {},
   "source": [
    "# 6. NumPy配列の基本"
   ]
  },
  {
   "cell_type": "code",
   "execution_count": 1,
   "metadata": {
    "execution": {
     "iopub.execute_input": "2021-05-18T00:57:26.153830Z",
     "iopub.status.busy": "2021-05-18T00:57:26.153170Z",
     "iopub.status.idle": "2021-05-18T00:57:26.705783Z",
     "shell.execute_reply": "2021-05-18T00:57:26.706768Z"
    }
   },
   "outputs": [],
   "source": [
    "# データファイルの準備\n",
    "import urllib.request\n",
    "\n",
    "basedir = 'https://amanotk.github.io/python-resume-public/data/'\n",
    "files = ['helix1.dat', 'helix2.dat', 'cbinary.dat']\n",
    "for f in files:\n",
    "    urllib.request.urlretrieve(basedir+f, f)"
   ]
  },
  {
   "cell_type": "code",
   "execution_count": 2,
   "metadata": {
    "execution": {
     "iopub.execute_input": "2021-05-18T00:57:26.713506Z",
     "iopub.status.busy": "2021-05-18T00:57:26.712354Z",
     "iopub.status.idle": "2021-05-18T00:57:26.716882Z",
     "shell.execute_reply": "2021-05-18T00:57:26.716287Z"
    }
   },
   "outputs": [],
   "source": [
    "import numpy as np\n",
    "from matplotlib import pylab as plt"
   ]
  },
  {
   "cell_type": "markdown",
   "metadata": {},
   "source": [
    "## 基本的な使い方"
   ]
  },
  {
   "cell_type": "code",
   "execution_count": 3,
   "metadata": {
    "execution": {
     "iopub.execute_input": "2021-05-18T00:57:26.725400Z",
     "iopub.status.busy": "2021-05-18T00:57:26.724706Z",
     "iopub.status.idle": "2021-05-18T00:57:26.729452Z",
     "shell.execute_reply": "2021-05-18T00:57:26.728677Z"
    }
   },
   "outputs": [
    {
     "data": {
      "text/plain": [
       "array([0, 1, 2, 3, 4, 5, 6, 7, 8, 9])"
      ]
     },
     "execution_count": 1,
     "metadata": {},
     "output_type": "execute_result"
    }
   ],
   "source": [
    "np.arange(10)"
   ]
  },
  {
   "cell_type": "code",
   "execution_count": 4,
   "metadata": {
    "execution": {
     "iopub.execute_input": "2021-05-18T00:57:26.734480Z",
     "iopub.status.busy": "2021-05-18T00:57:26.733710Z",
     "iopub.status.idle": "2021-05-18T00:57:26.737277Z",
     "shell.execute_reply": "2021-05-18T00:57:26.736510Z"
    }
   },
   "outputs": [],
   "source": [
    "N = 10\n",
    "x = np.arange(N)/N * 2*np.pi\n",
    "y = np.cos(x)"
   ]
  },
  {
   "cell_type": "code",
   "execution_count": 5,
   "metadata": {
    "execution": {
     "iopub.execute_input": "2021-05-18T00:57:26.760139Z",
     "iopub.status.busy": "2021-05-18T00:57:26.758989Z",
     "iopub.status.idle": "2021-05-18T00:57:26.952526Z",
     "shell.execute_reply": "2021-05-18T00:57:26.951537Z"
    }
   },
   "outputs": [
    {
     "data": {
      "text/plain": [
       "[<matplotlib.lines.Line2D at 0x7ff8d70ee050>]"
      ]
     },
     "execution_count": 1,
     "metadata": {},
     "output_type": "execute_result"
    },
    {
     "data": {
      "image/png": "[encoded data removed]",
      "text/plain": [
       "<Figure size 432x288 with 1 Axes>"
      ]
     },
     "metadata": {
      "needs_background": "light"
     },
     "output_type": "display_data"
    }
   ],
   "source": [
    "plt.plot(x, y)"
   ]
  },
  {
   "cell_type": "markdown",
   "metadata": {},
   "source": [
    "## 配列オブジェクト"
   ]
  },
  {
   "cell_type": "code",
   "execution_count": 6,
   "metadata": {
    "execution": {
     "iopub.execute_input": "2021-05-18T00:57:26.957621Z",
     "iopub.status.busy": "2021-05-18T00:57:26.956516Z",
     "iopub.status.idle": "2021-05-18T00:57:26.958792Z",
     "shell.execute_reply": "2021-05-18T00:57:26.959697Z"
    }
   },
   "outputs": [],
   "source": [
    "x = np.arange(10)"
   ]
  },
  {
   "cell_type": "code",
   "execution_count": 7,
   "metadata": {
    "execution": {
     "iopub.execute_input": "2021-05-18T00:57:26.964115Z",
     "iopub.status.busy": "2021-05-18T00:57:26.963561Z",
     "iopub.status.idle": "2021-05-18T00:57:26.966355Z",
     "shell.execute_reply": "2021-05-18T00:57:26.965938Z"
    }
   },
   "outputs": [
    {
     "data": {
      "text/plain": [
       "dtype('int64')"
      ]
     },
     "execution_count": 1,
     "metadata": {},
     "output_type": "execute_result"
    }
   ],
   "source": [
    "# データ型\n",
    "x.dtype"
   ]
  },
  {
   "cell_type": "code",
   "execution_count": 8,
   "metadata": {
    "execution": {
     "iopub.execute_input": "2021-05-18T00:57:26.969736Z",
     "iopub.status.busy": "2021-05-18T00:57:26.969203Z",
     "iopub.status.idle": "2021-05-18T00:57:26.972767Z",
     "shell.execute_reply": "2021-05-18T00:57:26.972345Z"
    }
   },
   "outputs": [
    {
     "data": {
      "text/plain": [
       "1"
      ]
     },
     "execution_count": 1,
     "metadata": {},
     "output_type": "execute_result"
    }
   ],
   "source": [
    "# 次元数\n",
    "x.ndim"
   ]
  },
  {
   "cell_type": "code",
   "execution_count": 9,
   "metadata": {
    "execution": {
     "iopub.execute_input": "2021-05-18T00:57:26.976137Z",
     "iopub.status.busy": "2021-05-18T00:57:26.975584Z",
     "iopub.status.idle": "2021-05-18T00:57:26.978946Z",
     "shell.execute_reply": "2021-05-18T00:57:26.978465Z"
    }
   },
   "outputs": [
    {
     "data": {
      "text/plain": [
       "10"
      ]
     },
     "execution_count": 1,
     "metadata": {},
     "output_type": "execute_result"
    }
   ],
   "source": [
    "# 全要素数\n",
    "x.size"
   ]
  },
  {
   "cell_type": "code",
   "execution_count": 10,
   "metadata": {
    "execution": {
     "iopub.execute_input": "2021-05-18T00:57:26.982262Z",
     "iopub.status.busy": "2021-05-18T00:57:26.981721Z",
     "iopub.status.idle": "2021-05-18T00:57:26.985136Z",
     "shell.execute_reply": "2021-05-18T00:57:26.984587Z"
    }
   },
   "outputs": [
    {
     "data": {
      "text/plain": [
       "(10,)"
      ]
     },
     "execution_count": 1,
     "metadata": {},
     "output_type": "execute_result"
    }
   ],
   "source": [
    "# 形状\n",
    "x.shape"
   ]
  },
  {
   "cell_type": "code",
   "execution_count": 11,
   "metadata": {
    "execution": {
     "iopub.execute_input": "2021-05-18T00:57:26.988969Z",
     "iopub.status.busy": "2021-05-18T00:57:26.988423Z",
     "iopub.status.idle": "2021-05-18T00:57:26.991980Z",
     "shell.execute_reply": "2021-05-18T00:57:26.991483Z"
    }
   },
   "outputs": [
    {
     "data": {
      "text/plain": [
       "(2, 3)"
      ]
     },
     "execution_count": 1,
     "metadata": {},
     "output_type": "execute_result"
    }
   ],
   "source": [
    "# 2次元配列の形状\n",
    "np.array([[1, 2, 3], [4, 5, 6]]).shape"
   ]
  },
  {
   "cell_type": "code",
   "execution_count": 12,
   "metadata": {
    "execution": {
     "iopub.execute_input": "2021-05-18T00:57:26.996017Z",
     "iopub.status.busy": "2021-05-18T00:57:26.995483Z",
     "iopub.status.idle": "2021-05-18T00:57:26.999285Z",
     "shell.execute_reply": "2021-05-18T00:57:26.998802Z"
    }
   },
   "outputs": [
    {
     "data": {
      "text/plain": [
       "dtype('float64')"
      ]
     },
     "execution_count": 1,
     "metadata": {},
     "output_type": "execute_result"
    }
   ],
   "source": [
    "# 古い形式の64bit浮動小数点数\n",
    "np.dtype('d')"
   ]
  },
  {
   "cell_type": "code",
   "execution_count": 13,
   "metadata": {
    "execution": {
     "iopub.execute_input": "2021-05-18T00:57:27.003253Z",
     "iopub.status.busy": "2021-05-18T00:57:27.002769Z",
     "iopub.status.idle": "2021-05-18T00:57:27.006699Z",
     "shell.execute_reply": "2021-05-18T00:57:27.006187Z"
    }
   },
   "outputs": [
    {
     "data": {
      "text/plain": [
       "dtype('int32')"
      ]
     },
     "execution_count": 1,
     "metadata": {},
     "output_type": "execute_result"
    }
   ],
   "source": [
    "# 古い形式の32bit整数\n",
    "np.dtype('i')"
   ]
  },
  {
   "cell_type": "markdown",
   "metadata": {},
   "source": [
    "## 生成"
   ]
  },
  {
   "cell_type": "code",
   "execution_count": 14,
   "metadata": {
    "execution": {
     "iopub.execute_input": "2021-05-18T00:57:27.010614Z",
     "iopub.status.busy": "2021-05-18T00:57:27.010060Z",
     "iopub.status.idle": "2021-05-18T00:57:27.013729Z",
     "shell.execute_reply": "2021-05-18T00:57:27.013287Z"
    }
   },
   "outputs": [
    {
     "data": {
      "text/plain": [
       "array([0, 1, 2, 3, 4])"
      ]
     },
     "execution_count": 1,
     "metadata": {},
     "output_type": "execute_result"
    }
   ],
   "source": [
    "# listより生成\n",
    "np.array([0, 1, 2, 3, 4])"
   ]
  },
  {
   "cell_type": "code",
   "execution_count": 15,
   "metadata": {
    "execution": {
     "iopub.execute_input": "2021-05-18T00:57:27.017983Z",
     "iopub.status.busy": "2021-05-18T00:57:27.017407Z",
     "iopub.status.idle": "2021-05-18T00:57:27.021263Z",
     "shell.execute_reply": "2021-05-18T00:57:27.020780Z"
    }
   },
   "outputs": [
    {
     "data": {
      "text/plain": [
       "array([0, 1, 2])"
      ]
     },
     "execution_count": 1,
     "metadata": {},
     "output_type": "execute_result"
    }
   ],
   "source": [
    "# tupleより生成\n",
    "np.array((0, 1, 2))"
   ]
  },
  {
   "cell_type": "code",
   "execution_count": 16,
   "metadata": {
    "execution": {
     "iopub.execute_input": "2021-05-18T00:57:27.025967Z",
     "iopub.status.busy": "2021-05-18T00:57:27.025454Z",
     "iopub.status.idle": "2021-05-18T00:57:27.029568Z",
     "shell.execute_reply": "2021-05-18T00:57:27.028996Z"
    }
   },
   "outputs": [
    {
     "data": {
      "text/plain": [
       "array([[0, 1],\n",
       "       [2, 3],\n",
       "       [4, 5]])"
      ]
     },
     "execution_count": 1,
     "metadata": {},
     "output_type": "execute_result"
    }
   ],
   "source": [
    "# listのlistを2次元配列に変換\n",
    "np.array([[0, 1,], [2, 3], [4, 5]])"
   ]
  },
  {
   "cell_type": "code",
   "execution_count": 17,
   "metadata": {
    "execution": {
     "iopub.execute_input": "2021-05-18T00:57:27.033469Z",
     "iopub.status.busy": "2021-05-18T00:57:27.032809Z",
     "iopub.status.idle": "2021-05-18T00:57:27.036479Z",
     "shell.execute_reply": "2021-05-18T00:57:27.035807Z"
    }
   },
   "outputs": [
    {
     "data": {
      "text/plain": [
       "array([10, 12, 14, 16, 18])"
      ]
     },
     "execution_count": 1,
     "metadata": {},
     "output_type": "execute_result"
    }
   ],
   "source": [
    "# start, stop, strideの形\n",
    "np.arange(10, 20, 2)"
   ]
  },
  {
   "cell_type": "code",
   "execution_count": 18,
   "metadata": {
    "execution": {
     "iopub.execute_input": "2021-05-18T00:57:27.041151Z",
     "iopub.status.busy": "2021-05-18T00:57:27.040622Z",
     "iopub.status.idle": "2021-05-18T00:57:27.044250Z",
     "shell.execute_reply": "2021-05-18T00:57:27.043761Z"
    }
   },
   "outputs": [
    {
     "data": {
      "text/plain": [
       "array([0., 1., 2., 3., 4., 5., 6., 7., 8., 9.])"
      ]
     },
     "execution_count": 1,
     "metadata": {},
     "output_type": "execute_result"
    }
   ],
   "source": [
    "# dtypeでデータ型を指定\n",
    "np.arange(10, dtype=np.float64)"
   ]
  },
  {
   "cell_type": "code",
   "execution_count": 19,
   "metadata": {
    "execution": {
     "iopub.execute_input": "2021-05-18T00:57:27.049396Z",
     "iopub.status.busy": "2021-05-18T00:57:27.048873Z",
     "iopub.status.idle": "2021-05-18T00:57:27.052467Z",
     "shell.execute_reply": "2021-05-18T00:57:27.052974Z"
    }
   },
   "outputs": [
    {
     "data": {
      "text/plain": [
       "array([0., 0., 0., 0., 0., 0., 0., 0., 0., 0.])"
      ]
     },
     "execution_count": 1,
     "metadata": {},
     "output_type": "execute_result"
    }
   ],
   "source": [
    "# ゼロで初期化（デフォルトでfloat64）\n",
    "np.zeros(10)"
   ]
  },
  {
   "cell_type": "code",
   "execution_count": 20,
   "metadata": {
    "execution": {
     "iopub.execute_input": "2021-05-18T00:57:27.058152Z",
     "iopub.status.busy": "2021-05-18T00:57:27.057493Z",
     "iopub.status.idle": "2021-05-18T00:57:27.061244Z",
     "shell.execute_reply": "2021-05-18T00:57:27.060577Z"
    }
   },
   "outputs": [
    {
     "data": {
      "text/plain": [
       "array([[0, 0, 0, 0],\n",
       "       [0, 0, 0, 0]], dtype=int32)"
      ]
     },
     "execution_count": 1,
     "metadata": {},
     "output_type": "execute_result"
    }
   ],
   "source": [
    "# 多次元配列の場合は形状をtupleで指定\n",
    "np.zeros((2, 4), dtype=np.int32)"
   ]
  },
  {
   "cell_type": "code",
   "execution_count": 21,
   "metadata": {
    "execution": {
     "iopub.execute_input": "2021-05-18T00:57:27.065811Z",
     "iopub.status.busy": "2021-05-18T00:57:27.065116Z",
     "iopub.status.idle": "2021-05-18T00:57:27.069009Z",
     "shell.execute_reply": "2021-05-18T00:57:27.068325Z"
    }
   },
   "outputs": [
    {
     "data": {
      "text/plain": [
       "array([[0., 0., 0.],\n",
       "       [0., 0., 0.],\n",
       "       [0., 0., 0.]], dtype=float32)"
      ]
     },
     "execution_count": 1,
     "metadata": {},
     "output_type": "execute_result"
    }
   ],
   "source": [
    "# 同じ形状・データ型の配列\n",
    "x = np.zeros((3, 3), dtype=np.float32)\n",
    "np.zeros_like(x)"
   ]
  },
  {
   "cell_type": "code",
   "execution_count": 22,
   "metadata": {
    "execution": {
     "iopub.execute_input": "2021-05-18T00:57:27.074002Z",
     "iopub.status.busy": "2021-05-18T00:57:27.073208Z",
     "iopub.status.idle": "2021-05-18T00:57:27.076721Z",
     "shell.execute_reply": "2021-05-18T00:57:27.077347Z"
    }
   },
   "outputs": [
    {
     "data": {
      "text/plain": [
       "array([[1., 1., 1.],\n",
       "       [1., 1., 1.],\n",
       "       [1., 1., 1.]])"
      ]
     },
     "execution_count": 1,
     "metadata": {},
     "output_type": "execute_result"
    }
   ],
   "source": [
    "# 1で初期化すること以外はzerosと同じ\n",
    "np.ones((3, 3))"
   ]
  },
  {
   "cell_type": "code",
   "execution_count": 23,
   "metadata": {
    "execution": {
     "iopub.execute_input": "2021-05-18T00:57:27.083002Z",
     "iopub.status.busy": "2021-05-18T00:57:27.082206Z",
     "iopub.status.idle": "2021-05-18T00:57:27.085414Z",
     "shell.execute_reply": "2021-05-18T00:57:27.085901Z"
    }
   },
   "outputs": [
    {
     "data": {
      "text/plain": [
       "array([[1., 1., 1.],\n",
       "       [1., 1., 1.],\n",
       "       [1., 1., 1.]], dtype=float32)"
      ]
     },
     "execution_count": 1,
     "metadata": {},
     "output_type": "execute_result"
    }
   ],
   "source": [
    "# 1で初期化すること以外はzeros_likeと同じ\n",
    "x = np.zeros((3, 3), dtype=np.float32)\n",
    "np.ones_like(x)"
   ]
  },
  {
   "cell_type": "code",
   "execution_count": 24,
   "metadata": {
    "execution": {
     "iopub.execute_input": "2021-05-18T00:57:27.090763Z",
     "iopub.status.busy": "2021-05-18T00:57:27.090230Z",
     "iopub.status.idle": "2021-05-18T00:57:27.093988Z",
     "shell.execute_reply": "2021-05-18T00:57:27.093499Z"
    }
   },
   "outputs": [
    {
     "data": {
      "text/plain": [
       "array([0. , 0.1, 0.2, 0.3, 0.4, 0.5, 0.6, 0.7, 0.8, 0.9, 1. ])"
      ]
     },
     "execution_count": 1,
     "metadata": {},
     "output_type": "execute_result"
    }
   ],
   "source": [
    "# 等間隔の配列（端点含む！）\n",
    "np.linspace(0.0, 1.0, 11)"
   ]
  },
  {
   "cell_type": "code",
   "execution_count": 25,
   "metadata": {
    "execution": {
     "iopub.execute_input": "2021-05-18T00:57:27.098161Z",
     "iopub.status.busy": "2021-05-18T00:57:27.097609Z",
     "iopub.status.idle": "2021-05-18T00:57:27.101157Z",
     "shell.execute_reply": "2021-05-18T00:57:27.100739Z"
    }
   },
   "outputs": [
    {
     "data": {
      "text/plain": [
       "array([ 0.1       ,  0.15848932,  0.25118864,  0.39810717,  0.63095734,\n",
       "        1.        ,  1.58489319,  2.51188643,  3.98107171,  6.30957344,\n",
       "       10.        ])"
      ]
     },
     "execution_count": 1,
     "metadata": {},
     "output_type": "execute_result"
    }
   ],
   "source": [
    "# logで等間隔の配列\n",
    "np.logspace(-1, +1, 11)"
   ]
  },
  {
   "cell_type": "code",
   "execution_count": 26,
   "metadata": {
    "execution": {
     "iopub.execute_input": "2021-05-18T00:57:27.105964Z",
     "iopub.status.busy": "2021-05-18T00:57:27.105432Z",
     "iopub.status.idle": "2021-05-18T00:57:27.109501Z",
     "shell.execute_reply": "2021-05-18T00:57:27.108831Z"
    }
   },
   "outputs": [
    {
     "data": {
      "text/plain": [
       "array([ 0.1       ,  0.15848932,  0.25118864,  0.39810717,  0.63095734,\n",
       "        1.        ,  1.58489319,  2.51188643,  3.98107171,  6.30957344,\n",
       "       10.        ])"
      ]
     },
     "execution_count": 1,
     "metadata": {},
     "output_type": "execute_result"
    }
   ],
   "source": [
    "# logspaceと引数の意味が違う以外は同じ\n",
    "np.geomspace(0.1, 10.0, 11)"
   ]
  },
  {
   "cell_type": "code",
   "execution_count": 27,
   "metadata": {
    "execution": {
     "iopub.execute_input": "2021-05-18T00:57:27.115008Z",
     "iopub.status.busy": "2021-05-18T00:57:27.114354Z",
     "iopub.status.idle": "2021-05-18T00:57:27.118351Z",
     "shell.execute_reply": "2021-05-18T00:57:27.117693Z"
    }
   },
   "outputs": [
    {
     "data": {
      "text/plain": [
       "array([ 0.1       ,  0.15848932,  0.25118864,  0.39810717,  0.63095734,\n",
       "        1.        ,  1.58489319,  2.51188643,  3.98107171,  6.30957344,\n",
       "       10.        ])"
      ]
     },
     "execution_count": 1,
     "metadata": {},
     "output_type": "execute_result"
    }
   ],
   "source": [
    "# geomspace / logspaceと同じ\n",
    "10**np.linspace(np.log10(0.1), np.log10(10.0), 11)"
   ]
  },
  {
   "cell_type": "code",
   "execution_count": 28,
   "metadata": {
    "execution": {
     "iopub.execute_input": "2021-05-18T00:57:27.123393Z",
     "iopub.status.busy": "2021-05-18T00:57:27.122708Z",
     "iopub.status.idle": "2021-05-18T00:57:27.127132Z",
     "shell.execute_reply": "2021-05-18T00:57:27.127711Z"
    }
   },
   "outputs": [
    {
     "data": {
      "text/plain": [
       "array([0.16543209, 0.22687961, 0.33439708, 0.71057638, 0.00762098])"
      ]
     },
     "execution_count": 1,
     "metadata": {},
     "output_type": "execute_result"
    }
   ],
   "source": [
    "# 乱数配列\n",
    "np.random.random(5)"
   ]
  },
  {
   "cell_type": "code",
   "execution_count": 29,
   "metadata": {
    "execution": {
     "iopub.execute_input": "2021-05-18T00:57:27.132095Z",
     "iopub.status.busy": "2021-05-18T00:57:27.131390Z",
     "iopub.status.idle": "2021-05-18T00:57:27.135303Z",
     "shell.execute_reply": "2021-05-18T00:57:27.134636Z"
    }
   },
   "outputs": [
    {
     "data": {
      "text/plain": [
       "array([0, 3, 0, 0, 0, 0, 4, 1, 1, 0])"
      ]
     },
     "execution_count": 1,
     "metadata": {},
     "output_type": "execute_result"
    }
   ],
   "source": [
    "# 整数の乱数配列\n",
    "np.random.randint(0, 5, size=10)"
   ]
  },
  {
   "cell_type": "code",
   "execution_count": 30,
   "metadata": {
    "execution": {
     "iopub.execute_input": "2021-05-18T00:57:27.140313Z",
     "iopub.status.busy": "2021-05-18T00:57:27.139650Z",
     "iopub.status.idle": "2021-05-18T00:57:27.143617Z",
     "shell.execute_reply": "2021-05-18T00:57:27.143031Z"
    }
   },
   "outputs": [
    {
     "data": {
      "text/plain": [
       "array([[0.11288817, 0.07386127],\n",
       "       [0.28746364, 0.28664986],\n",
       "       [0.16448156, 0.20806395]])"
      ]
     },
     "execution_count": 1,
     "metadata": {},
     "output_type": "execute_result"
    }
   ],
   "source": [
    "# 2次元の乱数配列\n",
    "np.random.random((3, 2))"
   ]
  },
  {
   "cell_type": "markdown",
   "metadata": {},
   "source": [
    "## 入出力"
   ]
  },
  {
   "cell_type": "markdown",
   "metadata": {},
   "source": [
    "### テキスト入出力"
   ]
  },
  {
   "cell_type": "code",
   "execution_count": 31,
   "metadata": {
    "execution": {
     "iopub.execute_input": "2021-05-18T00:57:27.147820Z",
     "iopub.status.busy": "2021-05-18T00:57:27.147295Z",
     "iopub.status.idle": "2021-05-18T00:57:27.274601Z",
     "shell.execute_reply": "2021-05-18T00:57:27.275445Z"
    }
   },
   "outputs": [
    {
     "name": "stdout",
     "output_type": "stream",
     "text": [
      " 0.81  0.59  0.50\r\n",
      " 0.31  0.95  1.00\r\n",
      "-0.31  0.95  1.50\r\n",
      "-0.81  0.59  2.00\r\n",
      "-1.00  0.00  2.50\r\n",
      "-0.81 -0.59  3.00\r\n",
      "-0.31 -0.95  3.50\r\n",
      " 0.31 -0.95  4.00\r\n",
      " 0.81 -0.59  4.50\r\n",
      " 1.00 -0.00  5.00\r\n",
      " 0.81  0.59  5.50\r\n",
      " 0.31  0.95  6.00\r\n",
      "-0.31  0.95  6.50\r\n",
      "-0.81  0.59  7.00\r\n",
      "-1.00  0.00  7.50\r\n",
      "-0.81 -0.59  8.00\r\n",
      "-0.31 -0.95  8.50\r\n",
      " 0.31 -0.95  9.00\r\n",
      " 0.81 -0.59  9.50\r\n",
      " 1.00 -0.00 10.00\r\n",
      " 0.81  0.59 10.50\r\n",
      " 0.31  0.95 11.00\r\n",
      "-0.31  0.95 11.50\r\n",
      "-0.81  0.59 12.00\r\n",
      "-1.00  0.00 12.50\r\n",
      "-0.81 -0.59 13.00\r\n",
      "-0.31 -0.95 13.50\r\n",
      " 0.31 -0.95 14.00\r\n",
      " 0.81 -0.59 14.50\r\n",
      " 1.00 -0.00 15.00\r\n",
      " 0.81  0.59 15.50\r\n",
      " 0.31  0.95 16.00\r\n"
     ]
    }
   ],
   "source": [
    "# helix1.datの中身を確認\n",
    "!cat helix1.dat"
   ]
  },
  {
   "cell_type": "code",
   "execution_count": 32,
   "metadata": {
    "execution": {
     "iopub.execute_input": "2021-05-18T00:57:27.284479Z",
     "iopub.status.busy": "2021-05-18T00:57:27.282601Z",
     "iopub.status.idle": "2021-05-18T00:57:27.287705Z",
     "shell.execute_reply": "2021-05-18T00:57:27.288340Z"
    }
   },
   "outputs": [
    {
     "data": {
      "text/plain": [
       "(32, 3)"
      ]
     },
     "execution_count": 1,
     "metadata": {},
     "output_type": "execute_result"
    }
   ],
   "source": [
    "# 読み込み\n",
    "x = np.loadtxt('helix1.dat')\n",
    "x.shape"
   ]
  },
  {
   "cell_type": "code",
   "execution_count": 33,
   "metadata": {
    "execution": {
     "iopub.execute_input": "2021-05-18T00:57:27.293158Z",
     "iopub.status.busy": "2021-05-18T00:57:27.292262Z",
     "iopub.status.idle": "2021-05-18T00:57:27.296241Z",
     "shell.execute_reply": "2021-05-18T00:57:27.297051Z"
    }
   },
   "outputs": [],
   "source": [
    "# 読み込んだデータを出力\n",
    "np.savetxt('output.dat', x, fmt='%5.2f')"
   ]
  },
  {
   "cell_type": "code",
   "execution_count": 34,
   "metadata": {
    "execution": {
     "iopub.execute_input": "2021-05-18T00:57:27.307724Z",
     "iopub.status.busy": "2021-05-18T00:57:27.306974Z",
     "iopub.status.idle": "2021-05-18T00:57:27.428917Z",
     "shell.execute_reply": "2021-05-18T00:57:27.427908Z"
    }
   },
   "outputs": [
    {
     "name": "stdout",
     "output_type": "stream",
     "text": [
      " 0.81  0.59  0.50\r\n",
      " 0.31  0.95  1.00\r\n",
      "-0.31  0.95  1.50\r\n",
      "-0.81  0.59  2.00\r\n",
      "-1.00  0.00  2.50\r\n",
      "-0.81 -0.59  3.00\r\n",
      "-0.31 -0.95  3.50\r\n",
      " 0.31 -0.95  4.00\r\n",
      " 0.81 -0.59  4.50\r\n",
      " 1.00 -0.00  5.00\r\n",
      " 0.81  0.59  5.50\r\n",
      " 0.31  0.95  6.00\r\n",
      "-0.31  0.95  6.50\r\n",
      "-0.81  0.59  7.00\r\n",
      "-1.00  0.00  7.50\r\n",
      "-0.81 -0.59  8.00\r\n",
      "-0.31 -0.95  8.50\r\n",
      " 0.31 -0.95  9.00\r\n",
      " 0.81 -0.59  9.50\r\n",
      " 1.00 -0.00 10.00\r\n",
      " 0.81  0.59 10.50\r\n",
      " 0.31  0.95 11.00\r\n",
      "-0.31  0.95 11.50\r\n",
      "-0.81  0.59 12.00\r\n",
      "-1.00  0.00 12.50\r\n",
      "-0.81 -0.59 13.00\r\n",
      "-0.31 -0.95 13.50\r\n",
      " 0.31 -0.95 14.00\r\n",
      " 0.81 -0.59 14.50\r\n",
      " 1.00 -0.00 15.00\r\n",
      " 0.81  0.59 15.50\r\n",
      " 0.31  0.95 16.00\r\n"
     ]
    }
   ],
   "source": [
    "# output.datの中身を確認\n",
    "!cat output.dat"
   ]
  },
  {
   "cell_type": "markdown",
   "metadata": {},
   "source": [
    "### バイナリ入出力"
   ]
  },
  {
   "cell_type": "code",
   "execution_count": 35,
   "metadata": {
    "execution": {
     "iopub.execute_input": "2021-05-18T00:57:27.437742Z",
     "iopub.status.busy": "2021-05-18T00:57:27.436644Z",
     "iopub.status.idle": "2021-05-18T00:57:27.440690Z",
     "shell.execute_reply": "2021-05-18T00:57:27.439892Z"
    }
   },
   "outputs": [],
   "source": [
    "# 配列を準備\n",
    "x = np.linspace(0.0, np.pi, 100)\n",
    "y = np.cos(x)"
   ]
  },
  {
   "cell_type": "code",
   "execution_count": 36,
   "metadata": {
    "execution": {
     "iopub.execute_input": "2021-05-18T00:57:27.447394Z",
     "iopub.status.busy": "2021-05-18T00:57:27.446306Z",
     "iopub.status.idle": "2021-05-18T00:57:27.450260Z",
     "shell.execute_reply": "2021-05-18T00:57:27.451236Z"
    }
   },
   "outputs": [],
   "source": [
    "# xをNPY形式で保存\n",
    "np.save(\"binary1.npy\", x)"
   ]
  },
  {
   "cell_type": "code",
   "execution_count": 37,
   "metadata": {
    "execution": {
     "iopub.execute_input": "2021-05-18T00:57:27.456721Z",
     "iopub.status.busy": "2021-05-18T00:57:27.455922Z",
     "iopub.status.idle": "2021-05-18T00:57:27.460635Z",
     "shell.execute_reply": "2021-05-18T00:57:27.459879Z"
    }
   },
   "outputs": [],
   "source": [
    "# x, yをNPZ形式で保存（各配列に名前を付けておく）\n",
    "np.savez(\"binary2.npz\", x_name=x, y_name=y)"
   ]
  },
  {
   "cell_type": "code",
   "execution_count": 38,
   "metadata": {
    "execution": {
     "iopub.execute_input": "2021-05-18T00:57:27.466362Z",
     "iopub.status.busy": "2021-05-18T00:57:27.465611Z",
     "iopub.status.idle": "2021-05-18T00:57:27.470250Z",
     "shell.execute_reply": "2021-05-18T00:57:27.469419Z"
    }
   },
   "outputs": [
    {
     "name": "stdout",
     "output_type": "stream",
     "text": [
      "True\n"
     ]
    }
   ],
   "source": [
    "# NPY形式のファイルを読み込み\n",
    "xx = np.load(\"binary1.npy\")\n",
    "\n",
    "# 値が同じことを確認\n",
    "print(np.alltrue(x == xx))"
   ]
  },
  {
   "cell_type": "code",
   "execution_count": 39,
   "metadata": {
    "execution": {
     "iopub.execute_input": "2021-05-18T00:57:27.475213Z",
     "iopub.status.busy": "2021-05-18T00:57:27.474409Z",
     "iopub.status.idle": "2021-05-18T00:57:27.479458Z",
     "shell.execute_reply": "2021-05-18T00:57:27.478648Z"
    }
   },
   "outputs": [
    {
     "name": "stdout",
     "output_type": "stream",
     "text": [
      "['x_name', 'y_name']\n"
     ]
    }
   ],
   "source": [
    "# NPZ形式のファイルを読み込み\n",
    "data = np.load(\"binary2.npz\")\n",
    "\n",
    "# dataはdict-likeなオブジェクト\n",
    "print(list(data.keys()))"
   ]
  },
  {
   "cell_type": "code",
   "execution_count": 40,
   "metadata": {
    "execution": {
     "iopub.execute_input": "2021-05-18T00:57:27.486149Z",
     "iopub.status.busy": "2021-05-18T00:57:27.484163Z",
     "iopub.status.idle": "2021-05-18T00:57:27.490808Z",
     "shell.execute_reply": "2021-05-18T00:57:27.490055Z"
    }
   },
   "outputs": [
    {
     "name": "stdout",
     "output_type": "stream",
     "text": [
      "True\n",
      "True\n"
     ]
    }
   ],
   "source": [
    "xx = data['x_name']\n",
    "yy = data['y_name']\n",
    "\n",
    "# ファイルから読んだ配列と元の配列の値が同じことを確認する\n",
    "print(np.alltrue(x == xx))\n",
    "print(np.alltrue(y == yy))"
   ]
  },
  {
   "cell_type": "markdown",
   "metadata": {},
   "source": [
    "### 生のバイナリファイル"
   ]
  },
  {
   "cell_type": "code",
   "execution_count": 41,
   "metadata": {
    "execution": {
     "iopub.execute_input": "2021-05-18T00:57:27.497401Z",
     "iopub.status.busy": "2021-05-18T00:57:27.496556Z",
     "iopub.status.idle": "2021-05-18T00:57:27.501137Z",
     "shell.execute_reply": "2021-05-18T00:57:27.500297Z"
    }
   },
   "outputs": [
    {
     "name": "stdout",
     "output_type": "stream",
     "text": [
      "[1.  1.5 2.  2.5 3.  3.5 4.  4.5 5.  5.5]\n"
     ]
    }
   ],
   "source": [
    "# ファイルを開く\n",
    "fp = open('cbinary.dat', 'r')\n",
    "\n",
    "# データ型(ここではnp.float64)およびデータ数(ここでは10)はあらかじめ知っておく必要あり\n",
    "z = np.fromfile(fp, np.float64, 10)\n",
    "\n",
    "# ファイルを閉じる\n",
    "fp.close()\n",
    "\n",
    "# 値を出力\n",
    "print(z)"
   ]
  },
  {
   "cell_type": "markdown",
   "metadata": {},
   "source": [
    "### unformatted形式(Fortran)"
   ]
  },
  {
   "cell_type": "code",
   "execution_count": 42,
   "metadata": {
    "execution": {
     "iopub.execute_input": "2021-05-18T00:57:27.507242Z",
     "iopub.status.busy": "2021-05-18T00:57:27.506452Z",
     "iopub.status.idle": "2021-05-18T00:57:27.562072Z",
     "shell.execute_reply": "2021-05-18T00:57:27.561293Z"
    }
   },
   "outputs": [],
   "source": [
    "# モジュール読み込み\n",
    "from scipy.io import FortranFile\n",
    "\n",
    "# ファイルを開く\n",
    "fp = FortranFile('helix2.dat')\n",
    "\n",
    "# データ読み込み\n",
    "x = fp.read_record(np.float64)\n",
    "y = fp.read_record(np.float64)\n",
    "z = fp.read_record(np.float64)\n",
    "\n",
    "# ファイルを閉じる\n",
    "fp.close()"
   ]
  },
  {
   "cell_type": "code",
   "execution_count": 43,
   "metadata": {
    "execution": {
     "iopub.execute_input": "2021-05-18T00:57:27.567693Z",
     "iopub.status.busy": "2021-05-18T00:57:27.566691Z",
     "iopub.status.idle": "2021-05-18T00:57:27.576840Z",
     "shell.execute_reply": "2021-05-18T00:57:27.575737Z"
    }
   },
   "outputs": [
    {
     "name": "stdout",
     "output_type": "stream",
     "text": [
      " 0.81  0.59  0.50\n",
      " 0.31  0.95  1.00\n",
      "-0.31  0.95  1.50\n",
      "-0.81  0.59  2.00\n",
      "-1.00  0.00  2.50\n",
      "-0.81 -0.59  3.00\n",
      "-0.31 -0.95  3.50\n",
      " 0.31 -0.95  4.00\n",
      " 0.81 -0.59  4.50\n",
      " 1.00 -0.00  5.00\n",
      " 0.81  0.59  5.50\n",
      " 0.31  0.95  6.00\n",
      "-0.31  0.95  6.50\n",
      "-0.81  0.59  7.00\n",
      "-1.00  0.00  7.50\n",
      "-0.81 -0.59  8.00\n",
      "-0.31 -0.95  8.50\n",
      " 0.31 -0.95  9.00\n",
      " 0.81 -0.59  9.50\n",
      " 1.00 -0.00 10.00\n",
      " 0.81  0.59 10.50\n",
      " 0.31  0.95 11.00\n",
      "-0.31  0.95 11.50\n",
      "-0.81  0.59 12.00\n",
      "-1.00  0.00 12.50\n",
      "-0.81 -0.59 13.00\n",
      "-0.31 -0.95 13.50\n",
      " 0.31 -0.95 14.00\n",
      " 0.81 -0.59 14.50\n",
      " 1.00 -0.00 15.00\n",
      " 0.81  0.59 15.50\n",
      " 0.31  0.95 16.00\n"
     ]
    }
   ],
   "source": [
    "# 結果を確認\n",
    "for i in range(x.size):\n",
    "    print('{:5.2f} {:5.2f} {:5.2f}'.format(x[i], y[i], z[i]))"
   ]
  },
  {
   "cell_type": "markdown",
   "metadata": {},
   "source": [
    "## 各種演算"
   ]
  },
  {
   "cell_type": "markdown",
   "metadata": {},
   "source": [
    "### 算術演算"
   ]
  },
  {
   "cell_type": "code",
   "execution_count": 44,
   "metadata": {
    "execution": {
     "iopub.execute_input": "2021-05-18T00:57:27.583192Z",
     "iopub.status.busy": "2021-05-18T00:57:27.582101Z",
     "iopub.status.idle": "2021-05-18T00:57:27.586025Z",
     "shell.execute_reply": "2021-05-18T00:57:27.585063Z"
    }
   },
   "outputs": [],
   "source": [
    "# 以下全てにおいて要素ごとに各種算術演算がなされる\n",
    "a = np.arange(4)\n",
    "b = np.arange(4) + 4"
   ]
  },
  {
   "cell_type": "code",
   "execution_count": 45,
   "metadata": {
    "execution": {
     "iopub.execute_input": "2021-05-18T00:57:27.592374Z",
     "iopub.status.busy": "2021-05-18T00:57:27.591612Z",
     "iopub.status.idle": "2021-05-18T00:57:27.596337Z",
     "shell.execute_reply": "2021-05-18T00:57:27.595561Z"
    }
   },
   "outputs": [
    {
     "data": {
      "text/plain": [
       "array([ 4,  6,  8, 10])"
      ]
     },
     "execution_count": 1,
     "metadata": {},
     "output_type": "execute_result"
    }
   ],
   "source": [
    "a + b"
   ]
  },
  {
   "cell_type": "code",
   "execution_count": 46,
   "metadata": {
    "execution": {
     "iopub.execute_input": "2021-05-18T00:57:27.601513Z",
     "iopub.status.busy": "2021-05-18T00:57:27.600783Z",
     "iopub.status.idle": "2021-05-18T00:57:27.604864Z",
     "shell.execute_reply": "2021-05-18T00:57:27.605487Z"
    }
   },
   "outputs": [
    {
     "data": {
      "text/plain": [
       "array([-4, -4, -4, -4])"
      ]
     },
     "execution_count": 1,
     "metadata": {},
     "output_type": "execute_result"
    }
   ],
   "source": [
    "a - b"
   ]
  },
  {
   "cell_type": "code",
   "execution_count": 47,
   "metadata": {
    "execution": {
     "iopub.execute_input": "2021-05-18T00:57:27.610948Z",
     "iopub.status.busy": "2021-05-18T00:57:27.610141Z",
     "iopub.status.idle": "2021-05-18T00:57:27.614885Z",
     "shell.execute_reply": "2021-05-18T00:57:27.614077Z"
    }
   },
   "outputs": [
    {
     "data": {
      "text/plain": [
       "array([ 0,  5, 12, 21])"
      ]
     },
     "execution_count": 1,
     "metadata": {},
     "output_type": "execute_result"
    }
   ],
   "source": [
    "a * b"
   ]
  },
  {
   "cell_type": "code",
   "execution_count": 48,
   "metadata": {
    "execution": {
     "iopub.execute_input": "2021-05-18T00:57:27.620442Z",
     "iopub.status.busy": "2021-05-18T00:57:27.619709Z",
     "iopub.status.idle": "2021-05-18T00:57:27.624612Z",
     "shell.execute_reply": "2021-05-18T00:57:27.623857Z"
    }
   },
   "outputs": [
    {
     "data": {
      "text/plain": [
       "array([0.        , 0.2       , 0.33333333, 0.42857143])"
      ]
     },
     "execution_count": 1,
     "metadata": {},
     "output_type": "execute_result"
    }
   ],
   "source": [
    "a / b"
   ]
  },
  {
   "cell_type": "code",
   "execution_count": 49,
   "metadata": {
    "execution": {
     "iopub.execute_input": "2021-05-18T00:57:27.630054Z",
     "iopub.status.busy": "2021-05-18T00:57:27.629318Z",
     "iopub.status.idle": "2021-05-18T00:57:27.634208Z",
     "shell.execute_reply": "2021-05-18T00:57:27.633543Z"
    }
   },
   "outputs": [
    {
     "data": {
      "text/plain": [
       "array([0, 1, 4, 9])"
      ]
     },
     "execution_count": 1,
     "metadata": {},
     "output_type": "execute_result"
    }
   ],
   "source": [
    "a**2"
   ]
  },
  {
   "cell_type": "markdown",
   "metadata": {},
   "source": [
    "### ユニバーサル関数"
   ]
  },
  {
   "cell_type": "code",
   "execution_count": 50,
   "metadata": {
    "execution": {
     "iopub.execute_input": "2021-05-18T00:57:27.639660Z",
     "iopub.status.busy": "2021-05-18T00:57:27.638829Z",
     "iopub.status.idle": "2021-05-18T00:57:27.642957Z",
     "shell.execute_reply": "2021-05-18T00:57:27.643606Z"
    }
   },
   "outputs": [
    {
     "data": {
      "text/plain": [
       "1.5707963267948966"
      ]
     },
     "execution_count": 1,
     "metadata": {},
     "output_type": "execute_result"
    }
   ],
   "source": [
    "# degree to radian\n",
    "np.deg2rad(90.0)"
   ]
  },
  {
   "cell_type": "code",
   "execution_count": 51,
   "metadata": {
    "execution": {
     "iopub.execute_input": "2021-05-18T00:57:27.649348Z",
     "iopub.status.busy": "2021-05-18T00:57:27.648576Z",
     "iopub.status.idle": "2021-05-18T00:57:27.652802Z",
     "shell.execute_reply": "2021-05-18T00:57:27.653446Z"
    }
   },
   "outputs": [
    {
     "data": {
      "text/plain": [
       "90.0"
      ]
     },
     "execution_count": 1,
     "metadata": {},
     "output_type": "execute_result"
    }
   ],
   "source": [
    "# radian to degree\n",
    "np.rad2deg(np.pi/2)"
   ]
  },
  {
   "cell_type": "code",
   "execution_count": 52,
   "metadata": {
    "execution": {
     "iopub.execute_input": "2021-05-18T00:57:27.658982Z",
     "iopub.status.busy": "2021-05-18T00:57:27.658213Z",
     "iopub.status.idle": "2021-05-18T00:57:27.662051Z",
     "shell.execute_reply": "2021-05-18T00:57:27.662655Z"
    }
   },
   "outputs": [
    {
     "data": {
      "text/plain": [
       "12"
      ]
     },
     "execution_count": 1,
     "metadata": {},
     "output_type": "execute_result"
    }
   ],
   "source": [
    "# lowest common multiple\n",
    "np.lcm(4, 6)"
   ]
  },
  {
   "cell_type": "code",
   "execution_count": 53,
   "metadata": {
    "execution": {
     "iopub.execute_input": "2021-05-18T00:57:27.667762Z",
     "iopub.status.busy": "2021-05-18T00:57:27.666954Z",
     "iopub.status.idle": "2021-05-18T00:57:27.671747Z",
     "shell.execute_reply": "2021-05-18T00:57:27.670986Z"
    }
   },
   "outputs": [
    {
     "data": {
      "text/plain": [
       "4"
      ]
     },
     "execution_count": 1,
     "metadata": {},
     "output_type": "execute_result"
    }
   ],
   "source": [
    "# greatest common divisor\n",
    "np.gcd(12, 20)"
   ]
  },
  {
   "cell_type": "code",
   "execution_count": 54,
   "metadata": {
    "execution": {
     "iopub.execute_input": "2021-05-18T00:57:27.677088Z",
     "iopub.status.busy": "2021-05-18T00:57:27.676248Z",
     "iopub.status.idle": "2021-05-18T00:57:27.680688Z",
     "shell.execute_reply": "2021-05-18T00:57:27.680033Z"
    }
   },
   "outputs": [
    {
     "data": {
      "text/plain": [
       "0.7853981633974483"
      ]
     },
     "execution_count": 1,
     "metadata": {},
     "output_type": "execute_result"
    }
   ],
   "source": [
    "# 複素数の偏角\n",
    "np.angle(1.0 + 1.0j)"
   ]
  },
  {
   "cell_type": "markdown",
   "metadata": {},
   "source": [
    "### メソッド"
   ]
  },
  {
   "cell_type": "code",
   "execution_count": 55,
   "metadata": {
    "execution": {
     "iopub.execute_input": "2021-05-18T00:57:27.686391Z",
     "iopub.status.busy": "2021-05-18T00:57:27.685609Z",
     "iopub.status.idle": "2021-05-18T00:57:27.690361Z",
     "shell.execute_reply": "2021-05-18T00:57:27.689707Z"
    }
   },
   "outputs": [
    {
     "data": {
      "text/plain": [
       "45"
      ]
     },
     "execution_count": 1,
     "metadata": {},
     "output_type": "execute_result"
    }
   ],
   "source": [
    "x = np.arange(10)\n",
    "np.sum(x)"
   ]
  },
  {
   "cell_type": "code",
   "execution_count": 56,
   "metadata": {
    "execution": {
     "iopub.execute_input": "2021-05-18T00:57:27.695598Z",
     "iopub.status.busy": "2021-05-18T00:57:27.694847Z",
     "iopub.status.idle": "2021-05-18T00:57:27.699586Z",
     "shell.execute_reply": "2021-05-18T00:57:27.698917Z"
    }
   },
   "outputs": [
    {
     "data": {
      "text/plain": [
       "45"
      ]
     },
     "execution_count": 1,
     "metadata": {},
     "output_type": "execute_result"
    }
   ],
   "source": [
    "x.sum()"
   ]
  },
  {
   "cell_type": "code",
   "execution_count": 57,
   "metadata": {
    "execution": {
     "iopub.execute_input": "2021-05-18T00:57:27.704692Z",
     "iopub.status.busy": "2021-05-18T00:57:27.703952Z",
     "iopub.status.idle": "2021-05-18T00:57:27.708437Z",
     "shell.execute_reply": "2021-05-18T00:57:27.707735Z"
    }
   },
   "outputs": [
    {
     "data": {
      "text/plain": [
       "9"
      ]
     },
     "execution_count": 1,
     "metadata": {},
     "output_type": "execute_result"
    }
   ],
   "source": [
    "x.max()"
   ]
  },
  {
   "cell_type": "code",
   "execution_count": 58,
   "metadata": {
    "execution": {
     "iopub.execute_input": "2021-05-18T00:57:27.713934Z",
     "iopub.status.busy": "2021-05-18T00:57:27.713142Z",
     "iopub.status.idle": "2021-05-18T00:57:27.717634Z",
     "shell.execute_reply": "2021-05-18T00:57:27.716932Z"
    }
   },
   "outputs": [
    {
     "data": {
      "text/plain": [
       "0"
      ]
     },
     "execution_count": 1,
     "metadata": {},
     "output_type": "execute_result"
    }
   ],
   "source": [
    "x.min()"
   ]
  },
  {
   "cell_type": "code",
   "execution_count": 59,
   "metadata": {
    "execution": {
     "iopub.execute_input": "2021-05-18T00:57:27.723047Z",
     "iopub.status.busy": "2021-05-18T00:57:27.722309Z",
     "iopub.status.idle": "2021-05-18T00:57:27.726586Z",
     "shell.execute_reply": "2021-05-18T00:57:27.725834Z"
    }
   },
   "outputs": [
    {
     "data": {
      "text/plain": [
       "4.5"
      ]
     },
     "execution_count": 1,
     "metadata": {},
     "output_type": "execute_result"
    }
   ],
   "source": [
    "x.mean()"
   ]
  },
  {
   "cell_type": "markdown",
   "metadata": {},
   "source": [
    "## インデックス操作"
   ]
  },
  {
   "cell_type": "code",
   "execution_count": 60,
   "metadata": {
    "execution": {
     "iopub.execute_input": "2021-05-18T00:57:27.731218Z",
     "iopub.status.busy": "2021-05-18T00:57:27.730479Z",
     "iopub.status.idle": "2021-05-18T00:57:27.734173Z",
     "shell.execute_reply": "2021-05-18T00:57:27.733367Z"
    }
   },
   "outputs": [],
   "source": [
    "x = np.arange(10)"
   ]
  },
  {
   "cell_type": "code",
   "execution_count": 61,
   "metadata": {
    "execution": {
     "iopub.execute_input": "2021-05-18T00:57:27.739495Z",
     "iopub.status.busy": "2021-05-18T00:57:27.738694Z",
     "iopub.status.idle": "2021-05-18T00:57:27.743306Z",
     "shell.execute_reply": "2021-05-18T00:57:27.742493Z"
    }
   },
   "outputs": [
    {
     "data": {
      "text/plain": [
       "2"
      ]
     },
     "execution_count": 1,
     "metadata": {},
     "output_type": "execute_result"
    }
   ],
   "source": [
    "# 3番目の要素\n",
    "x[2]"
   ]
  },
  {
   "cell_type": "code",
   "execution_count": 62,
   "metadata": {
    "execution": {
     "iopub.execute_input": "2021-05-18T00:57:27.748778Z",
     "iopub.status.busy": "2021-05-18T00:57:27.747991Z",
     "iopub.status.idle": "2021-05-18T00:57:27.752629Z",
     "shell.execute_reply": "2021-05-18T00:57:27.751875Z"
    }
   },
   "outputs": [
    {
     "data": {
      "text/plain": [
       "array([2, 3, 4])"
      ]
     },
     "execution_count": 1,
     "metadata": {},
     "output_type": "execute_result"
    }
   ],
   "source": [
    "# 3, 4, 5番目の要素(結果もNumPy配列)\n",
    "x[2:5]"
   ]
  },
  {
   "cell_type": "code",
   "execution_count": 63,
   "metadata": {
    "execution": {
     "iopub.execute_input": "2021-05-18T00:57:27.758098Z",
     "iopub.status.busy": "2021-05-18T00:57:27.757354Z",
     "iopub.status.idle": "2021-05-18T00:57:27.761532Z",
     "shell.execute_reply": "2021-05-18T00:57:27.762157Z"
    }
   },
   "outputs": [
    {
     "data": {
      "text/plain": [
       "array([-1,  1, -1,  3, -1,  5, -1,  7,  8,  9])"
      ]
     },
     "execution_count": 1,
     "metadata": {},
     "output_type": "execute_result"
    }
   ],
   "source": [
    "# 0, 2, 4, 6番目の要素に-1を代入\n",
    "x[:8:2] = -1\n",
    "x"
   ]
  },
  {
   "cell_type": "code",
   "execution_count": 64,
   "metadata": {
    "execution": {
     "iopub.execute_input": "2021-05-18T00:57:27.767910Z",
     "iopub.status.busy": "2021-05-18T00:57:27.767088Z",
     "iopub.status.idle": "2021-05-18T00:57:27.771083Z",
     "shell.execute_reply": "2021-05-18T00:57:27.771728Z"
    }
   },
   "outputs": [
    {
     "data": {
      "text/plain": [
       "array([ 9,  8,  7, -1,  5, -1,  3, -1,  1, -1])"
      ]
     },
     "execution_count": 1,
     "metadata": {},
     "output_type": "execute_result"
    }
   ],
   "source": [
    "# 順番を反転\n",
    "x[::-1]"
   ]
  },
  {
   "cell_type": "code",
   "execution_count": 65,
   "metadata": {
    "execution": {
     "iopub.execute_input": "2021-05-18T00:57:27.777483Z",
     "iopub.status.busy": "2021-05-18T00:57:27.776663Z",
     "iopub.status.idle": "2021-05-18T00:57:27.781120Z",
     "shell.execute_reply": "2021-05-18T00:57:27.780469Z"
    }
   },
   "outputs": [
    {
     "data": {
      "text/plain": [
       "9"
      ]
     },
     "execution_count": 1,
     "metadata": {},
     "output_type": "execute_result"
    }
   ],
   "source": [
    "# 最後の要素\n",
    "x[-1]"
   ]
  },
  {
   "cell_type": "code",
   "execution_count": 66,
   "metadata": {
    "execution": {
     "iopub.execute_input": "2021-05-18T00:57:27.786030Z",
     "iopub.status.busy": "2021-05-18T00:57:27.785281Z",
     "iopub.status.idle": "2021-05-18T00:57:27.789774Z",
     "shell.execute_reply": "2021-05-18T00:57:27.789040Z"
    }
   },
   "outputs": [
    {
     "data": {
      "text/plain": [
       "8"
      ]
     },
     "execution_count": 1,
     "metadata": {},
     "output_type": "execute_result"
    }
   ],
   "source": [
    "# 最後から2番目の要素\n",
    "x[-2]"
   ]
  },
  {
   "cell_type": "code",
   "execution_count": 67,
   "metadata": {
    "execution": {
     "iopub.execute_input": "2021-05-18T00:57:27.795286Z",
     "iopub.status.busy": "2021-05-18T00:57:27.794543Z",
     "iopub.status.idle": "2021-05-18T00:57:27.799408Z",
     "shell.execute_reply": "2021-05-18T00:57:27.798722Z"
    }
   },
   "outputs": [
    {
     "data": {
      "text/plain": [
       "array([1, 3, 5, 7, 9])"
      ]
     },
     "execution_count": 1,
     "metadata": {},
     "output_type": "execute_result"
    }
   ],
   "source": [
    "# インデックス配列\n",
    "i = np.arange(1, 10, 2)\n",
    "i"
   ]
  },
  {
   "cell_type": "code",
   "execution_count": 68,
   "metadata": {
    "execution": {
     "iopub.execute_input": "2021-05-18T00:57:27.804968Z",
     "iopub.status.busy": "2021-05-18T00:57:27.804180Z",
     "iopub.status.idle": "2021-05-18T00:57:27.807931Z",
     "shell.execute_reply": "2021-05-18T00:57:27.808496Z"
    }
   },
   "outputs": [
    {
     "data": {
      "text/plain": [
       "array([-1,  2, -1,  6, -1, 10, -1, 14,  8, 18])"
      ]
     },
     "execution_count": 1,
     "metadata": {},
     "output_type": "execute_result"
    }
   ],
   "source": [
    "# 指定された要素のみ2倍にする\n",
    "x[i] *= 2\n",
    "x"
   ]
  },
  {
   "cell_type": "code",
   "execution_count": 69,
   "metadata": {
    "execution": {
     "iopub.execute_input": "2021-05-18T00:57:27.813449Z",
     "iopub.status.busy": "2021-05-18T00:57:27.812718Z",
     "iopub.status.idle": "2021-05-18T00:57:27.817027Z",
     "shell.execute_reply": "2021-05-18T00:57:27.816286Z"
    }
   },
   "outputs": [
    {
     "data": {
      "text/plain": [
       "array([-1, -1, -1, -1,  8])"
      ]
     },
     "execution_count": 1,
     "metadata": {},
     "output_type": "execute_result"
    }
   ],
   "source": [
    "# 1つずらしたインデックス\n",
    "x[i-1]"
   ]
  },
  {
   "cell_type": "code",
   "execution_count": 70,
   "metadata": {
    "execution": {
     "iopub.execute_input": "2021-05-18T00:57:27.822721Z",
     "iopub.status.busy": "2021-05-18T00:57:27.821988Z",
     "iopub.status.idle": "2021-05-18T00:57:27.826304Z",
     "shell.execute_reply": "2021-05-18T00:57:27.825664Z"
    }
   },
   "outputs": [
    {
     "data": {
      "text/plain": [
       "array([[ 0,  1,  2,  3,  4],\n",
       "       [ 5,  6,  7,  8,  9],\n",
       "       [10, 11, 12, 13, 14],\n",
       "       [15, 16, 17, 18, 19]])"
      ]
     },
     "execution_count": 1,
     "metadata": {},
     "output_type": "execute_result"
    }
   ],
   "source": [
    "# 1次元配列から2次元配列にreshape\n",
    "y = np.arange(20).reshape((4, 5))\n",
    "y"
   ]
  },
  {
   "cell_type": "code",
   "execution_count": 71,
   "metadata": {
    "execution": {
     "iopub.execute_input": "2021-05-18T00:57:27.831545Z",
     "iopub.status.busy": "2021-05-18T00:57:27.830813Z",
     "iopub.status.idle": "2021-05-18T00:57:27.834908Z",
     "shell.execute_reply": "2021-05-18T00:57:27.835552Z"
    }
   },
   "outputs": [
    {
     "data": {
      "text/plain": [
       "array([0, 1, 2, 3, 4])"
      ]
     },
     "execution_count": 1,
     "metadata": {},
     "output_type": "execute_result"
    }
   ],
   "source": [
    "# ':' は全ての要素\n",
    "y[0,:]"
   ]
  },
  {
   "cell_type": "code",
   "execution_count": 72,
   "metadata": {
    "execution": {
     "iopub.execute_input": "2021-05-18T00:57:27.840700Z",
     "iopub.status.busy": "2021-05-18T00:57:27.839871Z",
     "iopub.status.idle": "2021-05-18T00:57:27.844303Z",
     "shell.execute_reply": "2021-05-18T00:57:27.843541Z"
    }
   },
   "outputs": [
    {
     "data": {
      "text/plain": [
       "array([ 1,  6, 11, 16])"
      ]
     },
     "execution_count": 1,
     "metadata": {},
     "output_type": "execute_result"
    }
   ],
   "source": [
    "# 2次元目のみ指定\n",
    "y[:,1]"
   ]
  },
  {
   "cell_type": "code",
   "execution_count": 73,
   "metadata": {
    "execution": {
     "iopub.execute_input": "2021-05-18T00:57:27.849462Z",
     "iopub.status.busy": "2021-05-18T00:57:27.848730Z",
     "iopub.status.idle": "2021-05-18T00:57:27.852688Z",
     "shell.execute_reply": "2021-05-18T00:57:27.853259Z"
    }
   },
   "outputs": [
    {
     "data": {
      "text/plain": [
       "array([[ 6,  7],\n",
       "       [11, 12]])"
      ]
     },
     "execution_count": 1,
     "metadata": {},
     "output_type": "execute_result"
    }
   ],
   "source": [
    "# 各次元の2番目から4番目の要素のみ指定\n",
    "y[1:3,1:3]"
   ]
  },
  {
   "cell_type": "code",
   "execution_count": 74,
   "metadata": {
    "execution": {
     "iopub.execute_input": "2021-05-18T00:57:27.858809Z",
     "iopub.status.busy": "2021-05-18T00:57:27.858078Z",
     "iopub.status.idle": "2021-05-18T00:57:27.861809Z",
     "shell.execute_reply": "2021-05-18T00:57:27.862377Z"
    }
   },
   "outputs": [
    {
     "data": {
      "text/plain": [
       "array([[[ 0,  1,  2],\n",
       "        [ 3,  4,  5],\n",
       "        [ 6,  7,  8]],\n",
       "\n",
       "       [[ 9, 10, 11],\n",
       "        [12, 13, 14],\n",
       "        [15, 16, 17]]])"
      ]
     },
     "execution_count": 1,
     "metadata": {},
     "output_type": "execute_result"
    }
   ],
   "source": [
    "# 1次元配列から3次元配列にreshape\n",
    "z = np.arange(18).reshape((2, 3, 3))\n",
    "z"
   ]
  },
  {
   "cell_type": "code",
   "execution_count": 75,
   "metadata": {
    "execution": {
     "iopub.execute_input": "2021-05-18T00:57:27.867388Z",
     "iopub.status.busy": "2021-05-18T00:57:27.866654Z",
     "iopub.status.idle": "2021-05-18T00:57:27.871650Z",
     "shell.execute_reply": "2021-05-18T00:57:27.870671Z"
    }
   },
   "outputs": [
    {
     "data": {
      "text/plain": [
       "array([[ 0,  3,  6],\n",
       "       [ 9, 12, 15]])"
      ]
     },
     "execution_count": 1,
     "metadata": {},
     "output_type": "execute_result"
    }
   ],
   "source": [
    "# 3次元目のみ指定\n",
    "z[...,0]"
   ]
  },
  {
   "cell_type": "code",
   "execution_count": 76,
   "metadata": {
    "execution": {
     "iopub.execute_input": "2021-05-18T00:57:27.877161Z",
     "iopub.status.busy": "2021-05-18T00:57:27.876367Z",
     "iopub.status.idle": "2021-05-18T00:57:27.880869Z",
     "shell.execute_reply": "2021-05-18T00:57:27.880232Z"
    }
   },
   "outputs": [
    {
     "data": {
      "text/plain": [
       "array([ 9, 12, 15])"
      ]
     },
     "execution_count": 1,
     "metadata": {},
     "output_type": "execute_result"
    }
   ],
   "source": [
    "# 1次元目と3次元のみ指定\n",
    "z[1,...,0]"
   ]
  },
  {
   "cell_type": "code",
   "execution_count": 77,
   "metadata": {
    "execution": {
     "iopub.execute_input": "2021-05-18T00:57:27.886400Z",
     "iopub.status.busy": "2021-05-18T00:57:27.885653Z",
     "iopub.status.idle": "2021-05-18T00:57:27.889868Z",
     "shell.execute_reply": "2021-05-18T00:57:27.889123Z"
    }
   },
   "outputs": [
    {
     "data": {
      "text/plain": [
       "array([[ 9, 10, 11],\n",
       "       [12, 13, 14],\n",
       "       [15, 16, 17]])"
      ]
     },
     "execution_count": 1,
     "metadata": {},
     "output_type": "execute_result"
    }
   ],
   "source": [
    "# 1次元目のみ指定\n",
    "z[1]"
   ]
  },
  {
   "cell_type": "code",
   "execution_count": 78,
   "metadata": {
    "execution": {
     "iopub.execute_input": "2021-05-18T00:57:27.895059Z",
     "iopub.status.busy": "2021-05-18T00:57:27.894330Z",
     "iopub.status.idle": "2021-05-18T00:57:27.898511Z",
     "shell.execute_reply": "2021-05-18T00:57:27.897771Z"
    }
   },
   "outputs": [
    {
     "data": {
      "text/plain": [
       "array([10, 10, 10, 10, 10, 10, 10, 10, 10, 10])"
      ]
     },
     "execution_count": 1,
     "metadata": {},
     "output_type": "execute_result"
    }
   ],
   "source": [
    "# 配列の全要素に代入\n",
    "x[:] = 10\n",
    "x"
   ]
  },
  {
   "cell_type": "code",
   "execution_count": 79,
   "metadata": {
    "execution": {
     "iopub.execute_input": "2021-05-18T00:57:27.903426Z",
     "iopub.status.busy": "2021-05-18T00:57:27.902599Z",
     "iopub.status.idle": "2021-05-18T00:57:27.906862Z",
     "shell.execute_reply": "2021-05-18T00:57:27.906141Z"
    }
   },
   "outputs": [
    {
     "data": {
      "text/plain": [
       "10"
      ]
     },
     "execution_count": 1,
     "metadata": {},
     "output_type": "execute_result"
    }
   ],
   "source": [
    "# 整数10をxに代入（xの配列を破棄されxはスカラーになる）\n",
    "x = 10\n",
    "x"
   ]
  },
  {
   "cell_type": "code",
   "execution_count": null,
   "metadata": {},
   "outputs": [],
   "source": []
  }
 ],
 "metadata": {
  "kernelspec": {
   "display_name": "Python 3",
   "language": "python",
   "name": "python3"
  },
  "language_info": {
   "codemirror_mode": {
    "name": "ipython",
    "version": 3
   },
   "file_extension": ".py",
   "mimetype": "text/x-python",
   "name": "python",
   "nbconvert_exporter": "python",
   "pygments_lexer": "ipython3",
   "version": "3.7.10"
  }
 },
 "nbformat": 4,
 "nbformat_minor": 4
}
