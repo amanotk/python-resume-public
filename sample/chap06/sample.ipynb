{
 "cells": [
  {
   "attachments": {},
   "cell_type": "markdown",
   "metadata": {},
   "source": [
    "<a href=\"https://colab.research.google.com/github/amanotk/python-resume-sample/blob/main/chap06/sample.ipynb\">\n",
    "<img src=\"https://colab.research.google.com/assets/colab-badge.svg\" style=\"vertical-align: text-top;\">\n",
    "</a>\n",
    "\n",
    "# 6. NumPy配列の基本"
   ]
  },
  {
   "cell_type": "code",
   "execution_count": 1,
   "metadata": {
    "execution": {
     "iopub.execute_input": "2023-04-04T14:45:03.874756Z",
     "iopub.status.busy": "2023-04-04T14:45:03.874431Z",
     "iopub.status.idle": "2023-04-04T14:45:04.706398Z",
     "shell.execute_reply": "2023-04-04T14:45:04.705566Z"
    }
   },
   "outputs": [],
   "source": [
    "# データファイルの準備\n",
    "import urllib.request\n",
    "\n",
    "basedir = 'https://amanotk.github.io/python-resume-public/data/'\n",
    "files = ['helix1.dat', 'helix2.dat', 'cbinary.dat']\n",
    "for f in files:\n",
    "    urllib.request.urlretrieve(basedir+f, f)"
   ]
  },
  {
   "cell_type": "code",
   "execution_count": 2,
   "metadata": {
    "execution": {
     "iopub.execute_input": "2023-04-04T14:45:04.709366Z",
     "iopub.status.busy": "2023-04-04T14:45:04.708920Z",
     "iopub.status.idle": "2023-04-04T14:45:04.712995Z",
     "shell.execute_reply": "2023-04-04T14:45:04.712281Z"
    }
   },
   "outputs": [],
   "source": [
    "import numpy as np\n",
    "from matplotlib import pylab as plt"
   ]
  },
  {
   "cell_type": "markdown",
   "metadata": {},
   "source": [
    "## 基本的な使い方"
   ]
  },
  {
   "cell_type": "code",
   "execution_count": 3,
   "metadata": {
    "execution": {
     "iopub.execute_input": "2023-04-04T14:45:04.716440Z",
     "iopub.status.busy": "2023-04-04T14:45:04.716072Z",
     "iopub.status.idle": "2023-04-04T14:45:04.722507Z",
     "shell.execute_reply": "2023-04-04T14:45:04.721613Z"
    }
   },
   "outputs": [
    {
     "data": {
      "text/plain": [
       "array([0, 1, 2, 3, 4, 5, 6, 7, 8, 9])"
      ]
     },
     "execution_count": 3,
     "metadata": {},
     "output_type": "execute_result"
    }
   ],
   "source": [
    "np.arange(10)"
   ]
  },
  {
   "cell_type": "code",
   "execution_count": 4,
   "metadata": {
    "execution": {
     "iopub.execute_input": "2023-04-04T14:45:04.753765Z",
     "iopub.status.busy": "2023-04-04T14:45:04.753317Z",
     "iopub.status.idle": "2023-04-04T14:45:04.756422Z",
     "shell.execute_reply": "2023-04-04T14:45:04.755936Z"
    }
   },
   "outputs": [],
   "source": [
    "N = 10\n",
    "x = np.arange(N)/N * 2*np.pi\n",
    "y = np.cos(x)"
   ]
  },
  {
   "cell_type": "code",
   "execution_count": 5,
   "metadata": {
    "execution": {
     "iopub.execute_input": "2023-04-04T14:45:04.758661Z",
     "iopub.status.busy": "2023-04-04T14:45:04.758442Z",
     "iopub.status.idle": "2023-04-04T14:45:04.929997Z",
     "shell.execute_reply": "2023-04-04T14:45:04.929363Z"
    }
   },
   "outputs": [
    {
     "data": {
      "text/plain": [
       "[<matplotlib.lines.Line2D at 0x7f9378acfc70>]"
      ]
     },
     "execution_count": 5,
     "metadata": {},
     "output_type": "execute_result"
    },
    {
     "data": {
      "image/png": "[encoded data removed]",
      "text/plain": [
       "<Figure size 640x480 with 1 Axes>"
      ]
     },
     "metadata": {},
     "output_type": "display_data"
    }
   ],
   "source": [
    "plt.plot(x, y)"
   ]
  },
  {
   "cell_type": "markdown",
   "metadata": {},
   "source": [
    "## 配列オブジェクト"
   ]
  },
  {
   "cell_type": "code",
   "execution_count": 6,
   "metadata": {
    "execution": {
     "iopub.execute_input": "2023-04-04T14:45:04.932804Z",
     "iopub.status.busy": "2023-04-04T14:45:04.932532Z",
     "iopub.status.idle": "2023-04-04T14:45:04.935818Z",
     "shell.execute_reply": "2023-04-04T14:45:04.935262Z"
    }
   },
   "outputs": [],
   "source": [
    "x = np.arange(10)"
   ]
  },
  {
   "cell_type": "code",
   "execution_count": 7,
   "metadata": {
    "execution": {
     "iopub.execute_input": "2023-04-04T14:45:04.938643Z",
     "iopub.status.busy": "2023-04-04T14:45:04.938379Z",
     "iopub.status.idle": "2023-04-04T14:45:04.942673Z",
     "shell.execute_reply": "2023-04-04T14:45:04.941890Z"
    }
   },
   "outputs": [
    {
     "data": {
      "text/plain": [
       "dtype('int64')"
      ]
     },
     "execution_count": 7,
     "metadata": {},
     "output_type": "execute_result"
    }
   ],
   "source": [
    "# データ型\n",
    "x.dtype"
   ]
  },
  {
   "cell_type": "code",
   "execution_count": 8,
   "metadata": {
    "execution": {
     "iopub.execute_input": "2023-04-04T14:45:04.945073Z",
     "iopub.status.busy": "2023-04-04T14:45:04.944839Z",
     "iopub.status.idle": "2023-04-04T14:45:04.948665Z",
     "shell.execute_reply": "2023-04-04T14:45:04.948131Z"
    }
   },
   "outputs": [
    {
     "data": {
      "text/plain": [
       "1"
      ]
     },
     "execution_count": 8,
     "metadata": {},
     "output_type": "execute_result"
    }
   ],
   "source": [
    "# 次元数\n",
    "x.ndim"
   ]
  },
  {
   "cell_type": "code",
   "execution_count": 9,
   "metadata": {
    "execution": {
     "iopub.execute_input": "2023-04-04T14:45:04.951041Z",
     "iopub.status.busy": "2023-04-04T14:45:04.950816Z",
     "iopub.status.idle": "2023-04-04T14:45:04.954943Z",
     "shell.execute_reply": "2023-04-04T14:45:04.954105Z"
    }
   },
   "outputs": [
    {
     "data": {
      "text/plain": [
       "10"
      ]
     },
     "execution_count": 9,
     "metadata": {},
     "output_type": "execute_result"
    }
   ],
   "source": [
    "# 全要素数\n",
    "x.size"
   ]
  },
  {
   "cell_type": "code",
   "execution_count": 10,
   "metadata": {
    "execution": {
     "iopub.execute_input": "2023-04-04T14:45:04.957522Z",
     "iopub.status.busy": "2023-04-04T14:45:04.957278Z",
     "iopub.status.idle": "2023-04-04T14:45:04.961315Z",
     "shell.execute_reply": "2023-04-04T14:45:04.960771Z"
    }
   },
   "outputs": [
    {
     "data": {
      "text/plain": [
       "(10,)"
      ]
     },
     "execution_count": 10,
     "metadata": {},
     "output_type": "execute_result"
    }
   ],
   "source": [
    "# 形状\n",
    "x.shape"
   ]
  },
  {
   "cell_type": "code",
   "execution_count": 11,
   "metadata": {
    "execution": {
     "iopub.execute_input": "2023-04-04T14:45:04.963665Z",
     "iopub.status.busy": "2023-04-04T14:45:04.963423Z",
     "iopub.status.idle": "2023-04-04T14:45:04.968094Z",
     "shell.execute_reply": "2023-04-04T14:45:04.967541Z"
    }
   },
   "outputs": [
    {
     "data": {
      "text/plain": [
       "(2, 3)"
      ]
     },
     "execution_count": 11,
     "metadata": {},
     "output_type": "execute_result"
    }
   ],
   "source": [
    "# 2次元配列の形状\n",
    "np.array([[1, 2, 3], [4, 5, 6]]).shape"
   ]
  },
  {
   "cell_type": "code",
   "execution_count": 12,
   "metadata": {
    "execution": {
     "iopub.execute_input": "2023-04-04T14:45:04.970557Z",
     "iopub.status.busy": "2023-04-04T14:45:04.970316Z",
     "iopub.status.idle": "2023-04-04T14:45:04.974670Z",
     "shell.execute_reply": "2023-04-04T14:45:04.974080Z"
    }
   },
   "outputs": [
    {
     "data": {
      "text/plain": [
       "dtype('float64')"
      ]
     },
     "execution_count": 12,
     "metadata": {},
     "output_type": "execute_result"
    }
   ],
   "source": [
    "# 古い形式の64bit浮動小数点数\n",
    "np.dtype('d')"
   ]
  },
  {
   "cell_type": "code",
   "execution_count": 13,
   "metadata": {
    "execution": {
     "iopub.execute_input": "2023-04-04T14:45:04.977211Z",
     "iopub.status.busy": "2023-04-04T14:45:04.976809Z",
     "iopub.status.idle": "2023-04-04T14:45:04.980793Z",
     "shell.execute_reply": "2023-04-04T14:45:04.980131Z"
    }
   },
   "outputs": [
    {
     "data": {
      "text/plain": [
       "dtype('int32')"
      ]
     },
     "execution_count": 13,
     "metadata": {},
     "output_type": "execute_result"
    }
   ],
   "source": [
    "# 古い形式の32bit整数\n",
    "np.dtype('i')"
   ]
  },
  {
   "cell_type": "markdown",
   "metadata": {},
   "source": [
    "## 生成"
   ]
  },
  {
   "cell_type": "code",
   "execution_count": 14,
   "metadata": {
    "execution": {
     "iopub.execute_input": "2023-04-04T14:45:04.983486Z",
     "iopub.status.busy": "2023-04-04T14:45:04.983207Z",
     "iopub.status.idle": "2023-04-04T14:45:04.987862Z",
     "shell.execute_reply": "2023-04-04T14:45:04.987177Z"
    }
   },
   "outputs": [
    {
     "data": {
      "text/plain": [
       "array([0, 1, 2, 3, 4])"
      ]
     },
     "execution_count": 14,
     "metadata": {},
     "output_type": "execute_result"
    }
   ],
   "source": [
    "# listより生成\n",
    "np.array([0, 1, 2, 3, 4])"
   ]
  },
  {
   "cell_type": "code",
   "execution_count": 15,
   "metadata": {
    "execution": {
     "iopub.execute_input": "2023-04-04T14:45:04.991035Z",
     "iopub.status.busy": "2023-04-04T14:45:04.990777Z",
     "iopub.status.idle": "2023-04-04T14:45:04.995498Z",
     "shell.execute_reply": "2023-04-04T14:45:04.994931Z"
    }
   },
   "outputs": [
    {
     "data": {
      "text/plain": [
       "array([0, 1, 2])"
      ]
     },
     "execution_count": 15,
     "metadata": {},
     "output_type": "execute_result"
    }
   ],
   "source": [
    "# tupleより生成\n",
    "np.array((0, 1, 2))"
   ]
  },
  {
   "cell_type": "code",
   "execution_count": 16,
   "metadata": {
    "execution": {
     "iopub.execute_input": "2023-04-04T14:45:04.997651Z",
     "iopub.status.busy": "2023-04-04T14:45:04.997446Z",
     "iopub.status.idle": "2023-04-04T14:45:05.000956Z",
     "shell.execute_reply": "2023-04-04T14:45:05.000511Z"
    }
   },
   "outputs": [
    {
     "data": {
      "text/plain": [
       "array([[0, 1],\n",
       "       [2, 3],\n",
       "       [4, 5]])"
      ]
     },
     "execution_count": 16,
     "metadata": {},
     "output_type": "execute_result"
    }
   ],
   "source": [
    "# listのlistを2次元配列に変換\n",
    "np.array([[0, 1,], [2, 3], [4, 5]])"
   ]
  },
  {
   "cell_type": "code",
   "execution_count": 17,
   "metadata": {
    "execution": {
     "iopub.execute_input": "2023-04-04T14:45:05.002781Z",
     "iopub.status.busy": "2023-04-04T14:45:05.002592Z",
     "iopub.status.idle": "2023-04-04T14:45:05.006638Z",
     "shell.execute_reply": "2023-04-04T14:45:05.006172Z"
    }
   },
   "outputs": [
    {
     "data": {
      "text/plain": [
       "array([10, 12, 14, 16, 18])"
      ]
     },
     "execution_count": 17,
     "metadata": {},
     "output_type": "execute_result"
    }
   ],
   "source": [
    "# start, stop, strideの形\n",
    "np.arange(10, 20, 2)"
   ]
  },
  {
   "cell_type": "code",
   "execution_count": 18,
   "metadata": {
    "execution": {
     "iopub.execute_input": "2023-04-04T14:45:05.008674Z",
     "iopub.status.busy": "2023-04-04T14:45:05.008474Z",
     "iopub.status.idle": "2023-04-04T14:45:05.011968Z",
     "shell.execute_reply": "2023-04-04T14:45:05.011558Z"
    }
   },
   "outputs": [
    {
     "data": {
      "text/plain": [
       "array([0., 1., 2., 3., 4., 5., 6., 7., 8., 9.])"
      ]
     },
     "execution_count": 18,
     "metadata": {},
     "output_type": "execute_result"
    }
   ],
   "source": [
    "# dtypeでデータ型を指定\n",
    "np.arange(10, dtype=np.float64)"
   ]
  },
  {
   "cell_type": "code",
   "execution_count": 19,
   "metadata": {
    "execution": {
     "iopub.execute_input": "2023-04-04T14:45:05.013848Z",
     "iopub.status.busy": "2023-04-04T14:45:05.013665Z",
     "iopub.status.idle": "2023-04-04T14:45:05.016888Z",
     "shell.execute_reply": "2023-04-04T14:45:05.016435Z"
    }
   },
   "outputs": [
    {
     "data": {
      "text/plain": [
       "array([0., 0., 0., 0., 0., 0., 0., 0., 0., 0.])"
      ]
     },
     "execution_count": 19,
     "metadata": {},
     "output_type": "execute_result"
    }
   ],
   "source": [
    "# ゼロで初期化（デフォルトでfloat64）\n",
    "np.zeros(10)"
   ]
  },
  {
   "cell_type": "code",
   "execution_count": 20,
   "metadata": {
    "execution": {
     "iopub.execute_input": "2023-04-04T14:45:05.018755Z",
     "iopub.status.busy": "2023-04-04T14:45:05.018567Z",
     "iopub.status.idle": "2023-04-04T14:45:05.022283Z",
     "shell.execute_reply": "2023-04-04T14:45:05.021767Z"
    }
   },
   "outputs": [
    {
     "data": {
      "text/plain": [
       "array([[0, 0, 0, 0],\n",
       "       [0, 0, 0, 0]], dtype=int32)"
      ]
     },
     "execution_count": 20,
     "metadata": {},
     "output_type": "execute_result"
    }
   ],
   "source": [
    "# 多次元配列の場合は形状をtupleで指定\n",
    "np.zeros((2, 4), dtype=np.int32)"
   ]
  },
  {
   "cell_type": "code",
   "execution_count": 21,
   "metadata": {
    "execution": {
     "iopub.execute_input": "2023-04-04T14:45:05.024281Z",
     "iopub.status.busy": "2023-04-04T14:45:05.024084Z",
     "iopub.status.idle": "2023-04-04T14:45:05.027775Z",
     "shell.execute_reply": "2023-04-04T14:45:05.027331Z"
    }
   },
   "outputs": [
    {
     "data": {
      "text/plain": [
       "array([[0., 0., 0.],\n",
       "       [0., 0., 0.],\n",
       "       [0., 0., 0.]], dtype=float32)"
      ]
     },
     "execution_count": 21,
     "metadata": {},
     "output_type": "execute_result"
    }
   ],
   "source": [
    "# 同じ形状・データ型の配列\n",
    "x = np.zeros((3, 3), dtype=np.float32)\n",
    "np.zeros_like(x)"
   ]
  },
  {
   "cell_type": "code",
   "execution_count": 22,
   "metadata": {
    "execution": {
     "iopub.execute_input": "2023-04-04T14:45:05.029704Z",
     "iopub.status.busy": "2023-04-04T14:45:05.029507Z",
     "iopub.status.idle": "2023-04-04T14:45:05.032902Z",
     "shell.execute_reply": "2023-04-04T14:45:05.032450Z"
    }
   },
   "outputs": [
    {
     "data": {
      "text/plain": [
       "array([[1., 1., 1.],\n",
       "       [1., 1., 1.],\n",
       "       [1., 1., 1.]])"
      ]
     },
     "execution_count": 22,
     "metadata": {},
     "output_type": "execute_result"
    }
   ],
   "source": [
    "# 1で初期化すること以外はzerosと同じ\n",
    "np.ones((3, 3))"
   ]
  },
  {
   "cell_type": "code",
   "execution_count": 23,
   "metadata": {
    "execution": {
     "iopub.execute_input": "2023-04-04T14:45:05.034776Z",
     "iopub.status.busy": "2023-04-04T14:45:05.034586Z",
     "iopub.status.idle": "2023-04-04T14:45:05.038547Z",
     "shell.execute_reply": "2023-04-04T14:45:05.038008Z"
    }
   },
   "outputs": [
    {
     "data": {
      "text/plain": [
       "array([[1., 1., 1.],\n",
       "       [1., 1., 1.],\n",
       "       [1., 1., 1.]], dtype=float32)"
      ]
     },
     "execution_count": 23,
     "metadata": {},
     "output_type": "execute_result"
    }
   ],
   "source": [
    "# 1で初期化すること以外はzeros_likeと同じ\n",
    "x = np.zeros((3, 3), dtype=np.float32)\n",
    "np.ones_like(x)"
   ]
  },
  {
   "cell_type": "code",
   "execution_count": 24,
   "metadata": {
    "execution": {
     "iopub.execute_input": "2023-04-04T14:45:05.040538Z",
     "iopub.status.busy": "2023-04-04T14:45:05.040344Z",
     "iopub.status.idle": "2023-04-04T14:45:05.043867Z",
     "shell.execute_reply": "2023-04-04T14:45:05.043448Z"
    }
   },
   "outputs": [
    {
     "data": {
      "text/plain": [
       "array([0. , 0.1, 0.2, 0.3, 0.4, 0.5, 0.6, 0.7, 0.8, 0.9, 1. ])"
      ]
     },
     "execution_count": 24,
     "metadata": {},
     "output_type": "execute_result"
    }
   ],
   "source": [
    "# 等間隔の配列（端点含む！）\n",
    "np.linspace(0.0, 1.0, 11)"
   ]
  },
  {
   "cell_type": "code",
   "execution_count": 25,
   "metadata": {
    "execution": {
     "iopub.execute_input": "2023-04-04T14:45:05.045939Z",
     "iopub.status.busy": "2023-04-04T14:45:05.045638Z",
     "iopub.status.idle": "2023-04-04T14:45:05.049090Z",
     "shell.execute_reply": "2023-04-04T14:45:05.048627Z"
    }
   },
   "outputs": [
    {
     "data": {
      "text/plain": [
       "array([ 0.1       ,  0.15848932,  0.25118864,  0.39810717,  0.63095734,\n",
       "        1.        ,  1.58489319,  2.51188643,  3.98107171,  6.30957344,\n",
       "       10.        ])"
      ]
     },
     "execution_count": 25,
     "metadata": {},
     "output_type": "execute_result"
    }
   ],
   "source": [
    "# logで等間隔の配列\n",
    "np.logspace(-1, +1, 11)"
   ]
  },
  {
   "cell_type": "code",
   "execution_count": 26,
   "metadata": {
    "execution": {
     "iopub.execute_input": "2023-04-04T14:45:05.051009Z",
     "iopub.status.busy": "2023-04-04T14:45:05.050823Z",
     "iopub.status.idle": "2023-04-04T14:45:05.054419Z",
     "shell.execute_reply": "2023-04-04T14:45:05.053935Z"
    }
   },
   "outputs": [
    {
     "data": {
      "text/plain": [
       "array([ 0.1       ,  0.15848932,  0.25118864,  0.39810717,  0.63095734,\n",
       "        1.        ,  1.58489319,  2.51188643,  3.98107171,  6.30957344,\n",
       "       10.        ])"
      ]
     },
     "execution_count": 26,
     "metadata": {},
     "output_type": "execute_result"
    }
   ],
   "source": [
    "# logspaceと引数の意味が違う以外は同じ\n",
    "np.geomspace(0.1, 10.0, 11)"
   ]
  },
  {
   "cell_type": "code",
   "execution_count": 27,
   "metadata": {
    "execution": {
     "iopub.execute_input": "2023-04-04T14:45:05.056479Z",
     "iopub.status.busy": "2023-04-04T14:45:05.056265Z",
     "iopub.status.idle": "2023-04-04T14:45:05.060034Z",
     "shell.execute_reply": "2023-04-04T14:45:05.059604Z"
    }
   },
   "outputs": [
    {
     "data": {
      "text/plain": [
       "array([ 0.1       ,  0.15848932,  0.25118864,  0.39810717,  0.63095734,\n",
       "        1.        ,  1.58489319,  2.51188643,  3.98107171,  6.30957344,\n",
       "       10.        ])"
      ]
     },
     "execution_count": 27,
     "metadata": {},
     "output_type": "execute_result"
    }
   ],
   "source": [
    "# geomspace / logspaceと同じ\n",
    "10**np.linspace(np.log10(0.1), np.log10(10.0), 11)"
   ]
  },
  {
   "cell_type": "code",
   "execution_count": 28,
   "metadata": {
    "execution": {
     "iopub.execute_input": "2023-04-04T14:45:05.061906Z",
     "iopub.status.busy": "2023-04-04T14:45:05.061718Z",
     "iopub.status.idle": "2023-04-04T14:45:05.065069Z",
     "shell.execute_reply": "2023-04-04T14:45:05.064642Z"
    }
   },
   "outputs": [
    {
     "data": {
      "text/plain": [
       "array([0.29771261, 0.31715066, 0.02129571, 0.87963238, 0.24303742])"
      ]
     },
     "execution_count": 28,
     "metadata": {},
     "output_type": "execute_result"
    }
   ],
   "source": [
    "# 乱数配列\n",
    "np.random.random(5)"
   ]
  },
  {
   "cell_type": "code",
   "execution_count": 29,
   "metadata": {
    "execution": {
     "iopub.execute_input": "2023-04-04T14:45:05.066978Z",
     "iopub.status.busy": "2023-04-04T14:45:05.066783Z",
     "iopub.status.idle": "2023-04-04T14:45:05.070186Z",
     "shell.execute_reply": "2023-04-04T14:45:05.069744Z"
    }
   },
   "outputs": [
    {
     "data": {
      "text/plain": [
       "array([1, 4, 2, 2, 3, 1, 0, 4, 4, 1])"
      ]
     },
     "execution_count": 29,
     "metadata": {},
     "output_type": "execute_result"
    }
   ],
   "source": [
    "# 整数の乱数配列\n",
    "np.random.randint(0, 5, size=10)"
   ]
  },
  {
   "cell_type": "code",
   "execution_count": 30,
   "metadata": {
    "execution": {
     "iopub.execute_input": "2023-04-04T14:45:05.072653Z",
     "iopub.status.busy": "2023-04-04T14:45:05.072423Z",
     "iopub.status.idle": "2023-04-04T14:45:05.076008Z",
     "shell.execute_reply": "2023-04-04T14:45:05.075572Z"
    }
   },
   "outputs": [
    {
     "data": {
      "text/plain": [
       "array([[0.19009143, 0.74774823],\n",
       "       [0.16656213, 0.45129687],\n",
       "       [0.692644  , 0.01588119]])"
      ]
     },
     "execution_count": 30,
     "metadata": {},
     "output_type": "execute_result"
    }
   ],
   "source": [
    "# 2次元の乱数配列\n",
    "np.random.random((3, 2))"
   ]
  },
  {
   "cell_type": "markdown",
   "metadata": {},
   "source": [
    "## 入出力"
   ]
  },
  {
   "cell_type": "markdown",
   "metadata": {},
   "source": [
    "### テキスト入出力"
   ]
  },
  {
   "cell_type": "code",
   "execution_count": 31,
   "metadata": {
    "execution": {
     "iopub.execute_input": "2023-04-04T14:45:05.078025Z",
     "iopub.status.busy": "2023-04-04T14:45:05.077839Z",
     "iopub.status.idle": "2023-04-04T14:45:05.225446Z",
     "shell.execute_reply": "2023-04-04T14:45:05.224273Z"
    }
   },
   "outputs": [
    {
     "name": "stdout",
     "output_type": "stream",
     "text": [
      " 0.81  0.59  0.50\r\n",
      " 0.31  0.95  1.00\r\n",
      "-0.31  0.95  1.50\r\n",
      "-0.81  0.59  2.00\r\n",
      "-1.00  0.00  2.50\r\n",
      "-0.81 -0.59  3.00\r\n",
      "-0.31 -0.95  3.50\r\n",
      " 0.31 -0.95  4.00\r\n",
      " 0.81 -0.59  4.50\r\n",
      " 1.00 -0.00  5.00\r\n",
      " 0.81  0.59  5.50\r\n",
      " 0.31  0.95  6.00\r\n",
      "-0.31  0.95  6.50\r\n",
      "-0.81  0.59  7.00\r\n",
      "-1.00  0.00  7.50\r\n",
      "-0.81 -0.59  8.00\r\n",
      "-0.31 -0.95  8.50\r\n",
      " 0.31 -0.95  9.00\r\n",
      " 0.81 -0.59  9.50\r\n",
      " 1.00 -0.00 10.00\r\n",
      " 0.81  0.59 10.50\r\n",
      " 0.31  0.95 11.00\r\n",
      "-0.31  0.95 11.50\r\n",
      "-0.81  0.59 12.00\r\n",
      "-1.00  0.00 12.50\r\n",
      "-0.81 -0.59 13.00\r\n",
      "-0.31 -0.95 13.50\r\n",
      " 0.31 -0.95 14.00\r\n",
      " 0.81 -0.59 14.50\r\n",
      " 1.00 -0.00 15.00\r\n",
      " 0.81  0.59 15.50\r\n",
      " 0.31  0.95 16.00\r\n"
     ]
    }
   ],
   "source": [
    "# helix1.datの中身を確認\n",
    "!cat helix1.dat"
   ]
  },
  {
   "cell_type": "code",
   "execution_count": 32,
   "metadata": {
    "execution": {
     "iopub.execute_input": "2023-04-04T14:45:05.229138Z",
     "iopub.status.busy": "2023-04-04T14:45:05.228812Z",
     "iopub.status.idle": "2023-04-04T14:45:05.235233Z",
     "shell.execute_reply": "2023-04-04T14:45:05.234563Z"
    }
   },
   "outputs": [
    {
     "data": {
      "text/plain": [
       "(32, 3)"
      ]
     },
     "execution_count": 32,
     "metadata": {},
     "output_type": "execute_result"
    }
   ],
   "source": [
    "# 読み込み\n",
    "x = np.loadtxt('helix1.dat')\n",
    "x.shape"
   ]
  },
  {
   "cell_type": "code",
   "execution_count": 33,
   "metadata": {
    "execution": {
     "iopub.execute_input": "2023-04-04T14:45:05.237671Z",
     "iopub.status.busy": "2023-04-04T14:45:05.237416Z",
     "iopub.status.idle": "2023-04-04T14:45:05.241306Z",
     "shell.execute_reply": "2023-04-04T14:45:05.240799Z"
    }
   },
   "outputs": [],
   "source": [
    "# 読み込んだデータを出力\n",
    "np.savetxt('output.dat', x, fmt='%5.2f')"
   ]
  },
  {
   "cell_type": "code",
   "execution_count": 34,
   "metadata": {
    "execution": {
     "iopub.execute_input": "2023-04-04T14:45:05.243885Z",
     "iopub.status.busy": "2023-04-04T14:45:05.243660Z",
     "iopub.status.idle": "2023-04-04T14:45:05.373430Z",
     "shell.execute_reply": "2023-04-04T14:45:05.372289Z"
    }
   },
   "outputs": [
    {
     "name": "stdout",
     "output_type": "stream",
     "text": [
      " 0.81  0.59  0.50\r\n",
      " 0.31  0.95  1.00\r\n",
      "-0.31  0.95  1.50\r\n",
      "-0.81  0.59  2.00\r\n",
      "-1.00  0.00  2.50\r\n",
      "-0.81 -0.59  3.00\r\n",
      "-0.31 -0.95  3.50\r\n",
      " 0.31 -0.95  4.00\r\n",
      " 0.81 -0.59  4.50\r\n",
      " 1.00 -0.00  5.00\r\n",
      " 0.81  0.59  5.50\r\n",
      " 0.31  0.95  6.00\r\n",
      "-0.31  0.95  6.50\r\n",
      "-0.81  0.59  7.00\r\n",
      "-1.00  0.00  7.50\r\n",
      "-0.81 -0.59  8.00\r\n",
      "-0.31 -0.95  8.50\r\n",
      " 0.31 -0.95  9.00\r\n",
      " 0.81 -0.59  9.50\r\n",
      " 1.00 -0.00 10.00\r\n",
      " 0.81  0.59 10.50\r\n",
      " 0.31  0.95 11.00\r\n",
      "-0.31  0.95 11.50\r\n",
      "-0.81  0.59 12.00\r\n",
      "-1.00  0.00 12.50\r\n",
      "-0.81 -0.59 13.00\r\n",
      "-0.31 -0.95 13.50\r\n",
      " 0.31 -0.95 14.00\r\n",
      " 0.81 -0.59 14.50\r\n",
      " 1.00 -0.00 15.00\r\n",
      " 0.81  0.59 15.50\r\n",
      " 0.31  0.95 16.00\r\n"
     ]
    }
   ],
   "source": [
    "# output.datの中身を確認\n",
    "!cat output.dat"
   ]
  },
  {
   "cell_type": "markdown",
   "metadata": {},
   "source": [
    "### バイナリ入出力"
   ]
  },
  {
   "cell_type": "code",
   "execution_count": 35,
   "metadata": {
    "execution": {
     "iopub.execute_input": "2023-04-04T14:45:05.377074Z",
     "iopub.status.busy": "2023-04-04T14:45:05.376744Z",
     "iopub.status.idle": "2023-04-04T14:45:05.381125Z",
     "shell.execute_reply": "2023-04-04T14:45:05.380455Z"
    }
   },
   "outputs": [],
   "source": [
    "# 配列を準備\n",
    "x = np.linspace(0.0, np.pi, 100)\n",
    "y = np.cos(x)"
   ]
  },
  {
   "cell_type": "code",
   "execution_count": 36,
   "metadata": {
    "execution": {
     "iopub.execute_input": "2023-04-04T14:45:05.384418Z",
     "iopub.status.busy": "2023-04-04T14:45:05.384052Z",
     "iopub.status.idle": "2023-04-04T14:45:05.387549Z",
     "shell.execute_reply": "2023-04-04T14:45:05.387031Z"
    }
   },
   "outputs": [],
   "source": [
    "# xをNPY形式で保存\n",
    "np.save(\"binary1.npy\", x)"
   ]
  },
  {
   "cell_type": "code",
   "execution_count": 37,
   "metadata": {
    "execution": {
     "iopub.execute_input": "2023-04-04T14:45:05.390396Z",
     "iopub.status.busy": "2023-04-04T14:45:05.390125Z",
     "iopub.status.idle": "2023-04-04T14:45:05.393725Z",
     "shell.execute_reply": "2023-04-04T14:45:05.393284Z"
    }
   },
   "outputs": [],
   "source": [
    "# x, yをNPZ形式で保存（各配列に名前を付けておく）\n",
    "np.savez(\"binary2.npz\", x_name=x, y_name=y)"
   ]
  },
  {
   "cell_type": "code",
   "execution_count": 38,
   "metadata": {
    "execution": {
     "iopub.execute_input": "2023-04-04T14:45:05.395784Z",
     "iopub.status.busy": "2023-04-04T14:45:05.395559Z",
     "iopub.status.idle": "2023-04-04T14:45:05.400611Z",
     "shell.execute_reply": "2023-04-04T14:45:05.400041Z"
    }
   },
   "outputs": [
    {
     "name": "stdout",
     "output_type": "stream",
     "text": [
      "True\n"
     ]
    }
   ],
   "source": [
    "# NPY形式のファイルを読み込み\n",
    "xx = np.load(\"binary1.npy\")\n",
    "\n",
    "# 値が同じことを確認\n",
    "print(np.alltrue(x == xx))"
   ]
  },
  {
   "cell_type": "code",
   "execution_count": 39,
   "metadata": {
    "execution": {
     "iopub.execute_input": "2023-04-04T14:45:05.402674Z",
     "iopub.status.busy": "2023-04-04T14:45:05.402466Z",
     "iopub.status.idle": "2023-04-04T14:45:05.408447Z",
     "shell.execute_reply": "2023-04-04T14:45:05.407856Z"
    }
   },
   "outputs": [
    {
     "name": "stdout",
     "output_type": "stream",
     "text": [
      "['x_name', 'y_name']\n"
     ]
    }
   ],
   "source": [
    "# NPZ形式のファイルを読み込み\n",
    "data = np.load(\"binary2.npz\")\n",
    "\n",
    "# dataはdict-likeなオブジェクト\n",
    "print(list(data.keys()))"
   ]
  },
  {
   "cell_type": "code",
   "execution_count": 40,
   "metadata": {
    "execution": {
     "iopub.execute_input": "2023-04-04T14:45:05.410473Z",
     "iopub.status.busy": "2023-04-04T14:45:05.410281Z",
     "iopub.status.idle": "2023-04-04T14:45:05.414442Z",
     "shell.execute_reply": "2023-04-04T14:45:05.413986Z"
    }
   },
   "outputs": [
    {
     "name": "stdout",
     "output_type": "stream",
     "text": [
      "True\n",
      "True\n"
     ]
    }
   ],
   "source": [
    "xx = data['x_name']\n",
    "yy = data['y_name']\n",
    "\n",
    "# ファイルから読んだ配列と元の配列の値が同じことを確認する\n",
    "print(np.alltrue(x == xx))\n",
    "print(np.alltrue(y == yy))"
   ]
  },
  {
   "cell_type": "markdown",
   "metadata": {},
   "source": [
    "### 生のバイナリファイル"
   ]
  },
  {
   "cell_type": "code",
   "execution_count": 41,
   "metadata": {
    "execution": {
     "iopub.execute_input": "2023-04-04T14:45:05.416412Z",
     "iopub.status.busy": "2023-04-04T14:45:05.416181Z",
     "iopub.status.idle": "2023-04-04T14:45:05.419962Z",
     "shell.execute_reply": "2023-04-04T14:45:05.419477Z"
    }
   },
   "outputs": [
    {
     "name": "stdout",
     "output_type": "stream",
     "text": [
      "[1.  1.5 2.  2.5 3.  3.5 4.  4.5 5.  5.5]\n"
     ]
    }
   ],
   "source": [
    "# ファイルを開く\n",
    "fp = open('cbinary.dat', 'r')\n",
    "\n",
    "# データ型(ここではnp.float64)およびデータ数(ここでは10)はあらかじめ知っておく必要あり\n",
    "z = np.fromfile(fp, np.float64, 10)\n",
    "\n",
    "# ファイルを閉じる\n",
    "fp.close()\n",
    "\n",
    "# 値を出力\n",
    "print(z)"
   ]
  },
  {
   "cell_type": "markdown",
   "metadata": {},
   "source": [
    "### unformatted形式(Fortran)"
   ]
  },
  {
   "cell_type": "code",
   "execution_count": 42,
   "metadata": {
    "execution": {
     "iopub.execute_input": "2023-04-04T14:45:05.422032Z",
     "iopub.status.busy": "2023-04-04T14:45:05.421829Z",
     "iopub.status.idle": "2023-04-04T14:45:06.234804Z",
     "shell.execute_reply": "2023-04-04T14:45:06.234280Z"
    }
   },
   "outputs": [],
   "source": [
    "# モジュール読み込み\n",
    "from scipy.io import FortranFile\n",
    "\n",
    "# ファイルを開く\n",
    "fp = FortranFile('helix2.dat')\n",
    "\n",
    "# データ読み込み\n",
    "x = fp.read_record(np.float64)\n",
    "y = fp.read_record(np.float64)\n",
    "z = fp.read_record(np.float64)\n",
    "\n",
    "# ファイルを閉じる\n",
    "fp.close()"
   ]
  },
  {
   "cell_type": "code",
   "execution_count": 43,
   "metadata": {
    "execution": {
     "iopub.execute_input": "2023-04-04T14:45:06.237193Z",
     "iopub.status.busy": "2023-04-04T14:45:06.236981Z",
     "iopub.status.idle": "2023-04-04T14:45:06.240617Z",
     "shell.execute_reply": "2023-04-04T14:45:06.240147Z"
    }
   },
   "outputs": [
    {
     "name": "stdout",
     "output_type": "stream",
     "text": [
      " 0.81  0.59  0.50\n",
      " 0.31  0.95  1.00\n",
      "-0.31  0.95  1.50\n",
      "-0.81  0.59  2.00\n",
      "-1.00  0.00  2.50\n",
      "-0.81 -0.59  3.00\n",
      "-0.31 -0.95  3.50\n",
      " 0.31 -0.95  4.00\n",
      " 0.81 -0.59  4.50\n",
      " 1.00 -0.00  5.00\n",
      " 0.81  0.59  5.50\n",
      " 0.31  0.95  6.00\n",
      "-0.31  0.95  6.50\n",
      "-0.81  0.59  7.00\n",
      "-1.00  0.00  7.50\n",
      "-0.81 -0.59  8.00\n",
      "-0.31 -0.95  8.50\n",
      " 0.31 -0.95  9.00\n",
      " 0.81 -0.59  9.50\n",
      " 1.00 -0.00 10.00\n",
      " 0.81  0.59 10.50\n",
      " 0.31  0.95 11.00\n",
      "-0.31  0.95 11.50\n",
      "-0.81  0.59 12.00\n",
      "-1.00  0.00 12.50\n",
      "-0.81 -0.59 13.00\n",
      "-0.31 -0.95 13.50\n",
      " 0.31 -0.95 14.00\n",
      " 0.81 -0.59 14.50\n",
      " 1.00 -0.00 15.00\n",
      " 0.81  0.59 15.50\n",
      " 0.31  0.95 16.00\n"
     ]
    }
   ],
   "source": [
    "# 結果を確認\n",
    "for i in range(x.size):\n",
    "    print('{:5.2f} {:5.2f} {:5.2f}'.format(x[i], y[i], z[i]))"
   ]
  },
  {
   "cell_type": "markdown",
   "metadata": {},
   "source": [
    "## 各種演算"
   ]
  },
  {
   "cell_type": "markdown",
   "metadata": {},
   "source": [
    "### 算術演算"
   ]
  },
  {
   "cell_type": "code",
   "execution_count": 44,
   "metadata": {
    "execution": {
     "iopub.execute_input": "2023-04-04T14:45:06.242856Z",
     "iopub.status.busy": "2023-04-04T14:45:06.242645Z",
     "iopub.status.idle": "2023-04-04T14:45:06.245528Z",
     "shell.execute_reply": "2023-04-04T14:45:06.244998Z"
    }
   },
   "outputs": [],
   "source": [
    "# 以下全てにおいて要素ごとに各種算術演算がなされる\n",
    "a = np.arange(4)\n",
    "b = np.arange(4) + 4"
   ]
  },
  {
   "cell_type": "code",
   "execution_count": 45,
   "metadata": {
    "execution": {
     "iopub.execute_input": "2023-04-04T14:45:06.247375Z",
     "iopub.status.busy": "2023-04-04T14:45:06.247185Z",
     "iopub.status.idle": "2023-04-04T14:45:06.250632Z",
     "shell.execute_reply": "2023-04-04T14:45:06.250191Z"
    }
   },
   "outputs": [
    {
     "data": {
      "text/plain": [
       "array([ 4,  6,  8, 10])"
      ]
     },
     "execution_count": 45,
     "metadata": {},
     "output_type": "execute_result"
    }
   ],
   "source": [
    "a + b"
   ]
  },
  {
   "cell_type": "code",
   "execution_count": 46,
   "metadata": {
    "execution": {
     "iopub.execute_input": "2023-04-04T14:45:06.252427Z",
     "iopub.status.busy": "2023-04-04T14:45:06.252241Z",
     "iopub.status.idle": "2023-04-04T14:45:06.255666Z",
     "shell.execute_reply": "2023-04-04T14:45:06.255176Z"
    }
   },
   "outputs": [
    {
     "data": {
      "text/plain": [
       "array([-4, -4, -4, -4])"
      ]
     },
     "execution_count": 46,
     "metadata": {},
     "output_type": "execute_result"
    }
   ],
   "source": [
    "a - b"
   ]
  },
  {
   "cell_type": "code",
   "execution_count": 47,
   "metadata": {
    "execution": {
     "iopub.execute_input": "2023-04-04T14:45:06.257746Z",
     "iopub.status.busy": "2023-04-04T14:45:06.257524Z",
     "iopub.status.idle": "2023-04-04T14:45:06.260853Z",
     "shell.execute_reply": "2023-04-04T14:45:06.260382Z"
    }
   },
   "outputs": [
    {
     "data": {
      "text/plain": [
       "array([ 0,  5, 12, 21])"
      ]
     },
     "execution_count": 47,
     "metadata": {},
     "output_type": "execute_result"
    }
   ],
   "source": [
    "a * b"
   ]
  },
  {
   "cell_type": "code",
   "execution_count": 48,
   "metadata": {
    "execution": {
     "iopub.execute_input": "2023-04-04T14:45:06.262749Z",
     "iopub.status.busy": "2023-04-04T14:45:06.262562Z",
     "iopub.status.idle": "2023-04-04T14:45:06.265874Z",
     "shell.execute_reply": "2023-04-04T14:45:06.265433Z"
    }
   },
   "outputs": [
    {
     "data": {
      "text/plain": [
       "array([0.        , 0.2       , 0.33333333, 0.42857143])"
      ]
     },
     "execution_count": 48,
     "metadata": {},
     "output_type": "execute_result"
    }
   ],
   "source": [
    "a / b"
   ]
  },
  {
   "cell_type": "code",
   "execution_count": 49,
   "metadata": {
    "execution": {
     "iopub.execute_input": "2023-04-04T14:45:06.267992Z",
     "iopub.status.busy": "2023-04-04T14:45:06.267794Z",
     "iopub.status.idle": "2023-04-04T14:45:06.271044Z",
     "shell.execute_reply": "2023-04-04T14:45:06.270609Z"
    }
   },
   "outputs": [
    {
     "data": {
      "text/plain": [
       "array([0, 1, 4, 9])"
      ]
     },
     "execution_count": 49,
     "metadata": {},
     "output_type": "execute_result"
    }
   ],
   "source": [
    "a**2"
   ]
  },
  {
   "cell_type": "markdown",
   "metadata": {},
   "source": [
    "### ユニバーサル関数"
   ]
  },
  {
   "cell_type": "code",
   "execution_count": 50,
   "metadata": {
    "execution": {
     "iopub.execute_input": "2023-04-04T14:45:06.273351Z",
     "iopub.status.busy": "2023-04-04T14:45:06.273127Z",
     "iopub.status.idle": "2023-04-04T14:45:06.276467Z",
     "shell.execute_reply": "2023-04-04T14:45:06.276034Z"
    }
   },
   "outputs": [
    {
     "data": {
      "text/plain": [
       "1.5707963267948966"
      ]
     },
     "execution_count": 50,
     "metadata": {},
     "output_type": "execute_result"
    }
   ],
   "source": [
    "# degree to radian\n",
    "np.deg2rad(90.0)"
   ]
  },
  {
   "cell_type": "code",
   "execution_count": 51,
   "metadata": {
    "execution": {
     "iopub.execute_input": "2023-04-04T14:45:06.278329Z",
     "iopub.status.busy": "2023-04-04T14:45:06.278145Z",
     "iopub.status.idle": "2023-04-04T14:45:06.281229Z",
     "shell.execute_reply": "2023-04-04T14:45:06.280793Z"
    }
   },
   "outputs": [
    {
     "data": {
      "text/plain": [
       "90.0"
      ]
     },
     "execution_count": 51,
     "metadata": {},
     "output_type": "execute_result"
    }
   ],
   "source": [
    "# radian to degree\n",
    "np.rad2deg(np.pi/2)"
   ]
  },
  {
   "cell_type": "code",
   "execution_count": 52,
   "metadata": {
    "execution": {
     "iopub.execute_input": "2023-04-04T14:45:06.283115Z",
     "iopub.status.busy": "2023-04-04T14:45:06.282922Z",
     "iopub.status.idle": "2023-04-04T14:45:06.286069Z",
     "shell.execute_reply": "2023-04-04T14:45:06.285637Z"
    }
   },
   "outputs": [
    {
     "data": {
      "text/plain": [
       "12"
      ]
     },
     "execution_count": 52,
     "metadata": {},
     "output_type": "execute_result"
    }
   ],
   "source": [
    "# lowest common multiple\n",
    "np.lcm(4, 6)"
   ]
  },
  {
   "cell_type": "code",
   "execution_count": 53,
   "metadata": {
    "execution": {
     "iopub.execute_input": "2023-04-04T14:45:06.287895Z",
     "iopub.status.busy": "2023-04-04T14:45:06.287705Z",
     "iopub.status.idle": "2023-04-04T14:45:06.291340Z",
     "shell.execute_reply": "2023-04-04T14:45:06.290883Z"
    }
   },
   "outputs": [
    {
     "data": {
      "text/plain": [
       "4"
      ]
     },
     "execution_count": 53,
     "metadata": {},
     "output_type": "execute_result"
    }
   ],
   "source": [
    "# greatest common divisor\n",
    "np.gcd(12, 20)"
   ]
  },
  {
   "cell_type": "code",
   "execution_count": 54,
   "metadata": {
    "execution": {
     "iopub.execute_input": "2023-04-04T14:45:06.293183Z",
     "iopub.status.busy": "2023-04-04T14:45:06.292993Z",
     "iopub.status.idle": "2023-04-04T14:45:06.296256Z",
     "shell.execute_reply": "2023-04-04T14:45:06.295821Z"
    }
   },
   "outputs": [
    {
     "data": {
      "text/plain": [
       "0.7853981633974483"
      ]
     },
     "execution_count": 54,
     "metadata": {},
     "output_type": "execute_result"
    }
   ],
   "source": [
    "# 複素数の偏角\n",
    "np.angle(1.0 + 1.0j)"
   ]
  },
  {
   "cell_type": "markdown",
   "metadata": {},
   "source": [
    "### メソッド"
   ]
  },
  {
   "cell_type": "code",
   "execution_count": 55,
   "metadata": {
    "execution": {
     "iopub.execute_input": "2023-04-04T14:45:06.298239Z",
     "iopub.status.busy": "2023-04-04T14:45:06.298050Z",
     "iopub.status.idle": "2023-04-04T14:45:06.301781Z",
     "shell.execute_reply": "2023-04-04T14:45:06.301328Z"
    }
   },
   "outputs": [
    {
     "data": {
      "text/plain": [
       "45"
      ]
     },
     "execution_count": 55,
     "metadata": {},
     "output_type": "execute_result"
    }
   ],
   "source": [
    "x = np.arange(10)\n",
    "np.sum(x)"
   ]
  },
  {
   "cell_type": "code",
   "execution_count": 56,
   "metadata": {
    "execution": {
     "iopub.execute_input": "2023-04-04T14:45:06.303632Z",
     "iopub.status.busy": "2023-04-04T14:45:06.303438Z",
     "iopub.status.idle": "2023-04-04T14:45:06.306775Z",
     "shell.execute_reply": "2023-04-04T14:45:06.306304Z"
    }
   },
   "outputs": [
    {
     "data": {
      "text/plain": [
       "45"
      ]
     },
     "execution_count": 56,
     "metadata": {},
     "output_type": "execute_result"
    }
   ],
   "source": [
    "x.sum()"
   ]
  },
  {
   "cell_type": "code",
   "execution_count": 57,
   "metadata": {
    "execution": {
     "iopub.execute_input": "2023-04-04T14:45:06.308588Z",
     "iopub.status.busy": "2023-04-04T14:45:06.308406Z",
     "iopub.status.idle": "2023-04-04T14:45:06.311925Z",
     "shell.execute_reply": "2023-04-04T14:45:06.311456Z"
    }
   },
   "outputs": [
    {
     "data": {
      "text/plain": [
       "9"
      ]
     },
     "execution_count": 57,
     "metadata": {},
     "output_type": "execute_result"
    }
   ],
   "source": [
    "x.max()"
   ]
  },
  {
   "cell_type": "code",
   "execution_count": 58,
   "metadata": {
    "execution": {
     "iopub.execute_input": "2023-04-04T14:45:06.313801Z",
     "iopub.status.busy": "2023-04-04T14:45:06.313604Z",
     "iopub.status.idle": "2023-04-04T14:45:06.316851Z",
     "shell.execute_reply": "2023-04-04T14:45:06.316372Z"
    }
   },
   "outputs": [
    {
     "data": {
      "text/plain": [
       "0"
      ]
     },
     "execution_count": 58,
     "metadata": {},
     "output_type": "execute_result"
    }
   ],
   "source": [
    "x.min()"
   ]
  },
  {
   "cell_type": "code",
   "execution_count": 59,
   "metadata": {
    "execution": {
     "iopub.execute_input": "2023-04-04T14:45:06.318724Z",
     "iopub.status.busy": "2023-04-04T14:45:06.318542Z",
     "iopub.status.idle": "2023-04-04T14:45:06.321714Z",
     "shell.execute_reply": "2023-04-04T14:45:06.321277Z"
    }
   },
   "outputs": [
    {
     "data": {
      "text/plain": [
       "4.5"
      ]
     },
     "execution_count": 59,
     "metadata": {},
     "output_type": "execute_result"
    }
   ],
   "source": [
    "x.mean()"
   ]
  },
  {
   "cell_type": "markdown",
   "metadata": {},
   "source": [
    "## インデックス操作"
   ]
  },
  {
   "cell_type": "code",
   "execution_count": 60,
   "metadata": {
    "execution": {
     "iopub.execute_input": "2023-04-04T14:45:06.324277Z",
     "iopub.status.busy": "2023-04-04T14:45:06.324053Z",
     "iopub.status.idle": "2023-04-04T14:45:06.326789Z",
     "shell.execute_reply": "2023-04-04T14:45:06.326295Z"
    }
   },
   "outputs": [],
   "source": [
    "x = np.arange(10)"
   ]
  },
  {
   "cell_type": "code",
   "execution_count": 61,
   "metadata": {
    "execution": {
     "iopub.execute_input": "2023-04-04T14:45:06.328656Z",
     "iopub.status.busy": "2023-04-04T14:45:06.328467Z",
     "iopub.status.idle": "2023-04-04T14:45:06.331793Z",
     "shell.execute_reply": "2023-04-04T14:45:06.331343Z"
    }
   },
   "outputs": [
    {
     "data": {
      "text/plain": [
       "2"
      ]
     },
     "execution_count": 61,
     "metadata": {},
     "output_type": "execute_result"
    }
   ],
   "source": [
    "# 3番目の要素\n",
    "x[2]"
   ]
  },
  {
   "cell_type": "code",
   "execution_count": 62,
   "metadata": {
    "execution": {
     "iopub.execute_input": "2023-04-04T14:45:06.333774Z",
     "iopub.status.busy": "2023-04-04T14:45:06.333586Z",
     "iopub.status.idle": "2023-04-04T14:45:06.336831Z",
     "shell.execute_reply": "2023-04-04T14:45:06.336388Z"
    }
   },
   "outputs": [
    {
     "data": {
      "text/plain": [
       "array([2, 3, 4])"
      ]
     },
     "execution_count": 62,
     "metadata": {},
     "output_type": "execute_result"
    }
   ],
   "source": [
    "# 3, 4, 5番目の要素(結果もNumPy配列)\n",
    "x[2:5]"
   ]
  },
  {
   "cell_type": "code",
   "execution_count": 63,
   "metadata": {
    "execution": {
     "iopub.execute_input": "2023-04-04T14:45:06.338629Z",
     "iopub.status.busy": "2023-04-04T14:45:06.338449Z",
     "iopub.status.idle": "2023-04-04T14:45:06.342456Z",
     "shell.execute_reply": "2023-04-04T14:45:06.341998Z"
    }
   },
   "outputs": [
    {
     "data": {
      "text/plain": [
       "array([-1,  1, -1,  3, -1,  5, -1,  7,  8,  9])"
      ]
     },
     "execution_count": 63,
     "metadata": {},
     "output_type": "execute_result"
    }
   ],
   "source": [
    "# 0, 2, 4, 6番目の要素に-1を代入\n",
    "x[:8:2] = -1\n",
    "x"
   ]
  },
  {
   "cell_type": "code",
   "execution_count": 64,
   "metadata": {
    "execution": {
     "iopub.execute_input": "2023-04-04T14:45:06.344347Z",
     "iopub.status.busy": "2023-04-04T14:45:06.344153Z",
     "iopub.status.idle": "2023-04-04T14:45:06.347463Z",
     "shell.execute_reply": "2023-04-04T14:45:06.347028Z"
    }
   },
   "outputs": [
    {
     "data": {
      "text/plain": [
       "array([ 9,  8,  7, -1,  5, -1,  3, -1,  1, -1])"
      ]
     },
     "execution_count": 64,
     "metadata": {},
     "output_type": "execute_result"
    }
   ],
   "source": [
    "# 順番を反転\n",
    "x[::-1]"
   ]
  },
  {
   "cell_type": "code",
   "execution_count": 65,
   "metadata": {
    "execution": {
     "iopub.execute_input": "2023-04-04T14:45:06.349297Z",
     "iopub.status.busy": "2023-04-04T14:45:06.349105Z",
     "iopub.status.idle": "2023-04-04T14:45:06.352305Z",
     "shell.execute_reply": "2023-04-04T14:45:06.351878Z"
    }
   },
   "outputs": [
    {
     "data": {
      "text/plain": [
       "9"
      ]
     },
     "execution_count": 65,
     "metadata": {},
     "output_type": "execute_result"
    }
   ],
   "source": [
    "# 最後の要素\n",
    "x[-1]"
   ]
  },
  {
   "cell_type": "code",
   "execution_count": 66,
   "metadata": {
    "execution": {
     "iopub.execute_input": "2023-04-04T14:45:06.354288Z",
     "iopub.status.busy": "2023-04-04T14:45:06.354091Z",
     "iopub.status.idle": "2023-04-04T14:45:06.357563Z",
     "shell.execute_reply": "2023-04-04T14:45:06.357080Z"
    }
   },
   "outputs": [
    {
     "data": {
      "text/plain": [
       "8"
      ]
     },
     "execution_count": 66,
     "metadata": {},
     "output_type": "execute_result"
    }
   ],
   "source": [
    "# 最後から2番目の要素\n",
    "x[-2]"
   ]
  },
  {
   "cell_type": "code",
   "execution_count": 67,
   "metadata": {
    "execution": {
     "iopub.execute_input": "2023-04-04T14:45:06.359584Z",
     "iopub.status.busy": "2023-04-04T14:45:06.359390Z",
     "iopub.status.idle": "2023-04-04T14:45:06.362815Z",
     "shell.execute_reply": "2023-04-04T14:45:06.362404Z"
    }
   },
   "outputs": [
    {
     "data": {
      "text/plain": [
       "array([1, 3, 5, 7, 9])"
      ]
     },
     "execution_count": 67,
     "metadata": {},
     "output_type": "execute_result"
    }
   ],
   "source": [
    "# インデックス配列\n",
    "i = np.arange(1, 10, 2)\n",
    "i"
   ]
  },
  {
   "cell_type": "code",
   "execution_count": 68,
   "metadata": {
    "execution": {
     "iopub.execute_input": "2023-04-04T14:45:06.364727Z",
     "iopub.status.busy": "2023-04-04T14:45:06.364526Z",
     "iopub.status.idle": "2023-04-04T14:45:06.368074Z",
     "shell.execute_reply": "2023-04-04T14:45:06.367636Z"
    }
   },
   "outputs": [
    {
     "data": {
      "text/plain": [
       "array([-1,  2, -1,  6, -1, 10, -1, 14,  8, 18])"
      ]
     },
     "execution_count": 68,
     "metadata": {},
     "output_type": "execute_result"
    }
   ],
   "source": [
    "# 指定された要素のみ2倍にする\n",
    "x[i] *= 2\n",
    "x"
   ]
  },
  {
   "cell_type": "code",
   "execution_count": 69,
   "metadata": {
    "execution": {
     "iopub.execute_input": "2023-04-04T14:45:06.369980Z",
     "iopub.status.busy": "2023-04-04T14:45:06.369764Z",
     "iopub.status.idle": "2023-04-04T14:45:06.373390Z",
     "shell.execute_reply": "2023-04-04T14:45:06.372835Z"
    }
   },
   "outputs": [
    {
     "data": {
      "text/plain": [
       "array([-1, -1, -1, -1,  8])"
      ]
     },
     "execution_count": 69,
     "metadata": {},
     "output_type": "execute_result"
    }
   ],
   "source": [
    "# 1つずらしたインデックス\n",
    "x[i-1]"
   ]
  },
  {
   "cell_type": "code",
   "execution_count": 70,
   "metadata": {
    "execution": {
     "iopub.execute_input": "2023-04-04T14:45:06.375392Z",
     "iopub.status.busy": "2023-04-04T14:45:06.375190Z",
     "iopub.status.idle": "2023-04-04T14:45:06.378782Z",
     "shell.execute_reply": "2023-04-04T14:45:06.378343Z"
    }
   },
   "outputs": [
    {
     "data": {
      "text/plain": [
       "array([[ 0,  1,  2,  3,  4],\n",
       "       [ 5,  6,  7,  8,  9],\n",
       "       [10, 11, 12, 13, 14],\n",
       "       [15, 16, 17, 18, 19]])"
      ]
     },
     "execution_count": 70,
     "metadata": {},
     "output_type": "execute_result"
    }
   ],
   "source": [
    "# 1次元配列から2次元配列にreshape\n",
    "y = np.arange(20).reshape((4, 5))\n",
    "y"
   ]
  },
  {
   "cell_type": "code",
   "execution_count": 71,
   "metadata": {
    "execution": {
     "iopub.execute_input": "2023-04-04T14:45:06.380575Z",
     "iopub.status.busy": "2023-04-04T14:45:06.380389Z",
     "iopub.status.idle": "2023-04-04T14:45:06.383630Z",
     "shell.execute_reply": "2023-04-04T14:45:06.383199Z"
    }
   },
   "outputs": [
    {
     "data": {
      "text/plain": [
       "array([0, 1, 2, 3, 4])"
      ]
     },
     "execution_count": 71,
     "metadata": {},
     "output_type": "execute_result"
    }
   ],
   "source": [
    "# ':' は全ての要素\n",
    "y[0,:]"
   ]
  },
  {
   "cell_type": "code",
   "execution_count": 72,
   "metadata": {
    "execution": {
     "iopub.execute_input": "2023-04-04T14:45:06.385472Z",
     "iopub.status.busy": "2023-04-04T14:45:06.385285Z",
     "iopub.status.idle": "2023-04-04T14:45:06.388403Z",
     "shell.execute_reply": "2023-04-04T14:45:06.387993Z"
    }
   },
   "outputs": [
    {
     "data": {
      "text/plain": [
       "array([ 1,  6, 11, 16])"
      ]
     },
     "execution_count": 72,
     "metadata": {},
     "output_type": "execute_result"
    }
   ],
   "source": [
    "# 2次元目のみ指定\n",
    "y[:,1]"
   ]
  },
  {
   "cell_type": "code",
   "execution_count": 73,
   "metadata": {
    "execution": {
     "iopub.execute_input": "2023-04-04T14:45:06.390326Z",
     "iopub.status.busy": "2023-04-04T14:45:06.390105Z",
     "iopub.status.idle": "2023-04-04T14:45:06.393606Z",
     "shell.execute_reply": "2023-04-04T14:45:06.393150Z"
    }
   },
   "outputs": [
    {
     "data": {
      "text/plain": [
       "array([[ 6,  7],\n",
       "       [11, 12]])"
      ]
     },
     "execution_count": 73,
     "metadata": {},
     "output_type": "execute_result"
    }
   ],
   "source": [
    "# 各次元の2番目から4番目の要素のみ指定\n",
    "y[1:3,1:3]"
   ]
  },
  {
   "cell_type": "code",
   "execution_count": 74,
   "metadata": {
    "execution": {
     "iopub.execute_input": "2023-04-04T14:45:06.395531Z",
     "iopub.status.busy": "2023-04-04T14:45:06.395337Z",
     "iopub.status.idle": "2023-04-04T14:45:06.398978Z",
     "shell.execute_reply": "2023-04-04T14:45:06.398527Z"
    }
   },
   "outputs": [
    {
     "data": {
      "text/plain": [
       "array([[[ 0,  1,  2],\n",
       "        [ 3,  4,  5],\n",
       "        [ 6,  7,  8]],\n",
       "\n",
       "       [[ 9, 10, 11],\n",
       "        [12, 13, 14],\n",
       "        [15, 16, 17]]])"
      ]
     },
     "execution_count": 74,
     "metadata": {},
     "output_type": "execute_result"
    }
   ],
   "source": [
    "# 1次元配列から3次元配列にreshape\n",
    "z = np.arange(18).reshape((2, 3, 3))\n",
    "z"
   ]
  },
  {
   "cell_type": "code",
   "execution_count": 75,
   "metadata": {
    "execution": {
     "iopub.execute_input": "2023-04-04T14:45:06.401037Z",
     "iopub.status.busy": "2023-04-04T14:45:06.400845Z",
     "iopub.status.idle": "2023-04-04T14:45:06.404035Z",
     "shell.execute_reply": "2023-04-04T14:45:06.403591Z"
    }
   },
   "outputs": [
    {
     "data": {
      "text/plain": [
       "array([[ 0,  3,  6],\n",
       "       [ 9, 12, 15]])"
      ]
     },
     "execution_count": 75,
     "metadata": {},
     "output_type": "execute_result"
    }
   ],
   "source": [
    "# 3次元目のみ指定\n",
    "z[...,0]"
   ]
  },
  {
   "cell_type": "code",
   "execution_count": 76,
   "metadata": {
    "execution": {
     "iopub.execute_input": "2023-04-04T14:45:06.406179Z",
     "iopub.status.busy": "2023-04-04T14:45:06.405955Z",
     "iopub.status.idle": "2023-04-04T14:45:06.409362Z",
     "shell.execute_reply": "2023-04-04T14:45:06.408926Z"
    }
   },
   "outputs": [
    {
     "data": {
      "text/plain": [
       "array([ 9, 12, 15])"
      ]
     },
     "execution_count": 76,
     "metadata": {},
     "output_type": "execute_result"
    }
   ],
   "source": [
    "# 1次元目と3次元のみ指定\n",
    "z[1,...,0]"
   ]
  },
  {
   "cell_type": "code",
   "execution_count": 77,
   "metadata": {
    "execution": {
     "iopub.execute_input": "2023-04-04T14:45:06.411133Z",
     "iopub.status.busy": "2023-04-04T14:45:06.410952Z",
     "iopub.status.idle": "2023-04-04T14:45:06.414224Z",
     "shell.execute_reply": "2023-04-04T14:45:06.413710Z"
    }
   },
   "outputs": [
    {
     "data": {
      "text/plain": [
       "array([[ 9, 10, 11],\n",
       "       [12, 13, 14],\n",
       "       [15, 16, 17]])"
      ]
     },
     "execution_count": 77,
     "metadata": {},
     "output_type": "execute_result"
    }
   ],
   "source": [
    "# 1次元目のみ指定\n",
    "z[1]"
   ]
  },
  {
   "cell_type": "code",
   "execution_count": 78,
   "metadata": {
    "execution": {
     "iopub.execute_input": "2023-04-04T14:45:06.416076Z",
     "iopub.status.busy": "2023-04-04T14:45:06.415884Z",
     "iopub.status.idle": "2023-04-04T14:45:06.419173Z",
     "shell.execute_reply": "2023-04-04T14:45:06.418735Z"
    }
   },
   "outputs": [
    {
     "data": {
      "text/plain": [
       "array([10, 10, 10, 10, 10, 10, 10, 10, 10, 10])"
      ]
     },
     "execution_count": 78,
     "metadata": {},
     "output_type": "execute_result"
    }
   ],
   "source": [
    "# 配列の全要素に代入\n",
    "x[:] = 10\n",
    "x"
   ]
  },
  {
   "cell_type": "code",
   "execution_count": 79,
   "metadata": {
    "execution": {
     "iopub.execute_input": "2023-04-04T14:45:06.420959Z",
     "iopub.status.busy": "2023-04-04T14:45:06.420781Z",
     "iopub.status.idle": "2023-04-04T14:45:06.424319Z",
     "shell.execute_reply": "2023-04-04T14:45:06.423829Z"
    }
   },
   "outputs": [
    {
     "data": {
      "text/plain": [
       "10"
      ]
     },
     "execution_count": 79,
     "metadata": {},
     "output_type": "execute_result"
    }
   ],
   "source": [
    "# 整数10をxに代入（xの配列を破棄されxはスカラーになる）\n",
    "x = 10\n",
    "x"
   ]
  },
  {
   "cell_type": "code",
   "execution_count": null,
   "metadata": {},
   "outputs": [],
   "source": []
  }
 ],
 "metadata": {
  "kernelspec": {
   "display_name": "base",
   "language": "python",
   "name": "python3"
  },
  "language_info": {
   "codemirror_mode": {
    "name": "ipython",
    "version": 3
   },
   "file_extension": ".py",
   "mimetype": "text/x-python",
   "name": "python",
   "nbconvert_exporter": "python",
   "pygments_lexer": "ipython3",
   "version": "3.8.16"
  },
  "vscode": {
   "interpreter": {
    "hash": "546c21d3de566120dda309d1397c5675600fd1cfea721af46f796ef4bbd56950"
   }
  }
 },
 "nbformat": 4,
 "nbformat_minor": 4
}
