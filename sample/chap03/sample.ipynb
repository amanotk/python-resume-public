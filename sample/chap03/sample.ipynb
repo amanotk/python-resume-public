{
 "cells": [
  {
   "cell_type": "markdown",
   "metadata": {},
   "source": [
    "# Markdownセル\n",
    "\n",
    "## 使い方\n",
    "このように文章を入力することもできます。\n",
    "$\\LaTeX$形式の数式も表示ができます。\n",
    "\n",
    "$$\n",
    "f(x) = \\frac{1}{x}\n",
    "$$"
   ]
  },
  {
   "cell_type": "code",
   "execution_count": 1,
   "metadata": {
    "execution": {
     "iopub.execute_input": "2022-05-11T09:53:48.802202Z",
     "iopub.status.busy": "2022-05-11T09:53:48.801615Z",
     "iopub.status.idle": "2022-05-11T09:53:48.806278Z",
     "shell.execute_reply": "2022-05-11T09:53:48.805754Z"
    }
   },
   "outputs": [],
   "source": [
    "import math"
   ]
  },
  {
   "cell_type": "code",
   "execution_count": 2,
   "metadata": {
    "execution": {
     "iopub.execute_input": "2022-05-11T09:53:48.810135Z",
     "iopub.status.busy": "2022-05-11T09:53:48.809693Z",
     "iopub.status.idle": "2022-05-11T09:53:48.812099Z",
     "shell.execute_reply": "2022-05-11T09:53:48.811627Z"
    }
   },
   "outputs": [],
   "source": [
    "def exp_taylor(x, n):\n",
    "    c = 1.0\n",
    "    f = 1.0\n",
    "    for i in range(n):\n",
    "        c /= (i+1)\n",
    "        f += c * x**(i+1)\n",
    "    return f"
   ]
  },
  {
   "cell_type": "code",
   "execution_count": 3,
   "metadata": {
    "execution": {
     "iopub.execute_input": "2022-05-11T09:53:48.817095Z",
     "iopub.status.busy": "2022-05-11T09:53:48.816593Z",
     "iopub.status.idle": "2022-05-11T09:53:48.821179Z",
     "shell.execute_reply": "2022-05-11T09:53:48.820795Z"
    }
   },
   "outputs": [
    {
     "name": "stdout",
     "output_type": "stream",
     "text": [
      "x     =  0.5\n",
      "1st   =  1.5\n",
      "2nd   =  1.625\n",
      "3rd   =  1.6458333333333333\n",
      "4th   =  1.6484375\n",
      "5th   =  1.6486979166666667\n",
      "6th   =  1.6487196180555554\n",
      "7th   =  1.6487211681547618\n",
      "8th   =  1.6487212650359622\n",
      "exact =  1.6487212707001282\n"
     ]
    }
   ],
   "source": [
    "x = 0.5\n",
    "print('x     = ', x)\n",
    "print('1st   = ', exp_taylor(x, 1))\n",
    "print('2nd   = ', exp_taylor(x, 2))\n",
    "print('3rd   = ', exp_taylor(x, 3))\n",
    "print('4th   = ', exp_taylor(x, 4))\n",
    "print('5th   = ', exp_taylor(x, 5))\n",
    "print('6th   = ', exp_taylor(x, 6))\n",
    "print('7th   = ', exp_taylor(x, 7))\n",
    "print('8th   = ', exp_taylor(x, 8))\n",
    "print('exact = ', math.exp(x))"
   ]
  },
  {
   "cell_type": "code",
   "execution_count": 4,
   "metadata": {
    "execution": {
     "iopub.execute_input": "2022-05-11T09:53:48.828608Z",
     "iopub.status.busy": "2022-05-11T09:53:48.827878Z",
     "iopub.status.idle": "2022-05-11T09:53:48.964069Z",
     "shell.execute_reply": "2022-05-11T09:53:48.964639Z"
    }
   },
   "outputs": [
    {
     "data": {
      "text/plain": [
       "[<matplotlib.lines.Line2D at 0x14ad6e7b4fd0>]"
      ]
     },
     "execution_count": 4,
     "metadata": {},
     "output_type": "execute_result"
    },
    {
     "data": {
      "image/png": "[encoded data removed]",
      "text/plain": [
       "<Figure size 432x288 with 1 Axes>"
      ]
     },
     "metadata": {
      "needs_background": "light"
     },
     "output_type": "display_data"
    }
   ],
   "source": [
    "# numpy\n",
    "import numpy as np\n",
    "\n",
    "# matplotlibのおまじない\n",
    "from matplotlib import pyplot as plt\n",
    "\n",
    "x = np.linspace(0.0, np.pi, 100)\n",
    "y = np.cos(x)**2\n",
    "plt.plot(x, y)"
   ]
  },
  {
   "cell_type": "code",
   "execution_count": null,
   "metadata": {},
   "outputs": [],
   "source": []
  }
 ],
 "metadata": {
  "kernelspec": {
   "display_name": "Python 3",
   "language": "python",
   "name": "python3"
  },
  "language_info": {
   "codemirror_mode": {
    "name": "ipython",
    "version": 3
   },
   "file_extension": ".py",
   "mimetype": "text/x-python",
   "name": "python",
   "nbconvert_exporter": "python",
   "pygments_lexer": "ipython3",
   "version": "3.9.7"
  }
 },
 "nbformat": 4,
 "nbformat_minor": 4
}
