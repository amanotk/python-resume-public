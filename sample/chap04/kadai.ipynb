{
 "cells": [
  {
   "attachments": {},
   "cell_type": "markdown",
   "metadata": {},
   "source": [
    "<a href=\"https://colab.research.google.com/github/amanotk/python-resume-sample/blob/main/chap04/kadai.ipynb\">\n",
    "<img src=\"https://colab.research.google.com/assets/colab-badge.svg\" style=\"vertical-align: text-top;\">\n",
    "</a>\n",
    "\n",
    "# 4. 課題解答例"
   ]
  },
  {
   "cell_type": "markdown",
   "metadata": {},
   "source": [
    "## 課題1\n",
    "なし"
   ]
  },
  {
   "cell_type": "markdown",
   "metadata": {},
   "source": [
    "## 課題2"
   ]
  },
  {
   "cell_type": "code",
   "execution_count": 1,
   "metadata": {
    "execution": {
     "iopub.execute_input": "2023-04-04T14:44:21.939172Z",
     "iopub.status.busy": "2023-04-04T14:44:21.938820Z",
     "iopub.status.idle": "2023-04-04T14:44:21.947212Z",
     "shell.execute_reply": "2023-04-04T14:44:21.946680Z"
    }
   },
   "outputs": [],
   "source": [
    "def compare(m, n):\n",
    "    \"mとnを比較する\"\n",
    "    if m == n:\n",
    "        print(m, 'is equal to', n)\n",
    "    elif m > n:\n",
    "        print(m, 'is larger than', n)\n",
    "    elif m < n:\n",
    "        print(m, 'is smaller than', n)"
   ]
  },
  {
   "cell_type": "code",
   "execution_count": 2,
   "metadata": {
    "execution": {
     "iopub.execute_input": "2023-04-04T14:44:21.949602Z",
     "iopub.status.busy": "2023-04-04T14:44:21.949377Z",
     "iopub.status.idle": "2023-04-04T14:44:21.952686Z",
     "shell.execute_reply": "2023-04-04T14:44:21.952204Z"
    }
   },
   "outputs": [
    {
     "name": "stdout",
     "output_type": "stream",
     "text": [
      "2 is larger than 1\n",
      "1 is smaller than 2\n",
      "3 is equal to 3\n"
     ]
    }
   ],
   "source": [
    "compare(2, 1)\n",
    "compare(1, 2)\n",
    "compare(3, 3)"
   ]
  },
  {
   "cell_type": "markdown",
   "metadata": {},
   "source": [
    "## 課題3"
   ]
  },
  {
   "cell_type": "code",
   "execution_count": 3,
   "metadata": {
    "execution": {
     "iopub.execute_input": "2023-04-04T14:44:21.986219Z",
     "iopub.status.busy": "2023-04-04T14:44:21.985966Z",
     "iopub.status.idle": "2023-04-04T14:44:21.989457Z",
     "shell.execute_reply": "2023-04-04T14:44:21.988730Z"
    }
   },
   "outputs": [],
   "source": [
    "def is_leapyear(year):\n",
    "    \"うるう年の判定\"\n",
    "    if year%400 == 0:\n",
    "        return True\n",
    "    elif year%100 == 0:\n",
    "        return False\n",
    "    elif year%4 == 0:\n",
    "        return True"
   ]
  },
  {
   "cell_type": "code",
   "execution_count": 4,
   "metadata": {
    "execution": {
     "iopub.execute_input": "2023-04-04T14:44:21.992351Z",
     "iopub.status.busy": "2023-04-04T14:44:21.992113Z",
     "iopub.status.idle": "2023-04-04T14:44:21.997125Z",
     "shell.execute_reply": "2023-04-04T14:44:21.996624Z"
    }
   },
   "outputs": [
    {
     "data": {
      "text/plain": [
       "True"
      ]
     },
     "execution_count": 4,
     "metadata": {},
     "output_type": "execute_result"
    }
   ],
   "source": [
    "is_leapyear(2000)"
   ]
  },
  {
   "cell_type": "markdown",
   "metadata": {},
   "source": [
    "## 課題4"
   ]
  },
  {
   "cell_type": "code",
   "execution_count": 5,
   "metadata": {
    "execution": {
     "iopub.execute_input": "2023-04-04T14:44:21.999236Z",
     "iopub.status.busy": "2023-04-04T14:44:21.999046Z",
     "iopub.status.idle": "2023-04-04T14:44:22.002416Z",
     "shell.execute_reply": "2023-04-04T14:44:22.001937Z"
    }
   },
   "outputs": [],
   "source": [
    "import math\n",
    "\n",
    "def trigonometric(n):\n",
    "    \"θ, sinθ, cosθの値を出力する\"\n",
    "    for i in range(n+1):\n",
    "        x = 180.0 * i / n\n",
    "        y1 = math.sin(x * math.pi/180.0)\n",
    "        y2 = math.cos(x * math.pi/180.0)\n",
    "        print('{:+12.3e} {:+12.3e} {:+12.3e}'.format(x, y1, y2))"
   ]
  },
  {
   "cell_type": "code",
   "execution_count": 6,
   "metadata": {
    "execution": {
     "iopub.execute_input": "2023-04-04T14:44:22.004609Z",
     "iopub.status.busy": "2023-04-04T14:44:22.004336Z",
     "iopub.status.idle": "2023-04-04T14:44:22.007604Z",
     "shell.execute_reply": "2023-04-04T14:44:22.007078Z"
    }
   },
   "outputs": [
    {
     "name": "stdout",
     "output_type": "stream",
     "text": [
      "  +0.000e+00   +0.000e+00   +1.000e+00\n",
      "  +1.000e+01   +1.736e-01   +9.848e-01\n",
      "  +2.000e+01   +3.420e-01   +9.397e-01\n",
      "  +3.000e+01   +5.000e-01   +8.660e-01\n",
      "  +4.000e+01   +6.428e-01   +7.660e-01\n",
      "  +5.000e+01   +7.660e-01   +6.428e-01\n",
      "  +6.000e+01   +8.660e-01   +5.000e-01\n",
      "  +7.000e+01   +9.397e-01   +3.420e-01\n",
      "  +8.000e+01   +9.848e-01   +1.736e-01\n",
      "  +9.000e+01   +1.000e+00   +6.123e-17\n",
      "  +1.000e+02   +9.848e-01   -1.736e-01\n",
      "  +1.100e+02   +9.397e-01   -3.420e-01\n",
      "  +1.200e+02   +8.660e-01   -5.000e-01\n",
      "  +1.300e+02   +7.660e-01   -6.428e-01\n",
      "  +1.400e+02   +6.428e-01   -7.660e-01\n",
      "  +1.500e+02   +5.000e-01   -8.660e-01\n",
      "  +1.600e+02   +3.420e-01   -9.397e-01\n",
      "  +1.700e+02   +1.736e-01   -9.848e-01\n",
      "  +1.800e+02   +1.225e-16   -1.000e+00\n"
     ]
    }
   ],
   "source": [
    "trigonometric(18)"
   ]
  },
  {
   "cell_type": "markdown",
   "metadata": {},
   "source": [
    "## 課題5"
   ]
  },
  {
   "cell_type": "code",
   "execution_count": 7,
   "metadata": {
    "execution": {
     "iopub.execute_input": "2023-04-04T14:44:22.009644Z",
     "iopub.status.busy": "2023-04-04T14:44:22.009448Z",
     "iopub.status.idle": "2023-04-04T14:44:22.012503Z",
     "shell.execute_reply": "2023-04-04T14:44:22.012079Z"
    }
   },
   "outputs": [],
   "source": [
    "def gcd(m, n):\n",
    "    \"mとnの最大公倍数を求める\"\n",
    "    if m < n:\n",
    "        r = n\n",
    "        n = m\n",
    "        m = r    \n",
    "    r = m%n\n",
    "    while r != 0:\n",
    "        m = n\n",
    "        n = r\n",
    "        r = m%n\n",
    "    return n"
   ]
  },
  {
   "cell_type": "code",
   "execution_count": 8,
   "metadata": {
    "execution": {
     "iopub.execute_input": "2023-04-04T14:44:22.014332Z",
     "iopub.status.busy": "2023-04-04T14:44:22.014145Z",
     "iopub.status.idle": "2023-04-04T14:44:22.017323Z",
     "shell.execute_reply": "2023-04-04T14:44:22.016882Z"
    }
   },
   "outputs": [
    {
     "data": {
      "text/plain": [
       "4"
      ]
     },
     "execution_count": 8,
     "metadata": {},
     "output_type": "execute_result"
    }
   ],
   "source": [
    "gcd(12, 20)"
   ]
  },
  {
   "cell_type": "markdown",
   "metadata": {},
   "source": [
    "## 課題6"
   ]
  },
  {
   "cell_type": "code",
   "execution_count": 9,
   "metadata": {
    "execution": {
     "iopub.execute_input": "2023-04-04T14:44:22.019313Z",
     "iopub.status.busy": "2023-04-04T14:44:22.019115Z",
     "iopub.status.idle": "2023-04-04T14:44:22.023377Z",
     "shell.execute_reply": "2023-04-04T14:44:22.022895Z"
    }
   },
   "outputs": [],
   "source": [
    "def approx_e(n, epsilon):\n",
    "    \"自然対数の底を級数展開を用いて求める\"\n",
    "    if n <= 1:\n",
    "        print('Error : N > 1 is not satisfied')\n",
    "        return None, None, None\n",
    "    if epsilon < 0 or epsilon > 1:\n",
    "        print('Error : 0 < epsilon < 1 is not satisfied')\n",
    "        return None, None, None\n",
    "\n",
    "    iteration = n\n",
    "    status = False\n",
    "    c = 1.0\n",
    "    e = 1.0\n",
    "    for i in range(n):\n",
    "        c /= (i+1)\n",
    "        e += c\n",
    "        if abs(e - math.e)/math.e < epsilon:\n",
    "            status = True\n",
    "            iteration = i\n",
    "            break\n",
    "    return status, iteration, e"
   ]
  },
  {
   "cell_type": "code",
   "execution_count": 10,
   "metadata": {
    "execution": {
     "iopub.execute_input": "2023-04-04T14:44:22.025395Z",
     "iopub.status.busy": "2023-04-04T14:44:22.025204Z",
     "iopub.status.idle": "2023-04-04T14:44:22.028901Z",
     "shell.execute_reply": "2023-04-04T14:44:22.028456Z"
    }
   },
   "outputs": [
    {
     "name": "stdout",
     "output_type": "stream",
     "text": [
      "Did not converge !\n",
      "N                    :                   10\n",
      "Approximated         : 2.71828180114638e+00\n",
      "Exact                : 2.71828182845905e+00\n",
      "Error                : 1.00477663102111e-08\n"
     ]
    }
   ],
   "source": [
    "status, iteration, e = approx_e(10, 1.0e-8)\n",
    "\n",
    "if status:\n",
    "    print('Converged !')\n",
    "else:\n",
    "    print('Did not converge !')\n",
    "\n",
    "print('{:20} : {:>20}'.format('N', iteration))\n",
    "print('{:20} : {:>20.14e}'.format('Approximated', e))\n",
    "print('{:20} : {:>20.14e}'.format('Exact', math.e))\n",
    "print('{:20} : {:>20.14e}'.format('Error', abs(e-math.e)/math.e))"
   ]
  },
  {
   "cell_type": "markdown",
   "metadata": {},
   "source": [
    "## 課題7"
   ]
  },
  {
   "cell_type": "code",
   "execution_count": 11,
   "metadata": {
    "execution": {
     "iopub.execute_input": "2023-04-04T14:44:22.030764Z",
     "iopub.status.busy": "2023-04-04T14:44:22.030585Z",
     "iopub.status.idle": "2023-04-04T14:44:22.033503Z",
     "shell.execute_reply": "2023-04-04T14:44:22.033074Z"
    }
   },
   "outputs": [],
   "source": [
    "def approx_sqrt(a, epsilon):\n",
    "    \"aの平方根の近似値を求める\"\n",
    "    x = a\n",
    "    err = 1.0\n",
    "    while err > epsilon:\n",
    "        dx = 0.5*(a/x - x)\n",
    "        err = abs(dx/x)\n",
    "        x += dx\n",
    "    return x"
   ]
  },
  {
   "cell_type": "code",
   "execution_count": 12,
   "metadata": {
    "execution": {
     "iopub.execute_input": "2023-04-04T14:44:22.035386Z",
     "iopub.status.busy": "2023-04-04T14:44:22.035193Z",
     "iopub.status.idle": "2023-04-04T14:44:22.038193Z",
     "shell.execute_reply": "2023-04-04T14:44:22.037704Z"
    }
   },
   "outputs": [
    {
     "name": "stdout",
     "output_type": "stream",
     "text": [
      "Approximated         : 1.41421356237469e+00\n",
      "Exact                : 1.41421356237310e+00\n"
     ]
    }
   ],
   "source": [
    "sqrta1 = approx_sqrt(2.0, 1.0e-5)\n",
    "sqrta2 = math.sqrt(2.0)\n",
    "\n",
    "print('{:20} : {:>20.14e}'.format('Approximated', sqrta1))\n",
    "print('{:20} : {:>20.14e}'.format('Exact', sqrta2))"
   ]
  },
  {
   "cell_type": "code",
   "execution_count": null,
   "metadata": {},
   "outputs": [],
   "source": []
  }
 ],
 "metadata": {
  "kernelspec": {
   "display_name": "Python 3",
   "language": "python",
   "name": "python3"
  },
  "language_info": {
   "codemirror_mode": {
    "name": "ipython",
    "version": 3
   },
   "file_extension": ".py",
   "mimetype": "text/x-python",
   "name": "python",
   "nbconvert_exporter": "python",
   "pygments_lexer": "ipython3",
   "version": "3.8.16"
  }
 },
 "nbformat": 4,
 "nbformat_minor": 4
}
