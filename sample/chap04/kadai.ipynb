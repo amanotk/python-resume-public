{
 "cells": [
  {
   "cell_type": "markdown",
   "metadata": {},
   "source": [
    "# 4. 課題解答例"
   ]
  },
  {
   "cell_type": "markdown",
   "metadata": {},
   "source": [
    "## 課題1\n",
    "なし"
   ]
  },
  {
   "cell_type": "markdown",
   "metadata": {},
   "source": [
    "## 課題2"
   ]
  },
  {
   "cell_type": "code",
   "execution_count": 1,
   "metadata": {
    "execution": {
     "iopub.execute_input": "2022-04-15T01:52:00.199987Z",
     "iopub.status.busy": "2022-04-15T01:52:00.196225Z",
     "iopub.status.idle": "2022-04-15T01:52:00.204077Z",
     "shell.execute_reply": "2022-04-15T01:52:00.203242Z"
    }
   },
   "outputs": [],
   "source": [
    "def compare(m, n):\n",
    "    \"mとnを比較する\"\n",
    "    if m == n:\n",
    "        print(m, 'is equal to', n)\n",
    "    elif m > n:\n",
    "        print(m, 'is larger than', n)\n",
    "    elif m < n:\n",
    "        print(m, 'is smaller than', n)"
   ]
  },
  {
   "cell_type": "code",
   "execution_count": 2,
   "metadata": {
    "execution": {
     "iopub.execute_input": "2022-04-15T01:52:00.208048Z",
     "iopub.status.busy": "2022-04-15T01:52:00.207263Z",
     "iopub.status.idle": "2022-04-15T01:52:00.210510Z",
     "shell.execute_reply": "2022-04-15T01:52:00.210867Z"
    }
   },
   "outputs": [
    {
     "name": "stdout",
     "output_type": "stream",
     "text": [
      "2 is larger than 1\n",
      "1 is smaller than 2\n",
      "3 is equal to 3\n"
     ]
    }
   ],
   "source": [
    "compare(2, 1)\n",
    "compare(1, 2)\n",
    "compare(3, 3)"
   ]
  },
  {
   "cell_type": "markdown",
   "metadata": {},
   "source": [
    "## 課題3"
   ]
  },
  {
   "cell_type": "code",
   "execution_count": 3,
   "metadata": {
    "execution": {
     "iopub.execute_input": "2022-04-15T01:52:00.214175Z",
     "iopub.status.busy": "2022-04-15T01:52:00.212598Z",
     "iopub.status.idle": "2022-04-15T01:52:00.216091Z",
     "shell.execute_reply": "2022-04-15T01:52:00.216443Z"
    }
   },
   "outputs": [],
   "source": [
    "def is_leapyear(year):\n",
    "    \"うるう年の判定\"\n",
    "    if year%400 == 0:\n",
    "        return True\n",
    "    elif year%100 == 0:\n",
    "        return False\n",
    "    elif year%4 == 0:\n",
    "        return True"
   ]
  },
  {
   "cell_type": "code",
   "execution_count": 4,
   "metadata": {
    "execution": {
     "iopub.execute_input": "2022-04-15T01:52:00.221549Z",
     "iopub.status.busy": "2022-04-15T01:52:00.221128Z",
     "iopub.status.idle": "2022-04-15T01:52:00.224748Z",
     "shell.execute_reply": "2022-04-15T01:52:00.225106Z"
    }
   },
   "outputs": [
    {
     "data": {
      "text/plain": [
       "True"
      ]
     },
     "execution_count": 4,
     "metadata": {},
     "output_type": "execute_result"
    }
   ],
   "source": [
    "is_leapyear(2000)"
   ]
  },
  {
   "cell_type": "markdown",
   "metadata": {},
   "source": [
    "## 課題4"
   ]
  },
  {
   "cell_type": "code",
   "execution_count": 5,
   "metadata": {
    "execution": {
     "iopub.execute_input": "2022-04-15T01:52:00.229237Z",
     "iopub.status.busy": "2022-04-15T01:52:00.228792Z",
     "iopub.status.idle": "2022-04-15T01:52:00.231080Z",
     "shell.execute_reply": "2022-04-15T01:52:00.230711Z"
    }
   },
   "outputs": [],
   "source": [
    "import math\n",
    "\n",
    "def trigonometric(n):\n",
    "    \"θ, sinθ, cosθの値を出力する\"\n",
    "    for i in range(n+1):\n",
    "        x = 180.0 * i / n\n",
    "        y1 = math.sin(x * math.pi/180.0)\n",
    "        y2 = math.cos(x * math.pi/180.0)\n",
    "        print('{:+12.3e} {:+12.3e} {:+12.3e}'.format(x, y1, y2))"
   ]
  },
  {
   "cell_type": "code",
   "execution_count": 6,
   "metadata": {
    "execution": {
     "iopub.execute_input": "2022-04-15T01:52:00.233979Z",
     "iopub.status.busy": "2022-04-15T01:52:00.233558Z",
     "iopub.status.idle": "2022-04-15T01:52:00.238053Z",
     "shell.execute_reply": "2022-04-15T01:52:00.238586Z"
    }
   },
   "outputs": [
    {
     "name": "stdout",
     "output_type": "stream",
     "text": [
      "  +0.000e+00   +0.000e+00   +1.000e+00\n",
      "  +1.000e+01   +1.736e-01   +9.848e-01\n",
      "  +2.000e+01   +3.420e-01   +9.397e-01\n",
      "  +3.000e+01   +5.000e-01   +8.660e-01\n",
      "  +4.000e+01   +6.428e-01   +7.660e-01\n",
      "  +5.000e+01   +7.660e-01   +6.428e-01\n",
      "  +6.000e+01   +8.660e-01   +5.000e-01\n",
      "  +7.000e+01   +9.397e-01   +3.420e-01\n",
      "  +8.000e+01   +9.848e-01   +1.736e-01\n",
      "  +9.000e+01   +1.000e+00   +6.123e-17\n",
      "  +1.000e+02   +9.848e-01   -1.736e-01\n",
      "  +1.100e+02   +9.397e-01   -3.420e-01\n",
      "  +1.200e+02   +8.660e-01   -5.000e-01\n",
      "  +1.300e+02   +7.660e-01   -6.428e-01\n",
      "  +1.400e+02   +6.428e-01   -7.660e-01\n",
      "  +1.500e+02   +5.000e-01   -8.660e-01\n",
      "  +1.600e+02   +3.420e-01   -9.397e-01\n",
      "  +1.700e+02   +1.736e-01   -9.848e-01\n",
      "  +1.800e+02   +1.225e-16   -1.000e+00\n"
     ]
    }
   ],
   "source": [
    "trigonometric(18)"
   ]
  },
  {
   "cell_type": "markdown",
   "metadata": {},
   "source": [
    "## 課題5"
   ]
  },
  {
   "cell_type": "code",
   "execution_count": 7,
   "metadata": {
    "execution": {
     "iopub.execute_input": "2022-04-15T01:52:00.243121Z",
     "iopub.status.busy": "2022-04-15T01:52:00.242451Z",
     "iopub.status.idle": "2022-04-15T01:52:00.244669Z",
     "shell.execute_reply": "2022-04-15T01:52:00.244102Z"
    }
   },
   "outputs": [],
   "source": [
    "def gcd(m, n):\n",
    "    \"mとnの最大公倍数を求める\"\n",
    "    if m < n:\n",
    "        r = n\n",
    "        n = m\n",
    "        m = r    \n",
    "    r = m%n\n",
    "    while r != 0:\n",
    "        m = n\n",
    "        n = r\n",
    "        r = m%n\n",
    "    return n"
   ]
  },
  {
   "cell_type": "code",
   "execution_count": 8,
   "metadata": {
    "execution": {
     "iopub.execute_input": "2022-04-15T01:52:00.247892Z",
     "iopub.status.busy": "2022-04-15T01:52:00.247450Z",
     "iopub.status.idle": "2022-04-15T01:52:00.249598Z",
     "shell.execute_reply": "2022-04-15T01:52:00.249952Z"
    }
   },
   "outputs": [
    {
     "data": {
      "text/plain": [
       "4"
      ]
     },
     "execution_count": 8,
     "metadata": {},
     "output_type": "execute_result"
    }
   ],
   "source": [
    "gcd(12, 20)"
   ]
  },
  {
   "cell_type": "markdown",
   "metadata": {},
   "source": [
    "## 課題6"
   ]
  },
  {
   "cell_type": "code",
   "execution_count": 9,
   "metadata": {
    "execution": {
     "iopub.execute_input": "2022-04-15T01:52:00.254980Z",
     "iopub.status.busy": "2022-04-15T01:52:00.254549Z",
     "iopub.status.idle": "2022-04-15T01:52:00.256829Z",
     "shell.execute_reply": "2022-04-15T01:52:00.256405Z"
    }
   },
   "outputs": [],
   "source": [
    "def approx_e(n, epsilon):\n",
    "    \"自然対数の底を級数展開を用いて求める\"\n",
    "    if n <= 1:\n",
    "        print('Error : N > 1 is not satisfied')\n",
    "        return None, None, None\n",
    "    if epsilon < 0 or epsilon > 1:\n",
    "        print('Error : 0 < epsilon < 1 is not satisfied')\n",
    "        return None, None, None\n",
    "\n",
    "    iteration = n\n",
    "    status = False\n",
    "    c = 1.0\n",
    "    e = 1.0\n",
    "    for i in range(n):\n",
    "        c /= (i+1)\n",
    "        e += c\n",
    "        if abs(e - math.e)/math.e < epsilon:\n",
    "            status = True\n",
    "            iteration = i\n",
    "            break\n",
    "    return status, iteration, e"
   ]
  },
  {
   "cell_type": "code",
   "execution_count": 10,
   "metadata": {
    "execution": {
     "iopub.execute_input": "2022-04-15T01:52:00.261276Z",
     "iopub.status.busy": "2022-04-15T01:52:00.260850Z",
     "iopub.status.idle": "2022-04-15T01:52:00.263694Z",
     "shell.execute_reply": "2022-04-15T01:52:00.263269Z"
    },
    "scrolled": true
   },
   "outputs": [
    {
     "name": "stdout",
     "output_type": "stream",
     "text": [
      "Did not converge !\n",
      "N                    :                   10\n",
      "Approximated         : 2.71828180114638e+00\n",
      "Exact                : 2.71828182845905e+00\n",
      "Error                : 1.00477663102111e-08\n"
     ]
    }
   ],
   "source": [
    "status, iteration, e = approx_e(10, 1.0e-8)\n",
    "\n",
    "if status:\n",
    "    print('Converged !')\n",
    "else:\n",
    "    print('Did not converge !')\n",
    "\n",
    "print('{:20} : {:>20}'.format('N', iteration))\n",
    "print('{:20} : {:>20.14e}'.format('Approximated', e))\n",
    "print('{:20} : {:>20.14e}'.format('Exact', math.e))\n",
    "print('{:20} : {:>20.14e}'.format('Error', abs(e-math.e)/math.e))"
   ]
  },
  {
   "cell_type": "markdown",
   "metadata": {},
   "source": [
    "## 課題7"
   ]
  },
  {
   "cell_type": "code",
   "execution_count": 11,
   "metadata": {
    "execution": {
     "iopub.execute_input": "2022-04-15T01:52:00.267531Z",
     "iopub.status.busy": "2022-04-15T01:52:00.267006Z",
     "iopub.status.idle": "2022-04-15T01:52:00.269154Z",
     "shell.execute_reply": "2022-04-15T01:52:00.268732Z"
    }
   },
   "outputs": [],
   "source": [
    "def approx_sqrt(a, epsilon):\n",
    "    \"aの平方根の近似値を求める\"\n",
    "    x = a\n",
    "    err = 1.0\n",
    "    while err > epsilon:\n",
    "        dx = 0.5*(a/x - x)\n",
    "        err = abs(dx/x)\n",
    "        x += dx\n",
    "    return x"
   ]
  },
  {
   "cell_type": "code",
   "execution_count": 12,
   "metadata": {
    "execution": {
     "iopub.execute_input": "2022-04-15T01:52:00.272616Z",
     "iopub.status.busy": "2022-04-15T01:52:00.272166Z",
     "iopub.status.idle": "2022-04-15T01:52:00.274962Z",
     "shell.execute_reply": "2022-04-15T01:52:00.274538Z"
    }
   },
   "outputs": [
    {
     "name": "stdout",
     "output_type": "stream",
     "text": [
      "Approximated         : 1.41421356237469e+00\n",
      "Exact                : 1.41421356237310e+00\n"
     ]
    }
   ],
   "source": [
    "sqrta1 = approx_sqrt(2.0, 1.0e-5)\n",
    "sqrta2 = math.sqrt(2.0)\n",
    "\n",
    "print('{:20} : {:>20.14e}'.format('Approximated', sqrta1))\n",
    "print('{:20} : {:>20.14e}'.format('Exact', sqrta2))"
   ]
  },
  {
   "cell_type": "code",
   "execution_count": null,
   "metadata": {},
   "outputs": [],
   "source": []
  }
 ],
 "metadata": {
  "kernelspec": {
   "display_name": "Python 3",
   "language": "python",
   "name": "python3"
  },
  "language_info": {
   "codemirror_mode": {
    "name": "ipython",
    "version": 3
   },
   "file_extension": ".py",
   "mimetype": "text/x-python",
   "name": "python",
   "nbconvert_exporter": "python",
   "pygments_lexer": "ipython3",
   "version": "3.9.7"
  }
 },
 "nbformat": 4,
 "nbformat_minor": 4
}
