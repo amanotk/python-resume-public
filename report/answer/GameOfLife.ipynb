{
 "cells": [
  {
   "cell_type": "markdown",
   "metadata": {},
   "source": [
    "# 課題3. ライフゲーム (Conway's Game of Life)\n",
    "\n",
    "2次元のセル・オートマトンとして，ライフゲーム(Conway's Game of Life)というモデルが知られている．  \n",
    "詳細は[Wikipedia](https://ja.wikipedia.org/wiki/%E3%83%A9%E3%82%A4%E3%83%95%E3%82%B2%E3%83%BC%E3%83%A0)などを適宜参照のこと．\n",
    "\n",
    "2次元領域 $N_y \\times N_x$ のセルの状態を $z_{i,j} (i=1, \\ldots, N_y, j=1, \\ldots, N_x)$ で表し，セルの状態が0の時を死，1の時を生と定義し，与えられたセルの状態から次の世代のセルの生死を次のようなルールで決定しよう．\n",
    "\n",
    "- あるセルが死んでいる場合，そのセルに隣接する生きたセルがちょうど3つあれば，次の世代で生，そうでなければ死となる．\n",
    "- あるセルが生きている場合，そのセルに隣接する生きたセルが2つか3つならば、次の世代で生，そうでなければ死となる．\n",
    "\n",
    "このような極めて単純なルールでありながら，ライフゲームには複雑な(生命体のような)振る舞いをするパターンが多数知られている．\n",
    "このライフゲームを実装してみよう．\n",
    "\n",
    "とは言っても表示部分をイチから作るのは少し大変なので，関数 `update_cells()` を現在のセルの状態をルールに基づき更新する関数として実装するだけでよい．  \n",
    "この `update_cells()` には引数として2次元配列 $z_{i,j}$ が与えられるので，更新した状態でこの配列を上書きすればよい．  \n",
    "なお，$z_{i,j}$ の配列形状は $(N_y+2, N_x+2)$ となっており，両端の余分な領域は境界条件を表す「のりしろ」である．\n",
    "境界条件は自動で設定されるので， `update_cells()` では $i = {1, \\ldots, N_y}, j = {1, \\ldots, N_x}$ の領域のみ更新すればよい．\n",
    "\n",
    "## 注意\n",
    "jupyter-labを使っていてこのNotebookが上手く動かない人は\n",
    "```bash\n",
    "  $ jupyter labextension install @jupyter-widgets/jupyterlab-manager\n",
    "```\n",
    "によって拡張機能をインストールする必要があるかもしれない．"
   ]
  },
  {
   "cell_type": "code",
   "execution_count": 1,
   "metadata": {},
   "outputs": [],
   "source": [
    "# 定数\n",
    "BASE_URL  = 'https://amanotk.github.io/python-resume-public/report/data/'\n",
    "LOCAL_DIR = None\n",
    "N_DEFAULT = 512\n",
    "BC_TYPE   = 0"
   ]
  },
  {
   "cell_type": "code",
   "execution_count": 2,
   "metadata": {},
   "outputs": [],
   "source": [
    "#\n",
    "# このセルはこのままにしておくこと\n",
    "#\n",
    "from IPython.display import display, Markdown\n",
    "import ipywidgets as widgets\n",
    "\n",
    "import numpy as np\n",
    "from matplotlib import pyplot as plt\n",
    "\n",
    "import os\n",
    "import io\n",
    "import re\n",
    "import urllib.request\n",
    "from bs4 import BeautifulSoup\n",
    "\n",
    "\n",
    "mdtext = \\\n",
    "'''\n",
    "### 読み込み結果\n",
    "{:s}\n",
    "\n",
    "### ファイルの説明\n",
    "{:s}\n",
    "'''\n",
    "\n",
    "class GameOfLife:\n",
    "    # static data\n",
    "    bctype  = BC_TYPE\n",
    "    datadir = LOCAL_DIR\n",
    "    baseurl = BASE_URL\n",
    "    lifeurl = baseurl + 'life/'\n",
    "    listurl = baseurl + 'lifelist.html'\n",
    "\n",
    "    def __init__(self, Ny, Nx, update):\n",
    "        self.Ny     = Ny\n",
    "        self.Nx     = Nx\n",
    "        self.update = update\n",
    "        self.file   = None\n",
    "        self.init_widgets()\n",
    "\n",
    "    def find_file_url(self, url, ext):\n",
    "        with urllib.request.urlopen(url) as response:\n",
    "            html = response.read().decode('utf-8')\n",
    "            soup = BeautifulSoup(html, 'html.parser')\n",
    "            file = []\n",
    "            for link in soup.find_all('a'):\n",
    "                f = link.attrs['href']\n",
    "                if re.match(r'^.+\\.'+ext+'$', f) is not None:\n",
    "                    file.append(os.path.basename(f))\n",
    "            file.sort()\n",
    "            return file\n",
    "        \n",
    "    def find_file_dir(self, datadir, ext):\n",
    "        file = []\n",
    "        for f in os.listdir(datadir):\n",
    "            if re.match(r'^.+\\.'+ext+'$', f) is not None:\n",
    "                file.append(os.path.basename(f))\n",
    "        file.sort()\n",
    "        return file\n",
    "            \n",
    "    def init_widgets(self):\n",
    "        maxint = np.iinfo(np.int32).max\n",
    "        # UI\n",
    "        play   = widgets.Play(value=0, min=0, max=maxint, step=1, interval=100,\n",
    "                              disabled=False, show_repeat=False)\n",
    "        label1 = widgets.Label(value='世代:',\n",
    "                               layout=widgets.Layout(width='50px',\n",
    "                                                     display='flex',\n",
    "                                                     justify_content='flex-end'))\n",
    "        label2 = widgets.Label(value='',\n",
    "                               layout=widgets.Layout(width='350px',\n",
    "                                                     display='flex',\n",
    "                                                     justify_content='center'))\n",
    "        label3 = widgets.Output(layout={\n",
    "                                        'border' : '0px solid black',\n",
    "                                        'width' : '400px',\n",
    "                                        })\n",
    "        select = widgets.Dropdown(options=['Random'], value='Random',\n",
    "                                  description='初期値:', disabled=False,\n",
    "                                  style=dict(description_width='50px'),\n",
    "                                  layout=widgets.Layout(width='400px'))\n",
    "        self.init_select(select)\n",
    "        self.ui = dict(play=play, label1=label1, label2=label2, label3=label3, select=select)\n",
    "        # interactive\n",
    "        output = widgets.interactive_output(self.display_plot, {'generation' : play, 'file' : select})\n",
    "        self.output = output\n",
    "        # layout\n",
    "        box1 = widgets.Box([label1, label2],\n",
    "                           layout=widgets.Layout(display='flex',\n",
    "                                                 flex_flow='row',\n",
    "                                                 justify_content='flex-end',\n",
    "                                                 align_items='flex-end'))\n",
    "        box2 = widgets.Box([play, select, box1, label3],\n",
    "                           layout=widgets.Layout(display='flex',\n",
    "                                                 flex_flow='column',\n",
    "                                                 justify_content='flex-start',\n",
    "                                                 align_items='center'))\n",
    "        box3 = widgets.Box([box2, output],\n",
    "                           layout=widgets.Layout(display='flex',\n",
    "                                                 flex_flow='row',\n",
    "                                                 justify_content='center',\n",
    "                                                 align_items='center'))\n",
    "        self.widget = box3\n",
    " \n",
    "    def init_select(self, select):\n",
    "        options = ['Random']\n",
    "        if self.datadir is not None:\n",
    "            options.extend(self.find_file_dir(self.datadir, 'lif'))\n",
    "        else:\n",
    "            options.extend(self.find_file_url(self.listurl, 'lif'))\n",
    "        select.options = options\n",
    "        select.value = 'Random'\n",
    "        self.file = None\n",
    "        select.observe(self.on_file_select, names='value')                  \n",
    "        \n",
    "    def on_file_select(self, change):\n",
    "        if change.new == 'Random':\n",
    "            self.file = None\n",
    "        else:\n",
    "            self.file = change.new\n",
    "        self.ui['play'].value = 0\n",
    "        \n",
    "    def load(self, file, ny, nx):\n",
    "        data = np.zeros((ny+2, nx+2), np.int32)\n",
    "\n",
    "        if file == 'Random':\n",
    "            # 乱数で初期化\n",
    "            data[1:ny+1,1:nx+1] = np.random.randint(0, 2, size=(ny, nx))\n",
    "            with self.ui['label3']:\n",
    "                self.ui['label3'].clear_output()\n",
    "        elif os.path.exists(file):\n",
    "            # ローカルファイル\n",
    "            with open(file, 'r') as fp:\n",
    "                self.read_life(fp, data)\n",
    "        else:\n",
    "            # Web\n",
    "            with urllib.request.urlopen(self.lifeurl + file) as response:\n",
    "                fp = io.StringIO(response.read().decode('utf-8'))\n",
    "                self.read_life(fp, data)\n",
    "\n",
    "        return data\n",
    "\n",
    "    def check_read_life(self, ix, iy, nx, ny):\n",
    "        if ix >= 1 and ix <= nx and iy >= 1 and iy <= ny:\n",
    "            return True, ix, iy\n",
    "        else:\n",
    "            ix = min(max(ix, 0), nx+1)\n",
    "            iy = min(max(iy, 0), ny+1)\n",
    "            return False, ix, iy\n",
    "\n",
    "    def read_life(self, fp, data):\n",
    "        ny = data.shape[0] - 2\n",
    "        nx = data.shape[1] - 2\n",
    "        yoffset = ny//2\n",
    "        xoffset = nx//2\n",
    "        line = fp.readline().lstrip().rstrip()\n",
    "        status = True\n",
    "        description = ''\n",
    "        while line:\n",
    "            if len(line) >= 2 and line[0] == '#':\n",
    "                if line[0:2] == '#P':\n",
    "                    origin = [int(x) for x in line[2:].split()]\n",
    "                    if len(origin) != 2:\n",
    "                        raise ValueError('Unrecognized format')\n",
    "                    yo = yoffset + origin[1]\n",
    "                    xo = xoffset + origin[0]\n",
    "                    s, xo, yo = self.check_read_life(xo, yo, nx, ny)\n",
    "                    status &= s\n",
    "                elif line[0:2] == '#D':\n",
    "                    description += '{:s}\\n'.format(line[2:].lstrip().rstrip())\n",
    "                else:\n",
    "                    pass # それ以外のコメント行は無視\n",
    "            elif len(line) == 1 and line[0] == '#':\n",
    "                pass\n",
    "            else:\n",
    "                # データ読み込み\n",
    "                ss = line.replace('.', '0').replace('*', '1')\n",
    "                for i in range(len(ss)):\n",
    "                    ix = xo + i\n",
    "                    s, ix, yo = self.check_read_life(ix, yo, nx, ny)\n",
    "                    status &= s\n",
    "                    data[yo,ix] = int(ss[i])\n",
    "                # 境界条件\n",
    "                yo = yo + 1\n",
    "                s, ix, yo = self.check_read_life(ix, yo, nx, ny)\n",
    "                status &= s\n",
    "            # 次の行へ\n",
    "            line = fp.readline().lstrip().rstrip()\n",
    "\n",
    "        if status:\n",
    "            status_string = '成功!'\n",
    "        else:\n",
    "            status_string = '失敗!（領域サイズが小さい?）'\n",
    "    \n",
    "        self.md = mdtext.format(status_string, description)\n",
    "        with self.ui['label3']:\n",
    "            self.ui['label3'].clear_output()\n",
    "            display(Markdown(self.md))\n",
    "\n",
    "        return data\n",
    "\n",
    "    def display_plot(self, generation, file):\n",
    "        self.ui['label2'].value = '{:d}'.format(generation)\n",
    "        iy, ix = np.mgrid[1:self.Ny+1,1:self.Nx+1]\n",
    "        if generation == 0:\n",
    "            # 初期化\n",
    "            self.fig = plt.figure(figsize=(10, 10))\n",
    "            self.axs = plt.subplot()\n",
    "            self.axs.set_aspect('equal')\n",
    "            self.axs.set_xticks([])\n",
    "            self.axs.set_yticks([])\n",
    "            self.data = self.load(file, self.Ny, self.Nx)\n",
    "            self.set_boundary(self.data)\n",
    "            self.img = plt.imshow(self.data[iy,ix], cmap=plt.cm.gray_r)\n",
    "            return\n",
    "        # アップデート\n",
    "        self.update(self.data)\n",
    "        self.set_boundary(self.data)\n",
    "        self.img.set_array(self.data[iy,ix])\n",
    "        display(self.fig)\n",
    "\n",
    "    def display_app(self):\n",
    "        display(self.widget)\n",
    "        \n",
    "    def set_boundary(self, data):\n",
    "        ny = data.shape[0] - 2\n",
    "        nx = data.shape[1] - 2\n",
    "        if self.bctype == 0:\n",
    "            ### 常にゼロ\n",
    "            data[   0,:] = 0\n",
    "            data[ny+1,:] = 0\n",
    "            data[:,   0] = 0\n",
    "            data[:,nx+1] = 0\n",
    "        else:\n",
    "            ### 周期境界条件\n",
    "            data[   0,:] = data[ny,:]\n",
    "            data[ny+1,:] = data[ 1,:]\n",
    "            data[:,   0] = data[:,nx]\n",
    "            data[:,nx+1] = data[:, 1]\n"
   ]
  },
  {
   "cell_type": "code",
   "execution_count": 3,
   "metadata": {},
   "outputs": [
    {
     "data": {
      "application/vnd.jupyter.widget-view+json": {
       "model_id": "1fc5933ac7934d93ae58e5121f7eda8f",
       "version_major": 2,
       "version_minor": 0
      },
      "text/plain": [
       "Box(children=(Box(children=(Play(value=0, max=2147483647, show_repeat=False), Dropdown(description='初期値:', lay…"
      ]
     },
     "metadata": {},
     "output_type": "display_data"
    }
   ],
   "source": [
    "def update_cells(data):\n",
    "    # 与えられた2次元配列dataを次の状態に更新する関数\n",
    "    # dataに新しい状態を上書きすればよい\n",
    "    pass\n",
    "\n",
    "# 表示\n",
    "gol = GameOfLife(N_DEFAULT, N_DEFAULT, update_cells)\n",
    "gol.display_app()"
   ]
  },
  {
   "cell_type": "markdown",
   "metadata": {},
   "source": [
    "## 発展編\n",
    "\n",
    "領域が大きくなると関数 `update_cells()` の実装によってはスムーズにアニメーションが動かないだろう．  \n",
    "Pythonのforループで素朴に実装した場合とNumPyの配列演算を使った場合で実行時間を比較してみよう．  \n",
    "また[Namba](http://numba.pydata.org/)，[f2py](https://numpy.org/doc/stable/f2py/)，[Cython](https://cython.org/)などを使ってパフォーマンスを比較してみても面白いだろう．  \n",
    "この中ではNambaがおそらく一番簡単である．Cythonはモジュールとして実装するのが必須なため少々面倒である．  \n",
    "\n",
    "なお，手元で簡単に計測してみたところPythonのループで素朴に実装した場合に比べてNumPy配列を使った実装は約36倍高速であった．  \n",
    "nambaとf2pyはほぼ同じ速度で，NumPy配列を使った場合に比べて更に約27倍高速になった．  \n",
    "ただし，これは実装方法や環境に依存するものなのであくまでも目安である．\n",
    "\n",
    "実行時間の計測には様々な方法があるが，以下のように `%timeit` を使うのが簡単だろう．"
   ]
  },
  {
   "cell_type": "code",
   "execution_count": 4,
   "metadata": {},
   "outputs": [
    {
     "name": "stdout",
     "output_type": "stream",
     "text": [
      "67 ns ± 0.48 ns per loop (mean ± std. dev. of 7 runs, 10000000 loops each)\n"
     ]
    }
   ],
   "source": [
    "ny, nx = 1024, 1024\n",
    "data = np.random.randint(0, 2, size=(ny+2, nx+2))\n",
    "%timeit update_cells(data)"
   ]
  },
  {
   "cell_type": "markdown",
   "metadata": {},
   "source": [
    "### 素朴な実装"
   ]
  },
  {
   "cell_type": "code",
   "execution_count": 5,
   "metadata": {},
   "outputs": [
    {
     "data": {
      "application/vnd.jupyter.widget-view+json": {
       "model_id": "e5ec232c1f824e62a9f5c582e9400aaf",
       "version_major": 2,
       "version_minor": 0
      },
      "text/plain": [
       "Box(children=(Box(children=(Play(value=0, max=2147483647, show_repeat=False), Dropdown(description='初期値:', lay…"
      ]
     },
     "metadata": {},
     "output_type": "display_data"
    }
   ],
   "source": [
    "def update_slow(data):\n",
    "    ny = data.shape[0] - 2\n",
    "    nx = data.shape[1] - 2\n",
    "    temp = data.copy()\n",
    "    for iy in range(1, ny+1):\n",
    "        for ix in range(1, nx+1):\n",
    "            count = data[iy+1,ix+1] + data[iy+1,ix  ] + data[iy+1,ix-1] + \\\n",
    "                    data[iy  ,ix+1]                   + data[iy  ,ix-1] + \\\n",
    "                    data[iy-1,ix+1] + data[iy-1,ix  ] + data[iy-1,ix-1]\n",
    "            if (data[iy,ix] == 0 and count == 3) or \\\n",
    "               (data[iy,ix] == 1 and count == 2) or \\\n",
    "               (data[iy,ix] == 1 and count == 3):\n",
    "                temp[iy,ix] = 1\n",
    "            else:\n",
    "                temp[iy,ix] = 0\n",
    "    data[:,:] = temp[:,:]\n",
    "\n",
    "# 表示\n",
    "gol = GameOfLife(N_DEFAULT, N_DEFAULT, update_slow)\n",
    "gol.display_app()"
   ]
  },
  {
   "cell_type": "markdown",
   "metadata": {},
   "source": [
    "### NumPyを用いた実装"
   ]
  },
  {
   "cell_type": "code",
   "execution_count": 6,
   "metadata": {},
   "outputs": [
    {
     "data": {
      "application/vnd.jupyter.widget-view+json": {
       "model_id": "248df4968fb7400895208039dcd8508f",
       "version_major": 2,
       "version_minor": 0
      },
      "text/plain": [
       "Box(children=(Box(children=(Play(value=0, max=2147483647, show_repeat=False), Dropdown(description='初期値:', lay…"
      ]
     },
     "metadata": {},
     "output_type": "display_data"
    }
   ],
   "source": [
    "def update_numpy(data):\n",
    "    ny = data.shape[0] - 2\n",
    "    nx = data.shape[1] - 2\n",
    "    iy, ix = np.mgrid[1:ny+1,1:nx+1]\n",
    "    state = data[iy,ix]\n",
    "    count = data[iy+1,ix+1] + data[iy+1,ix  ] + data[iy+1,ix-1] + \\\n",
    "            data[iy  ,ix+1]                   + data[iy  ,ix-1] + \\\n",
    "            data[iy-1,ix+1] + data[iy-1,ix  ] + data[iy-1,ix-1]\n",
    "    alive = ((state == 0) & (count == 3)) | \\\n",
    "            ((state == 1) & (count == 2)) | \\\n",
    "            ((state == 1) & (count == 3))\n",
    "    state[ alive] = 1\n",
    "    state[~alive] = 0\n",
    "    data[iy,ix] = state\n",
    "\n",
    "# let's play ;p\n",
    "gol = GameOfLife(N_DEFAULT, N_DEFAULT, update_numpy)\n",
    "gol.display_app()"
   ]
  },
  {
   "cell_type": "markdown",
   "metadata": {},
   "source": [
    "### Nambaによる高速化\n",
    "\n",
    "`update_slow()` をそのままnambaで高速化してみる．  \n",
    "（最初の1回はコンパイルするの時間がかかることに注意）"
   ]
  },
  {
   "cell_type": "code",
   "execution_count": 7,
   "metadata": {},
   "outputs": [
    {
     "data": {
      "application/vnd.jupyter.widget-view+json": {
       "model_id": "a558867a20744942a55001366036bbc1",
       "version_major": 2,
       "version_minor": 0
      },
      "text/plain": [
       "Box(children=(Box(children=(Play(value=0, max=2147483647, show_repeat=False), Dropdown(description='初期値:', lay…"
      ]
     },
     "metadata": {},
     "output_type": "display_data"
    }
   ],
   "source": [
    "import numba\n",
    "\n",
    "@numba.jit(nopython=True)\n",
    "def update_namba(data):\n",
    "    ny = data.shape[0] - 2\n",
    "    nx = data.shape[1] - 2\n",
    "    temp = data.copy()\n",
    "    for iy in range(1, ny+1):\n",
    "        for ix in range(1, nx+1):\n",
    "            count = data[iy+1,ix+1] + data[iy+1,ix  ] + data[iy+1,ix-1] + \\\n",
    "                    data[iy  ,ix+1]                   + data[iy  ,ix-1] + \\\n",
    "                    data[iy-1,ix+1] + data[iy-1,ix  ] + data[iy-1,ix-1]\n",
    "            if (data[iy,ix] == 0 and count == 3) or \\\n",
    "               (data[iy,ix] == 1 and count == 2) or \\\n",
    "               (data[iy,ix] == 1 and count == 3):\n",
    "                temp[iy,ix] = 1\n",
    "            else:\n",
    "                temp[iy,ix] = 0\n",
    "    data[:,:] = temp[:,:]\n",
    "\n",
    "# 一度呼び出しておく\n",
    "update_namba(np.zeros((N_DEFAULT+2, N_DEFAULT+2), dtype=np.int32))\n",
    "\n",
    "# 表示\n",
    "gol = GameOfLife(N_DEFAULT, N_DEFAULT, update_namba)\n",
    "gol.display_app()"
   ]
  },
  {
   "cell_type": "markdown",
   "metadata": {},
   "source": [
    "### f2pyによる高速化"
   ]
  },
  {
   "cell_type": "code",
   "execution_count": 8,
   "metadata": {},
   "outputs": [
    {
     "data": {
      "application/vnd.jupyter.widget-view+json": {
       "model_id": "6465cf58e23b4377b4d782e93f215efe",
       "version_major": 2,
       "version_minor": 0
      },
      "text/plain": [
       "Box(children=(Box(children=(Play(value=0, max=2147483647, show_repeat=False), Dropdown(description='初期値:', lay…"
      ]
     },
     "metadata": {},
     "output_type": "display_data"
    }
   ],
   "source": [
    "from numpy import f2py\n",
    "\n",
    "# 以下のFortranサブルーチンをコンパイルしてPythonから呼び出す\n",
    "f90src = \\\n",
    "'''\n",
    "subroutine update_f2py(data, temp, nx, ny)\n",
    "  implicit none\n",
    "  integer, intent(in)  :: data(nx+2, ny+2)\n",
    "  integer, intent(out) :: temp(nx+2, ny+2)\n",
    "  integer, intent(in)  :: nx, ny\n",
    "\n",
    "  integer :: ix, iy, count\n",
    "\n",
    "  do iy = 2, ny+1\n",
    "     do ix = 2, nx+1\n",
    "        count = data(ix+1,iy+1) + data(ix+1,iy  ) + data(ix+1,iy-1) + &\n",
    "             &  data(ix  ,iy+1)                   + data(ix  ,iy-1) + &\n",
    "             &  data(ix-1,iy+1) + data(ix-1,iy  ) + data(ix-1,iy-1)\n",
    "        if(    (data(ix,iy) == 0 .and. count == 3) .or. &\n",
    "             & (data(ix,iy) == 1 .and. count == 2) .or. &\n",
    "             & (data(ix,iy) == 1 .and. count == 3) ) then\n",
    "           temp(ix,iy) = 1\n",
    "        else\n",
    "           temp(ix,iy) = 0\n",
    "        end if\n",
    "     end do\n",
    "  end do\n",
    "  \n",
    "end subroutine update_f2py\n",
    "'''\n",
    "f2py.compile(f90src, modulename='gol', verbose=0, extension='.f90')\n",
    "\n",
    "def update_f2py(data):\n",
    "    import gol\n",
    "    reload(gol)\n",
    "    ny = data.shape[0] - 2\n",
    "    nx = data.shape[0] - 2\n",
    "    temp = np.zeros_like(data)\n",
    "    temp = gol.update_f2py(data, [nx, ny])\n",
    "    data[...] = temp\n",
    "    \n",
    "# 表示\n",
    "gol = GameOfLife(N_DEFAULT, N_DEFAULT, update_f2py)\n",
    "gol.display_app()"
   ]
  },
  {
   "cell_type": "code",
   "execution_count": 9,
   "metadata": {},
   "outputs": [
    {
     "name": "stdout",
     "output_type": "stream",
     "text": [
      "4.23 s ± 43.4 ms per loop (mean ± std. dev. of 7 runs, 1 loop each)\n"
     ]
    }
   ],
   "source": [
    "# update_slowの時間計測\n",
    "ny, nx = 1024, 1024\n",
    "data = np.random.randint(0, 2, size=(ny+2, nx+2))\n",
    "%timeit update_slow(data)"
   ]
  },
  {
   "cell_type": "code",
   "execution_count": 10,
   "metadata": {},
   "outputs": [
    {
     "name": "stdout",
     "output_type": "stream",
     "text": [
      "126 ms ± 499 µs per loop (mean ± std. dev. of 7 runs, 10 loops each)\n"
     ]
    }
   ],
   "source": [
    "# update_numpyの時間計測\n",
    "ny, nx = 1024, 1024\n",
    "data = np.random.randint(0, 2, size=(ny+2, nx+2))\n",
    "%timeit update_numpy(data)"
   ]
  },
  {
   "cell_type": "code",
   "execution_count": 11,
   "metadata": {},
   "outputs": [
    {
     "name": "stdout",
     "output_type": "stream",
     "text": [
      "7.44 ms ± 152 µs per loop (mean ± std. dev. of 7 runs, 100 loops each)\n"
     ]
    }
   ],
   "source": [
    "# update_nambaの時間計測\n",
    "ny, nx = 1024, 1024\n",
    "data = np.random.randint(0, 2, size=(ny+2, nx+2))\n",
    "update_namba(data) # 一度呼び出しておくとキャッシュする?\n",
    "%timeit update_namba(data)"
   ]
  },
  {
   "cell_type": "code",
   "execution_count": 12,
   "metadata": {},
   "outputs": [
    {
     "name": "stdout",
     "output_type": "stream",
     "text": [
      "7.35 ms ± 214 µs per loop (mean ± std. dev. of 7 runs, 100 loops each)\n"
     ]
    }
   ],
   "source": [
    "# update_f2pyの時間計測\n",
    "ny, nx = 1024, 1024\n",
    "data = np.random.randint(0, 2, size=(ny+2, nx+2))\n",
    "%timeit update_namba(data)"
   ]
  },
  {
   "cell_type": "code",
   "execution_count": null,
   "metadata": {},
   "outputs": [],
   "source": []
  }
 ],
 "metadata": {
  "kernelspec": {
   "display_name": "Python 3",
   "language": "python",
   "name": "python3"
  },
  "language_info": {
   "codemirror_mode": {
    "name": "ipython",
    "version": 3
   },
   "file_extension": ".py",
   "mimetype": "text/x-python",
   "name": "python",
   "nbconvert_exporter": "python",
   "pygments_lexer": "ipython3",
   "version": "3.7.10"
  }
 },
 "nbformat": 4,
 "nbformat_minor": 4
}
